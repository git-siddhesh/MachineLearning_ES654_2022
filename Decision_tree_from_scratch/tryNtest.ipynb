{
 "cells": [
  {
   "cell_type": "code",
   "execution_count": 2,
   "metadata": {},
   "outputs": [
    {
     "name": "stdout",
     "output_type": "stream",
     "text": [
      "0\n"
     ]
    }
   ],
   "source": [
    "for i in range(1):\n",
    "    print(i)"
   ]
  },
  {
   "cell_type": "code",
   "execution_count": null,
   "id": "53329930",
   "metadata": {},
   "outputs": [],
   "source": []
  },
  {
   "cell_type": "code",
   "execution_count": 3,
   "id": "ed2cb834",
   "metadata": {},
   "outputs": [
    {
     "name": "stdout",
     "output_type": "stream",
     "text": [
      "f1\n",
      "f2\n"
     ]
    }
   ],
   "source": [
    "def f1():\n",
    "    print(\"f1\")\n",
    "def f2():\n",
    "    print(\"f2\")\n",
    "\n",
    "function_names = vars()\n",
    "names = ['f1', 'f2']\n",
    "\n",
    "for name in names:\n",
    "    function_names[name]()"
   ]
  },
  {
   "cell_type": "code",
   "execution_count": 3,
   "id": "8df12df2",
   "metadata": {},
   "outputs": [
    {
     "data": {
      "text/plain": [
       "3"
      ]
     },
     "execution_count": 3,
     "metadata": {},
     "output_type": "execute_result"
    }
   ],
   "source": [
    "import pandas as pd\n",
    "\n",
    "s1 = pd.Series([1,2,3,4,5])\n",
    "s2 = pd.Series([1,2,4,3,5])\n",
    "\n",
    "pd.Series(s1 == s2).value_counts()[True]\n",
    "\n"
   ]
  },
  {
   "cell_type": "code",
   "execution_count": null,
   "id": "2bfc5770",
   "metadata": {},
   "outputs": [],
   "source": [
    "from sklearn.metrics import confusion_matrix\n",
    "y_true = [2, 0, 2, 2, 0, 1]\n",
    "y_pred = [0, 0, 2, 2, 0, 2]\n",
    "confusion_matrix(y_true, y_pred)"
   ]
  },
  {
   "cell_type": "code",
   "execution_count": 12,
   "id": "af826d43",
   "metadata": {},
   "outputs": [
    {
     "name": "stdout",
     "output_type": "stream",
     "text": [
      "0    5\n",
      "1   -1\n",
      "2   -1\n",
      "3    1\n",
      "4   -3\n",
      "dtype: int64\n",
      "0    25\n",
      "1     1\n",
      "2     1\n",
      "3     1\n",
      "4     9\n",
      "dtype: int64\n",
      "7.4\n",
      "2.7202941017470885\n"
     ]
    }
   ],
   "source": [
    "import pandas as pd\n",
    "\n",
    "s1 = pd.Series([1,2,3,4,5])\n",
    "s2 = pd.Series([-4,3,4,3,8])\n",
    "\n",
    "error = s1-s2\n",
    "print(error)\n",
    "square_err = error**2\n",
    "print(square_err)\n",
    "mean_square_error = square_err.mean()\n",
    "print(mean_square_error)\n",
    "rmse = mean_square_error**0.5\n",
    "print(rmse)\n"
   ]
  },
  {
   "cell_type": "code",
   "execution_count": 13,
   "id": "68c758f4",
   "metadata": {},
   "outputs": [
    {
     "name": "stdout",
     "output_type": "stream",
     "text": [
      "2.2\n"
     ]
    }
   ],
   "source": [
    "abs_error = abs(s1-s2)\n",
    "mean_abs_error = abs_error.mean()\n",
    "print(mean_abs_error)"
   ]
  },
  {
   "cell_type": "code",
   "execution_count": 15,
   "id": "0d18df30",
   "metadata": {},
   "outputs": [
    {
     "data": {
      "text/plain": [
       "array([ 8,  9, 10,  3,  6,  2,  1,  4,  5], dtype=int64)"
      ]
     },
     "execution_count": 15,
     "metadata": {},
     "output_type": "execute_result"
    }
   ],
   "source": [
    "sr = pd.Series([8, 9, 10,3,6,3,2,6,8,1,4,2,3,5,5,3,6,8,4,8,4,3,2,6,8,4,2,6,8])\n",
    "sr.unique()"
   ]
  },
  {
   "cell_type": "code",
   "execution_count": 105,
   "id": "76b6c397",
   "metadata": {},
   "outputs": [],
   "source": [
    "\n",
    "Xd = pd.DataFrame({'a': ['A','B','A','A','B'], 'b': ['C','C','D','D','C']})\n",
    "Yr = pd.Series([1, 2, 3, 4, 5])\n",
    "Xr = pd.DataFrame({'a': [2.5,2.4,3.2,2.25,3.5], 'b': [1.5,0.6,3.2,4.25,5.5]})\n"
   ]
  },
  {
   "cell_type": "code",
   "execution_count": 106,
   "id": "6f89969e",
   "metadata": {},
   "outputs": [],
   "source": [
    "import numpy as np\n",
    "import pandas as pd\n",
    "\n",
    "def reduction_in_variance(Y: pd.Series, attr: pd.Series) -> float:\n",
    "    \"\"\"\n",
    "    Function to calculate the reduction in variance\n",
    "    \"\"\"\n",
    "    if len(Y) == 0:\n",
    "        return 0\n",
    "    # For discrete input data - continuous output data\n",
    "    if attr.dtype == \"object\":\n",
    "        attr = attr.astype('category')\n",
    "        class_count = attr.value_counts()\n",
    "        gain = np.var(Y)\n",
    "        for c in class_count.index:\n",
    "            gain -= (class_count[c]/len(Y)) * np.var(Y[attr == c])\n",
    "        return gain\n",
    "    \n",
    "    # For continuous input data - continuous output data\n",
    "    \n",
    "    else:\n",
    "        # TODO sort Y and attr by attr \n",
    "        df = pd.DataFrame({'attr': attr, 'Y': Y})\n",
    "        df = df.sort_values(by=['attr'])\n",
    "\n",
    "        print(df)\n",
    "        print()\n",
    "\n",
    "        df['attr'].astype('float')\n",
    "        if len(Y) == 1:\n",
    "            return 0\n",
    "        max_gain = 0\n",
    "        split_value = df['Y'][0]\n",
    "        gain_of_y = np.var(df['Y'])\n",
    "        for y in range(len(Y)-1):\n",
    "            split = (df['Y'][y] + df['Y'][y+1])/2\n",
    "            gain = gain_of_y \n",
    "            gain -= (len(df['Y'][df['attr'] <= split])/len(Y)) * np.var(df['Y'][df['attr'] <= split])\n",
    "            gain -= (len(df['Y'][df['attr'] > split])/len(Y)) * np.var(df['Y'][df['attr'] > split])\n",
    "            if gain > max_gain:\n",
    "                max_gain = gain\n",
    "                split_value = split\n",
    "        return max_gain , split_value\n",
    "\n",
    "\n"
   ]
  },
  {
   "cell_type": "code",
   "execution_count": 107,
   "id": "f59c451a",
   "metadata": {},
   "outputs": [
    {
     "name": "stdout",
     "output_type": "stream",
     "text": [
      "0.16666666666666685\n",
      "0.16666666666666638\n",
      "   attr  Y\n",
      "3  2.25  4\n",
      "1  2.40  2\n",
      "0  2.50  1\n",
      "2  3.20  3\n",
      "4  3.50  5\n",
      "\n",
      "(0.6666666666666669, 2.5)\n",
      "   attr  Y\n",
      "1  0.60  2\n",
      "0  1.50  1\n",
      "2  3.20  3\n",
      "3  4.25  4\n",
      "4  5.50  5\n",
      "\n",
      "(1.5, 1.5)\n"
     ]
    }
   ],
   "source": [
    "print(reduction_in_variance(Yr, Xd['a']))\n",
    "print(reduction_in_variance(Yr, Xd['b']))\n",
    "print(reduction_in_variance(Yr, Xr['a']))\n",
    "print(reduction_in_variance(Yr, Xr['b']))"
   ]
  },
  {
   "attachments": {},
   "cell_type": "markdown",
   "id": "137d77b7",
   "metadata": {},
   "source": [
    "# Check the information gain and entropy function"
   ]
  },
  {
   "attachments": {},
   "cell_type": "markdown",
   "id": "e5b61874",
   "metadata": {},
   "source": []
  },
  {
   "cell_type": "code",
   "execution_count": 127,
   "id": "f7cee09a",
   "metadata": {},
   "outputs": [],
   "source": [
    "Xd = pd.DataFrame({'a': ['B','B','A','A','B', 'B', 'A'], 'b': ['C','C','D','D','C','D','D']})\n",
    "Yd = pd.Series(['Y', 'N', 'Y', 'Y', 'N', 'N', 'N'])\n",
    "Xr = pd.DataFrame({'a': [0.5,2.4,3.2,2.25,3.5,1.5,1.76], 'b': [1.5,0.6,3.2,4.25,5.5,6.9,10.0]})\n"
   ]
  },
  {
   "cell_type": "code",
   "execution_count": 128,
   "id": "fbff1e59",
   "metadata": {},
   "outputs": [],
   "source": [
    "def entropy(Y: pd.Series) -> float:\n",
    "    \"\"\"\n",
    "    Function to calculate the entropy\n",
    "    \"\"\"\n",
    "    class_counter = dict() \n",
    "    for y in Y:\n",
    "        class_counter[y] = class_counter.get(y,0) + 1\n",
    "\n",
    "    entropy = 0\n",
    "    for y in class_counter:\n",
    "        p = class_counter[y]/len(Y)\n",
    "        entropy -= p * np.log2(p)\n",
    "\n",
    "    return entropy"
   ]
  },
  {
   "cell_type": "code",
   "execution_count": 129,
   "id": "ec7a5517",
   "metadata": {},
   "outputs": [],
   "source": [
    "\n",
    "def information_gain(Y: pd.Series, attr: pd.Series) -> float:\n",
    "    \"\"\"\n",
    "    Function to calculate the information gain\n",
    "    \"\"\"\n",
    "    if len(Y) == 0:\n",
    "        return 0\n",
    "    \n",
    "    if attr.dtype == \"object\":\n",
    "        attr = attr.astype('category')\n",
    "        # attr = attr.cat.codes\n",
    "        class_count = attr.value_counts()\n",
    "        gain = entropy(Y)\n",
    "        for c in class_count.index:\n",
    "            gain -= (class_count[c]/len(Y)) * entropy(Y[attr == c])\n",
    "\n",
    "        return gain\n",
    "    \n",
    "    else:\n",
    "        attr = attr.astype('float')\n",
    "        gain = entropy(Y)\n",
    "\n",
    "        # TODO sort Y and attr by attr \n",
    "        df = pd.DataFrame({'attr': attr, 'Y': Y})\n",
    "        df = df.sort_values(by=['attr'])\n",
    "\n",
    "        print(df)\n",
    "        print()\n",
    "\n",
    "        # df['attr'].astype('float')\n",
    "        if len(Y) == 1:\n",
    "            return 0\n",
    "\n",
    "        max_gain = 0\n",
    "        # split_value = df['Y'][0]\n",
    "        gain_of_y = entropy(df['Y'])\n",
    "        for y in range(len(Y)-1):\n",
    "            if df['Y'][y] == df['Y'][y+1]:\n",
    "                continue\n",
    "            split = (df['attr'][y] + df['attr'][y+1])/2\n",
    "            gain = gain_of_y\n",
    "            gain -= (len(df['Y'][df['attr'] <= split])/len(Y)) * entropy(df['Y'][df['attr'] <= split])\n",
    "            gain -= (len(df['Y'][df['attr'] > split])/len(Y)) * entropy(df['Y'][df['attr'] > split])\n",
    "            if gain > max_gain:\n",
    "                max_gain = gain\n",
    "                split_value = split\n",
    "        return max_gain , split_value\n",
    "        \n",
    "        # for c in attr.unique():\n",
    "        #     gain -= (len(Y[attr == c])/len(Y)) * entropy(Y[attr == c])\n",
    "        # return gain\n"
   ]
  },
  {
   "cell_type": "code",
   "execution_count": 130,
   "id": "400a2da1",
   "metadata": {},
   "outputs": [
    {
     "name": "stdout",
     "output_type": "stream",
     "text": [
      "0.12808527889139443\n",
      "0.020244207153756077\n",
      "   attr  Y\n",
      "0  0.50  Y\n",
      "5  1.50  N\n",
      "6  1.76  N\n",
      "3  2.25  Y\n",
      "1  2.40  N\n",
      "2  3.20  Y\n",
      "4  3.50  N\n",
      "\n",
      "(0.19811742113040343, 1.45)\n",
      "    attr  Y\n",
      "1   0.60  N\n",
      "0   1.50  Y\n",
      "2   3.20  Y\n",
      "3   4.25  Y\n",
      "4   5.50  N\n",
      "5   6.90  N\n",
      "6  10.00  N\n",
      "\n",
      "(0.5216406363433185, 4.875)\n"
     ]
    }
   ],
   "source": [
    "print(information_gain(Yd, Xd['a']))\n",
    "print(information_gain(Yd, Xd['b']))\n",
    "\n",
    "print(information_gain(Yd, Xr['a']))\n",
    "print(information_gain(Yd, Xr['b']))"
   ]
  },
  {
   "cell_type": "code",
   "execution_count": null,
   "id": "d38501a7",
   "metadata": {},
   "outputs": [],
   "source": []
  },
  {
   "attachments": {},
   "cell_type": "markdown",
   "id": "4d686c7d",
   "metadata": {},
   "source": [
    "# Gini index \n"
   ]
  },
  {
   "cell_type": "code",
   "execution_count": 133,
   "id": "67fa0838",
   "metadata": {},
   "outputs": [],
   "source": [
    "def gini_index(Y: pd.Series) -> float:\n",
    "    \"\"\"\n",
    "    Function to calculate the gini index\n",
    "    \"\"\"\n",
    "    class_counter = Y.value_counts()\n",
    "    gini = 1\n",
    "    for y in class_counter.index:\n",
    "        p = class_counter[y]/len(Y)\n",
    "        gini -= p**2         \n",
    "    \n",
    "    return gini"
   ]
  },
  {
   "cell_type": "code",
   "execution_count": 134,
   "id": "a991065b",
   "metadata": {},
   "outputs": [],
   "source": [
    "def avg_gini_coefficient(Y: pd.Series, X: pd.Series) -> float:\n",
    "    \"\"\"\n",
    "    Function to calculate the average gini coefficient\n",
    "    \"\"\"\n",
    "    if len(Y) == 0:\n",
    "        return 0\n",
    "    \n",
    "    if X.dtype == \"object\":\n",
    "        X = X.astype('category')\n",
    "        class_count = X.value_counts()\n",
    "        weighted_gini = 0\n",
    "        for c in class_count.index:\n",
    "            weighted_gini += (class_count[c]/len(Y)) * gini_index(Y[X == c]) \n",
    "        return weighted_gini, None      \n",
    "\n",
    "    else:\n",
    "        X = X.astype('float')\n",
    "        # TODO sort Y and attr by attr \n",
    "        df = pd.DataFrame({'attr': X, 'Y': Y})\n",
    "        df = df.sort_values(by=['attr'])\n",
    "\n",
    "        print(df)\n",
    "        print()\n",
    "\n",
    "        if len(Y) == 1:\n",
    "            return 0\n",
    "\n",
    "        min_gini = 1\n",
    "        split_value = df['Y'][0]\n",
    "        gini_of_y = gini_index(df['Y'])\n",
    "        for y in range(len(Y)-1):\n",
    "            \n",
    "            if df['Y'][y] == df['Y'][y+1]:\n",
    "                continue\n",
    "            split = (df['attr'][y] + df['attr'][y+1])/2\n",
    "            weighted_gini = 0\n",
    "            weighted_gini += (len(df['Y'][df['attr'] <= split])/len(Y) * gini_index(Y[X <= split]))\n",
    "            weighted_gini += (len(df['Y'][df['attr'] > split])/len(Y) * gini_index(Y[X > split])) \n",
    "\n",
    "            if weighted_gini < min_gini:\n",
    "                min_gini = weighted_gini\n",
    "                split_value = split\n",
    "        return min_gini , split_value"
   ]
  },
  {
   "cell_type": "code",
   "execution_count": 135,
   "id": "185d5cc5",
   "metadata": {},
   "outputs": [
    {
     "name": "stdout",
     "output_type": "stream",
     "text": [
      "(0.40476190476190477, None)\n",
      "(0.47619047619047616, None)\n",
      "   attr  Y\n",
      "0  0.50  Y\n",
      "5  1.50  N\n",
      "6  1.76  N\n",
      "3  2.25  Y\n",
      "1  2.40  N\n",
      "2  3.20  Y\n",
      "4  3.50  N\n",
      "\n",
      "(0.38095238095238093, 1.45)\n",
      "    attr  Y\n",
      "1   0.60  N\n",
      "0   1.50  Y\n",
      "2   3.20  Y\n",
      "3   4.25  Y\n",
      "4   5.50  N\n",
      "5   6.90  N\n",
      "6  10.00  N\n",
      "\n",
      "(0.21428571428571427, 4.875)\n"
     ]
    }
   ],
   "source": [
    "print(avg_gini_coefficient(Yd, Xd['a']))\n",
    "print(avg_gini_coefficient(Yd, Xd['b']))\n",
    "print(avg_gini_coefficient(Yd, Xr['a']))\n",
    "print(avg_gini_coefficient(Yd, Xr['b']))"
   ]
  },
  {
   "cell_type": "code",
   "execution_count": null,
   "id": "8772691d",
   "metadata": {},
   "outputs": [],
   "source": []
  },
  {
   "attachments": {},
   "cell_type": "markdown",
   "id": "bfe64edf",
   "metadata": {},
   "source": [
    "# CHECK the type of input and output"
   ]
  },
  {
   "cell_type": "code",
   "execution_count": 147,
   "id": "45ef3be0",
   "metadata": {},
   "outputs": [],
   "source": [
    "Y1 = pd.Series(['Y', 'N', 'Y', 'Y', 'N', 'N', 'N'])\n",
    "X1 = pd.DataFrame({'a': ['B','B','A','A','B', 'B', 'A'], 'b': ['C','C','D','D','C','D','D']})\n",
    "Y2 = pd.Series([1,2,3,4,5,6,7])\n",
    "X2 = pd.DataFrame({'a': [0.5,2.4,3.2,2.25,3.5,1.5,1.76], 'b': [1.5,0.6,3.2,4.25,5.5,6.9,10.0]})\n",
    "X3 = pd.DataFrame({'a': [0.5,2.4,3.2,2.25,3.5,1.5,1.76], 'b': ['C','C','D','D','C','D','D']})"
   ]
  },
  {
   "cell_type": "code",
   "execution_count": 146,
   "id": "bcb2cb9b",
   "metadata": {},
   "outputs": [
    {
     "data": {
      "text/plain": [
       "True"
      ]
     },
     "execution_count": 146,
     "metadata": {},
     "output_type": "execute_result"
    }
   ],
   "source": [
    "X1.dtypes[0] == object"
   ]
  },
  {
   "cell_type": "code",
   "execution_count": 145,
   "id": "5acb4b6c",
   "metadata": {},
   "outputs": [
    {
     "data": {
      "text/plain": [
       "a    False\n",
       "b    False\n",
       "dtype: bool"
      ]
     },
     "execution_count": 145,
     "metadata": {},
     "output_type": "execute_result"
    }
   ],
   "source": [
    "X2.dtypes == 'object'"
   ]
  },
  {
   "cell_type": "code",
   "execution_count": 143,
   "id": "21bb3554",
   "metadata": {},
   "outputs": [
    {
     "data": {
      "text/plain": [
       "True"
      ]
     },
     "execution_count": 143,
     "metadata": {},
     "output_type": "execute_result"
    }
   ],
   "source": [
    "Y1.dtypes == 'object'"
   ]
  },
  {
   "cell_type": "code",
   "execution_count": 144,
   "id": "3ec7aa85",
   "metadata": {},
   "outputs": [
    {
     "data": {
      "text/plain": [
       "False"
      ]
     },
     "execution_count": 144,
     "metadata": {},
     "output_type": "execute_result"
    }
   ],
   "source": [
    "Y2.dtypes == 'object'"
   ]
  },
  {
   "cell_type": "code",
   "execution_count": 151,
   "id": "fb88d560",
   "metadata": {},
   "outputs": [
    {
     "data": {
      "text/plain": [
       "False"
      ]
     },
     "execution_count": 151,
     "metadata": {},
     "output_type": "execute_result"
    }
   ],
   "source": [
    "X3.dtypes[0] == 'object'"
   ]
  },
  {
   "cell_type": "code",
   "execution_count": 152,
   "id": "c3b607ba",
   "metadata": {},
   "outputs": [
    {
     "data": {
      "text/plain": [
       "True"
      ]
     },
     "execution_count": 152,
     "metadata": {},
     "output_type": "execute_result"
    }
   ],
   "source": [
    "X3.dtypes[1] == 'object'"
   ]
  },
  {
   "cell_type": "code",
   "execution_count": 162,
   "id": "111c2aba",
   "metadata": {},
   "outputs": [
    {
     "name": "stdout",
     "output_type": "stream",
     "text": [
      "    a   b   c\n",
      "0  10   1   1\n",
      "1   2   2   2\n",
      "2   3   3   3\n",
      "3   4   4   4\n",
      "4   5   5   5\n",
      "5   6   6   6\n",
      "6   7   7   7\n",
      "7   8   8   8\n",
      "8   9   9   9\n",
      "9  10  10  10\n"
     ]
    }
   ],
   "source": [
    "def f(s):\n",
    "    s['a'][0] = 10\n",
    "\n",
    "import pandas as pd\n",
    "\n",
    "s = pd.DataFrame({'a': [1,2,3,4,5,6,7,8,9,10], 'b': [1,2,3,4,5,6,7,8,9,10], 'c': [1,2,3,4,5,6,7,8,9,10]})\n",
    "# delete a column from dataframe\n",
    "s1 = s.copy()\n",
    "del s1['a']\n",
    "f(s)\n",
    "print(s)"
   ]
  },
  {
   "cell_type": "code",
   "execution_count": 164,
   "id": "743c27bb",
   "metadata": {},
   "outputs": [
    {
     "name": "stdout",
     "output_type": "stream",
     "text": [
      "10\n",
      "9\n",
      "8\n",
      "7\n",
      "6\n",
      "5\n",
      "4\n",
      "3\n",
      "2\n",
      "1\n"
     ]
    }
   ],
   "source": [
    "class C:\n",
    "    def __init__(self,limit):\n",
    "        self.a = limit\n",
    "        self.next = None\n",
    "\n",
    "def f(limit):\n",
    "    if limit == 0:\n",
    "        return\n",
    "    c = C(limit)\n",
    "    c.next = f(limit-1)\n",
    "    return c\n",
    "\n",
    "c = f(10)\n",
    "\n",
    "i = 0\n",
    "while(c != None and i < 10):\n",
    "    print(c.a)\n",
    "    c = c.next\n",
    "    i+=1"
   ]
  },
  {
   "cell_type": "code",
   "execution_count": 165,
   "id": "83453c57",
   "metadata": {},
   "outputs": [],
   "source": [
    "condition = 5==6"
   ]
  },
  {
   "cell_type": "code",
   "execution_count": 166,
   "id": "e47b1915",
   "metadata": {},
   "outputs": [
    {
     "data": {
      "text/plain": [
       "False"
      ]
     },
     "execution_count": 166,
     "metadata": {},
     "output_type": "execute_result"
    }
   ],
   "source": [
    "condition"
   ]
  },
  {
   "cell_type": "code",
   "execution_count": 168,
   "id": "cdb66300",
   "metadata": {},
   "outputs": [],
   "source": [
    "class Condition:\n",
    "    def __init__(self,logical_operator,value):\n",
    "        self.logical_operator = logical_operator\n",
    "        self.value = value\n",
    "    \n",
    "    def evaluate(self,operand):\n",
    "        if self.logical_operator == '==':\n",
    "            return operand == self.value\n",
    "        elif self.logical_operator == '!=':\n",
    "            return operand != self.value\n",
    "        elif self.logical_operator == '>':\n",
    "            return operand > self.value\n",
    "        elif self.logical_operator == '<':\n",
    "            return operand < self.value\n",
    "        elif self.logical_operator == '>=':\n",
    "            return operand >= self.value\n",
    "        elif self.logical_operator == '<=':\n",
    "            return operand <= self.value\n",
    "        elif self.logical_operator == 'in':\n",
    "            return operand in self.value\n",
    "        elif self.logical_operator == 'not in':\n",
    "            return operand not in self.value\n",
    "        elif self.logical_operator == 'is':\n",
    "            return operand is self.value\n",
    "        elif self.logical_operator == 'is not':\n",
    "            return operand is not self.value\n",
    "        elif self.logical_operator == 'and':\n",
    "            return operand and self.value\n",
    "        elif self.logical_operator == 'or':\n",
    "            return operand or self.value\n",
    "        elif self.logical_operator == 'not':\n",
    "            return not operand\n",
    "\n"
   ]
  },
  {
   "cell_type": "code",
   "execution_count": 169,
   "id": "41416bae",
   "metadata": {},
   "outputs": [
    {
     "data": {
      "text/plain": [
       "True"
      ]
     },
     "execution_count": 169,
     "metadata": {},
     "output_type": "execute_result"
    }
   ],
   "source": [
    "c = Condition('==',5)\n",
    "c.evaluate(5)"
   ]
  },
  {
   "cell_type": "code",
   "execution_count": 7,
   "id": "f1a6fa22",
   "metadata": {},
   "outputs": [
    {
     "data": {
      "text/plain": [
       "(1, 'a', 1.0)"
      ]
     },
     "execution_count": 7,
     "metadata": {},
     "output_type": "execute_result"
    }
   ],
   "source": [
    "from dataclasses import dataclass\n",
    "\n",
    "@dataclass\n",
    "class A:\n",
    "    p: int\n",
    "    q: str\n",
    "    r: float\n",
    "\n",
    "    def f(self) -> (int, str, float):\n",
    "        return self.p, self.q, self.r\n",
    "\n",
    "a = A(1, 'a', 1.0)\n",
    "\n",
    "a.f()"
   ]
  },
  {
   "cell_type": "code",
   "execution_count": 9,
   "id": "55ec1112",
   "metadata": {},
   "outputs": [
    {
     "data": {
      "text/html": [
       "<div>\n",
       "<style scoped>\n",
       "    .dataframe tbody tr th:only-of-type {\n",
       "        vertical-align: middle;\n",
       "    }\n",
       "\n",
       "    .dataframe tbody tr th {\n",
       "        vertical-align: top;\n",
       "    }\n",
       "\n",
       "    .dataframe thead th {\n",
       "        text-align: right;\n",
       "    }\n",
       "</style>\n",
       "<table border=\"1\" class=\"dataframe\">\n",
       "  <thead>\n",
       "    <tr style=\"text-align: right;\">\n",
       "      <th></th>\n",
       "      <th>a</th>\n",
       "      <th>b</th>\n",
       "      <th>c</th>\n",
       "    </tr>\n",
       "  </thead>\n",
       "  <tbody>\n",
       "    <tr>\n",
       "      <th>4</th>\n",
       "      <td>1</td>\n",
       "      <td>1</td>\n",
       "      <td>1</td>\n",
       "    </tr>\n",
       "    <tr>\n",
       "      <th>1</th>\n",
       "      <td>2</td>\n",
       "      <td>2</td>\n",
       "      <td>2</td>\n",
       "    </tr>\n",
       "    <tr>\n",
       "      <th>7</th>\n",
       "      <td>3</td>\n",
       "      <td>3</td>\n",
       "      <td>3</td>\n",
       "    </tr>\n",
       "    <tr>\n",
       "      <th>12</th>\n",
       "      <td>4</td>\n",
       "      <td>4</td>\n",
       "      <td>4</td>\n",
       "    </tr>\n",
       "    <tr>\n",
       "      <th>88</th>\n",
       "      <td>5</td>\n",
       "      <td>5</td>\n",
       "      <td>5</td>\n",
       "    </tr>\n",
       "    <tr>\n",
       "      <th>3</th>\n",
       "      <td>6</td>\n",
       "      <td>6</td>\n",
       "      <td>6</td>\n",
       "    </tr>\n",
       "    <tr>\n",
       "      <th>2</th>\n",
       "      <td>7</td>\n",
       "      <td>7</td>\n",
       "      <td>7</td>\n",
       "    </tr>\n",
       "    <tr>\n",
       "      <th>9</th>\n",
       "      <td>8</td>\n",
       "      <td>8</td>\n",
       "      <td>8</td>\n",
       "    </tr>\n",
       "    <tr>\n",
       "      <th>10</th>\n",
       "      <td>9</td>\n",
       "      <td>9</td>\n",
       "      <td>9</td>\n",
       "    </tr>\n",
       "    <tr>\n",
       "      <th>5</th>\n",
       "      <td>10</td>\n",
       "      <td>10</td>\n",
       "      <td>10</td>\n",
       "    </tr>\n",
       "  </tbody>\n",
       "</table>\n",
       "</div>"
      ],
      "text/plain": [
       "     a   b   c\n",
       "4    1   1   1\n",
       "1    2   2   2\n",
       "7    3   3   3\n",
       "12   4   4   4\n",
       "88   5   5   5\n",
       "3    6   6   6\n",
       "2    7   7   7\n",
       "9    8   8   8\n",
       "10   9   9   9\n",
       "5   10  10  10"
      ]
     },
     "execution_count": 9,
     "metadata": {},
     "output_type": "execute_result"
    }
   ],
   "source": [
    "import pandas as pd\n",
    "\n",
    "df = pd.DataFrame({'a': [1,2,3,4,5,6,7,8,9,10], 'b': [1,2,3,4,5,6,7,8,9,10], 'c': [1,2,3,4,5,6,7,8,9,10]}, index=[4,1,7,12,88,3,2,9,10,5])\n",
    "df"
   ]
  },
  {
   "cell_type": "code",
   "execution_count": 14,
   "id": "674277bc",
   "metadata": {},
   "outputs": [
    {
     "data": {
      "text/plain": [
       "pandas.core.series.Series"
      ]
     },
     "execution_count": 14,
     "metadata": {},
     "output_type": "execute_result"
    }
   ],
   "source": [
    "# for i in range(len(df)-1):\n",
    "#     print(df['c'].iloc[i])\n",
    "\n",
    "type(df.iloc[0])"
   ]
  },
  {
   "cell_type": "code",
   "execution_count": 4,
   "id": "e66b4afb",
   "metadata": {},
   "outputs": [
    {
     "data": {
      "text/plain": [
       "4     False\n",
       "1     False\n",
       "7     False\n",
       "12    False\n",
       "88    False\n",
       "3     False\n",
       "2     False\n",
       "9     False\n",
       "10    False\n",
       "5      True\n",
       "Name: a, dtype: bool"
      ]
     },
     "execution_count": 4,
     "metadata": {},
     "output_type": "execute_result"
    }
   ],
   "source": [
    "df['a'] == 10"
   ]
  },
  {
   "cell_type": "code",
   "execution_count": 5,
   "id": "4a5ab2fa",
   "metadata": {},
   "outputs": [
    {
     "name": "stdout",
     "output_type": "stream",
     "text": [
      "a\n",
      "b\n",
      "c\n"
     ]
    }
   ],
   "source": [
    "for attr in df.columns:\n",
    "    print(attr)"
   ]
  },
  {
   "cell_type": "code",
   "execution_count": 10,
   "id": "f36d8edc",
   "metadata": {},
   "outputs": [
    {
     "name": "stdout",
     "output_type": "stream",
     "text": [
      "{'a': 1, 'b': 1, 'c': 1}\n",
      "{'a': 2, 'b': 2, 'c': 2}\n",
      "{'a': 3, 'b': 3, 'c': 3}\n",
      "{'a': 4, 'b': 4, 'c': 4}\n",
      "{'a': 5, 'b': 5, 'c': 5}\n",
      "{'a': 6, 'b': 6, 'c': 6}\n",
      "{'a': 7, 'b': 7, 'c': 7}\n",
      "{'a': 8, 'b': 8, 'c': 8}\n",
      "{'a': 9, 'b': 9, 'c': 9}\n",
      "{'a': 10, 'b': 10, 'c': 10}\n"
     ]
    }
   ],
   "source": [
    "for i in range(len(df)):\n",
    "    print(dict(df.iloc[i]))"
   ]
  },
  {
   "cell_type": "code",
   "execution_count": 2,
   "id": "6e5ba519",
   "metadata": {},
   "outputs": [],
   "source": [
    "d = {'a': 1}\n"
   ]
  },
  {
   "cell_type": "code",
   "execution_count": 3,
   "id": "c40be85d",
   "metadata": {},
   "outputs": [
    {
     "data": {
      "text/plain": [
       "{'a': 1}"
      ]
     },
     "execution_count": 3,
     "metadata": {},
     "output_type": "execute_result"
    }
   ],
   "source": [
    "d"
   ]
  },
  {
   "cell_type": "code",
   "execution_count": 8,
   "id": "4e559c86",
   "metadata": {},
   "outputs": [
    {
     "data": {
      "text/plain": [
       "{'a': 3, 'b': 'str', 'd': {1: 2, 3: 4}}"
      ]
     },
     "execution_count": 8,
     "metadata": {},
     "output_type": "execute_result"
    }
   ],
   "source": [
    "# merge two dictionaries\n",
    "\n",
    "d1 = {'a': [1,2,3,], 'b': 'str'}\n",
    "d2 = {'a': 3, 'd': {1:2, 3:4}}\n",
    "\n",
    "d1.update(d2)\n",
    "\n",
    "d1"
   ]
  },
  {
   "cell_type": "code",
   "execution_count": 2,
   "id": "e111fbdf",
   "metadata": {},
   "outputs": [
    {
     "data": {
      "text/plain": [
       "0    a\n",
       "1    b\n",
       "2    a\n",
       "dtype: object"
      ]
     },
     "execution_count": 2,
     "metadata": {},
     "output_type": "execute_result"
    }
   ],
   "source": [
    "import pandas as pd \n",
    "s = pd.Series(['a','b','a'])\n",
    "s"
   ]
  },
  {
   "cell_type": "code",
   "execution_count": 3,
   "id": "9641fb92",
   "metadata": {},
   "outputs": [
    {
     "data": {
      "text/plain": [
       "0    a\n",
       "dtype: object"
      ]
     },
     "execution_count": 3,
     "metadata": {},
     "output_type": "execute_result"
    }
   ],
   "source": [
    "s.mode()"
   ]
  },
  {
   "cell_type": "code",
   "execution_count": 8,
   "id": "761f5747",
   "metadata": {},
   "outputs": [
    {
     "data": {
      "text/plain": [
       "0.7219280948873623"
      ]
     },
     "execution_count": 8,
     "metadata": {},
     "output_type": "execute_result"
    }
   ],
   "source": [
    "import math\n",
    "E_y = -((4/5)*math.log2(4/5) + (1/5)*math.log2(1/5))\n",
    "E_y"
   ]
  },
  {
   "cell_type": "code",
   "execution_count": 9,
   "id": "c5c78cd5",
   "metadata": {},
   "outputs": [
    {
     "data": {
      "text/plain": [
       "0.9182958340544896"
      ]
     },
     "execution_count": 9,
     "metadata": {},
     "output_type": "execute_result"
    }
   ],
   "source": [
    "E_x0_4 = -((1/3)*math.log2(1/3) + (2/3)*math.log2(2/3))\n",
    "E_x0_4"
   ]
  },
  {
   "cell_type": "code",
   "execution_count": 11,
   "id": "9c0aa74f",
   "metadata": {},
   "outputs": [
    {
     "data": {
      "text/plain": [
       "0.17095059445466865"
      ]
     },
     "execution_count": 11,
     "metadata": {},
     "output_type": "execute_result"
    }
   ],
   "source": [
    "E_x0 = E_y - (3/5)*E_x0_4\n",
    "E_x0"
   ]
  },
  {
   "cell_type": "code",
   "execution_count": 12,
   "id": "d9b58aae",
   "metadata": {},
   "outputs": [
    {
     "data": {
      "text/plain": [
       "1.584962500721156"
      ]
     },
     "execution_count": 12,
     "metadata": {},
     "output_type": "execute_result"
    }
   ],
   "source": [
    "E_x1_2 = -((1/3)*math.log2(1/3) + (1/3)*math.log2(1/3) + (1/3)*math.log2(1/3))\n",
    "E_x1_2"
   ]
  },
  {
   "cell_type": "code",
   "execution_count": 14,
   "id": "7d4a505e",
   "metadata": {},
   "outputs": [
    {
     "data": {
      "text/plain": [
       "-0.22904940554533126"
      ]
     },
     "execution_count": 14,
     "metadata": {},
     "output_type": "execute_result"
    }
   ],
   "source": [
    "E_x1 = E_y - (3/5)*E_x1_2\n",
    "E_x1"
   ]
  },
  {
   "cell_type": "code",
   "execution_count": 16,
   "id": "811dfaae",
   "metadata": {},
   "outputs": [
    {
     "data": {
      "text/plain": [
       "1.0"
      ]
     },
     "execution_count": 16,
     "metadata": {},
     "output_type": "execute_result"
    }
   ],
   "source": [
    "E_x2_3 = -((1/2)*math.log2(1/2) + (1/2)*math.log2(1/2))\n",
    "E_x2_3"
   ]
  },
  {
   "cell_type": "code",
   "execution_count": 17,
   "id": "3793a9e0",
   "metadata": {},
   "outputs": [
    {
     "data": {
      "text/plain": [
       "0.3219280948873623"
      ]
     },
     "execution_count": 17,
     "metadata": {},
     "output_type": "execute_result"
    }
   ],
   "source": [
    "E_x2 = E_y - (2/5)*E_x2_3\n",
    "E_x2"
   ]
  },
  {
   "cell_type": "code",
   "execution_count": 20,
   "id": "c653e826",
   "metadata": {},
   "outputs": [
    {
     "data": {
      "text/plain": [
       "10.0"
      ]
     },
     "execution_count": 20,
     "metadata": {},
     "output_type": "execute_result"
    }
   ],
   "source": [
    "-1 * 1024 *((1/1024) * math.log2(1/1024) )"
   ]
  },
  {
   "cell_type": "code",
   "execution_count": 21,
   "id": "c765a288",
   "metadata": {},
   "outputs": [
    {
     "data": {
      "text/plain": [
       "5"
      ]
     },
     "execution_count": 21,
     "metadata": {},
     "output_type": "execute_result"
    }
   ],
   "source": [
    "import pandas as pd\n",
    "\n",
    "y = pd.Series([3,4,2,5,1])\n",
    "\n",
    "y.max()"
   ]
  },
  {
   "cell_type": "code",
   "execution_count": 25,
   "id": "9406ce46",
   "metadata": {},
   "outputs": [
    {
     "data": {
      "text/html": [
       "<div>\n",
       "<style scoped>\n",
       "    .dataframe tbody tr th:only-of-type {\n",
       "        vertical-align: middle;\n",
       "    }\n",
       "\n",
       "    .dataframe tbody tr th {\n",
       "        vertical-align: top;\n",
       "    }\n",
       "\n",
       "    .dataframe thead th {\n",
       "        text-align: right;\n",
       "    }\n",
       "</style>\n",
       "<table border=\"1\" class=\"dataframe\">\n",
       "  <thead>\n",
       "    <tr style=\"text-align: right;\">\n",
       "      <th></th>\n",
       "      <th>a</th>\n",
       "      <th>b</th>\n",
       "      <th>c</th>\n",
       "    </tr>\n",
       "  </thead>\n",
       "  <tbody>\n",
       "    <tr>\n",
       "      <th>0</th>\n",
       "      <td>1</td>\n",
       "      <td>1</td>\n",
       "      <td>1</td>\n",
       "    </tr>\n",
       "    <tr>\n",
       "      <th>1</th>\n",
       "      <td>2</td>\n",
       "      <td>2</td>\n",
       "      <td>2</td>\n",
       "    </tr>\n",
       "    <tr>\n",
       "      <th>2</th>\n",
       "      <td>3</td>\n",
       "      <td>3</td>\n",
       "      <td>3</td>\n",
       "    </tr>\n",
       "    <tr>\n",
       "      <th>3</th>\n",
       "      <td>4</td>\n",
       "      <td>4</td>\n",
       "      <td>4</td>\n",
       "    </tr>\n",
       "    <tr>\n",
       "      <th>4</th>\n",
       "      <td>5</td>\n",
       "      <td>5</td>\n",
       "      <td>5</td>\n",
       "    </tr>\n",
       "  </tbody>\n",
       "</table>\n",
       "</div>"
      ],
      "text/plain": [
       "   a  b  c\n",
       "0  1  1  1\n",
       "1  2  2  2\n",
       "2  3  3  3\n",
       "3  4  4  4\n",
       "4  5  5  5"
      ]
     },
     "execution_count": 25,
     "metadata": {},
     "output_type": "execute_result"
    }
   ],
   "source": [
    "X = pd.DataFrame({'a': [1,2,3,4,5], 'b': [1,2,3,4,5], 'c': [1,2,3,4,5]})\n",
    "X"
   ]
  },
  {
   "cell_type": "code",
   "execution_count": 26,
   "id": "2734a7b3",
   "metadata": {},
   "outputs": [
    {
     "data": {
      "text/plain": [
       "'a'"
      ]
     },
     "execution_count": 26,
     "metadata": {},
     "output_type": "execute_result"
    }
   ],
   "source": [
    "X.columns[0]"
   ]
  },
  {
   "cell_type": "code",
   "execution_count": 27,
   "id": "b5205dea",
   "metadata": {},
   "outputs": [],
   "source": [
    "d = {1:2, (1,2):33}"
   ]
  },
  {
   "cell_type": "code",
   "execution_count": 28,
   "id": "6124ad1c",
   "metadata": {},
   "outputs": [
    {
     "data": {
      "text/plain": [
       "{1: 2, (1, 2): 33}"
      ]
     },
     "execution_count": 28,
     "metadata": {},
     "output_type": "execute_result"
    }
   ],
   "source": [
    "d"
   ]
  },
  {
   "cell_type": "code",
   "execution_count": 34,
   "id": "2a6ae08f",
   "metadata": {},
   "outputs": [
    {
     "data": {
      "text/plain": [
       "(100, 2)"
      ]
     },
     "execution_count": 34,
     "metadata": {},
     "output_type": "execute_result"
    }
   ],
   "source": [
    "from sklearn.datasets import make_classification\n",
    "X, y = make_classification(\n",
    "n_features=2, n_redundant=0, n_informative=2, random_state=1, n_clusters_per_class=2, class_sep=0.5)\n"
   ]
  },
  {
   "cell_type": "code",
   "execution_count": 31,
   "id": "839724c0",
   "metadata": {},
   "outputs": [
    {
     "data": {
      "text/html": [
       "<div>\n",
       "<style scoped>\n",
       "    .dataframe tbody tr th:only-of-type {\n",
       "        vertical-align: middle;\n",
       "    }\n",
       "\n",
       "    .dataframe tbody tr th {\n",
       "        vertical-align: top;\n",
       "    }\n",
       "\n",
       "    .dataframe thead th {\n",
       "        text-align: right;\n",
       "    }\n",
       "</style>\n",
       "<table border=\"1\" class=\"dataframe\">\n",
       "  <thead>\n",
       "    <tr style=\"text-align: right;\">\n",
       "      <th></th>\n",
       "      <th>0</th>\n",
       "      <th>1</th>\n",
       "    </tr>\n",
       "  </thead>\n",
       "  <tbody>\n",
       "    <tr>\n",
       "      <th>0</th>\n",
       "      <td>0.800227</td>\n",
       "      <td>-0.285654</td>\n",
       "    </tr>\n",
       "    <tr>\n",
       "      <th>1</th>\n",
       "      <td>0.941844</td>\n",
       "      <td>-0.060086</td>\n",
       "    </tr>\n",
       "    <tr>\n",
       "      <th>2</th>\n",
       "      <td>-0.347924</td>\n",
       "      <td>-0.866213</td>\n",
       "    </tr>\n",
       "    <tr>\n",
       "      <th>3</th>\n",
       "      <td>-0.222150</td>\n",
       "      <td>-0.911294</td>\n",
       "    </tr>\n",
       "    <tr>\n",
       "      <th>4</th>\n",
       "      <td>-0.772215</td>\n",
       "      <td>-0.240549</td>\n",
       "    </tr>\n",
       "    <tr>\n",
       "      <th>...</th>\n",
       "      <td>...</td>\n",
       "      <td>...</td>\n",
       "    </tr>\n",
       "    <tr>\n",
       "      <th>95</th>\n",
       "      <td>0.440461</td>\n",
       "      <td>-0.600299</td>\n",
       "    </tr>\n",
       "    <tr>\n",
       "      <th>96</th>\n",
       "      <td>-0.345212</td>\n",
       "      <td>1.160864</td>\n",
       "    </tr>\n",
       "    <tr>\n",
       "      <th>97</th>\n",
       "      <td>-0.923689</td>\n",
       "      <td>-0.108154</td>\n",
       "    </tr>\n",
       "    <tr>\n",
       "      <th>98</th>\n",
       "      <td>0.482517</td>\n",
       "      <td>-0.161524</td>\n",
       "    </tr>\n",
       "    <tr>\n",
       "      <th>99</th>\n",
       "      <td>-0.794011</td>\n",
       "      <td>-0.049227</td>\n",
       "    </tr>\n",
       "  </tbody>\n",
       "</table>\n",
       "<p>100 rows × 2 columns</p>\n",
       "</div>"
      ],
      "text/plain": [
       "           0         1\n",
       "0   0.800227 -0.285654\n",
       "1   0.941844 -0.060086\n",
       "2  -0.347924 -0.866213\n",
       "3  -0.222150 -0.911294\n",
       "4  -0.772215 -0.240549\n",
       "..       ...       ...\n",
       "95  0.440461 -0.600299\n",
       "96 -0.345212  1.160864\n",
       "97 -0.923689 -0.108154\n",
       "98  0.482517 -0.161524\n",
       "99 -0.794011 -0.049227\n",
       "\n",
       "[100 rows x 2 columns]"
      ]
     },
     "execution_count": 31,
     "metadata": {},
     "output_type": "execute_result"
    }
   ],
   "source": [
    "X = pd.DataFrame(X, columns=[i for i in range(X.shape[1])])\n",
    "X"
   ]
  },
  {
   "cell_type": "code",
   "execution_count": 38,
   "id": "cd09b450",
   "metadata": {},
   "outputs": [
    {
     "data": {
      "text/plain": [
       "array([[ 8.00227169e-01, -2.85653903e-01],\n",
       "       [ 9.41844252e-01, -6.00855393e-02],\n",
       "       [-3.47924448e-01, -8.66213235e-01],\n",
       "       [-2.22150149e-01, -9.11294144e-01],\n",
       "       [-7.72214654e-01, -2.40548939e-01],\n",
       "       [ 2.86942710e-01,  4.42948786e-01],\n",
       "       [ 3.16957655e-01, -6.24787067e-01],\n",
       "       [ 1.18227070e+00, -1.75968771e-01],\n",
       "       [-5.72233433e-01, -2.70151304e-01],\n",
       "       [-5.65392972e-01,  6.12573764e-01],\n",
       "       [-8.32329524e-01,  1.02456713e-01],\n",
       "       [-1.96371397e-01,  4.63827158e-01],\n",
       "       [ 3.23406141e-01,  2.56192605e-01],\n",
       "       [-1.01555340e+00, -6.58048526e-01],\n",
       "       [-2.89717763e-01,  1.20347973e+00],\n",
       "       [ 3.58878413e-01,  5.44579655e-01],\n",
       "       [-9.50013352e-01, -2.26541589e-01],\n",
       "       [ 2.09932404e-01,  1.90209191e-01],\n",
       "       [-2.90959348e-01,  1.10495551e+00],\n",
       "       [-5.80775364e-01, -6.55307463e-01],\n",
       "       [-1.06917330e+00, -1.04054806e+00],\n",
       "       [-2.56884293e-02,  1.02568161e+00],\n",
       "       [-7.74060422e-01,  3.56569604e-01],\n",
       "       [ 3.96211144e-01, -6.15096789e-01],\n",
       "       [-3.52598947e-01, -9.25549825e-01],\n",
       "       [-1.32628061e-01,  7.21755798e-01],\n",
       "       [-3.64477118e-01, -9.09219779e-01],\n",
       "       [ 2.18089842e-02,  2.67462483e+00],\n",
       "       [-7.52300041e-01, -7.68591827e-02],\n",
       "       [-3.44756388e-01, -9.43034380e-01],\n",
       "       [ 5.75109383e-01, -5.01370906e-01],\n",
       "       [-4.51263274e-01,  4.65991296e-01],\n",
       "       [-5.95304576e-01,  7.39652146e-01],\n",
       "       [-1.77027413e-02,  1.12411168e+00],\n",
       "       [-2.18600166e-03,  1.55132133e+00],\n",
       "       [-1.04398637e+00,  5.11884782e-01],\n",
       "       [-5.88642219e-01, -3.52612954e-01],\n",
       "       [-4.01316537e-01, -4.66543109e-01],\n",
       "       [ 1.19606253e+00, -2.08527504e-01],\n",
       "       [ 6.20188260e-01, -7.40179850e-01],\n",
       "       [ 5.60805760e-01,  8.53089783e-02],\n",
       "       [-9.42449301e-01, -2.23154305e-01],\n",
       "       [-2.07268773e-01, -1.25151751e+00],\n",
       "       [ 5.49847448e-01, -3.15286816e-01],\n",
       "       [ 8.31390490e-01, -1.61765716e-01],\n",
       "       [ 1.51447998e-01, -7.10376914e-01],\n",
       "       [-4.57105258e-01, -5.14121851e-01],\n",
       "       [ 1.00284911e+00, -3.16122069e-01],\n",
       "       [-5.11038131e-01,  1.16092093e+00],\n",
       "       [-2.56942895e-01, -1.06629795e+00],\n",
       "       [-9.03941907e-01,  1.44981005e+00],\n",
       "       [-1.01594823e+00,  4.75118668e-01],\n",
       "       [ 2.52216921e-01, -5.90943593e-01],\n",
       "       [-6.03254450e-01, -2.01586321e-01],\n",
       "       [-5.24896507e-01,  7.59590394e-01],\n",
       "       [-2.60706287e-01, -9.93636757e-01],\n",
       "       [-1.73259191e-01, -1.28962393e+00],\n",
       "       [ 6.57460618e-02, -7.51279235e-01],\n",
       "       [ 6.12981587e-01, -4.08018711e-01],\n",
       "       [ 6.61885794e-01,  5.20808916e-03],\n",
       "       [ 1.80645373e-01, -7.04402390e-01],\n",
       "       [-9.79553079e-01, -4.57445981e-01],\n",
       "       [-1.86541604e-02, -9.46327854e-01],\n",
       "       [ 4.21162053e-01, -5.70207545e-01],\n",
       "       [-6.06868602e-01,  1.21718559e+00],\n",
       "       [-1.70464809e-01,  8.41041466e-01],\n",
       "       [ 4.49132232e-01,  6.19557681e-01],\n",
       "       [ 3.75676696e-01,  2.65298321e-01],\n",
       "       [-6.89515882e-01, -1.16393074e-01],\n",
       "       [-8.69109473e-01,  3.28863345e-01]])"
      ]
     },
     "execution_count": 38,
     "metadata": {},
     "output_type": "execute_result"
    }
   ],
   "source": [
    "X[:70]"
   ]
  },
  {
   "cell_type": "code",
   "execution_count": 39,
   "id": "6f6b2e1c",
   "metadata": {},
   "outputs": [
    {
     "data": {
      "text/plain": [
       "100"
      ]
     },
     "execution_count": 39,
     "metadata": {},
     "output_type": "execute_result"
    }
   ],
   "source": [
    "len(X)"
   ]
  },
  {
   "cell_type": "code",
   "execution_count": 49,
   "id": "c3f5df9c",
   "metadata": {},
   "outputs": [
    {
     "data": {
      "text/plain": [
       "((70, 2), (30, 2), (70,), (30,))"
      ]
     },
     "execution_count": 49,
     "metadata": {},
     "output_type": "execute_result"
    }
   ],
   "source": [
    "X_train, X_test, y_train, y_test = X[:int(0.7*len(X))], X[int(0.7*len(X)):], y[:int(0.7*len(y))], y[int(0.7*len(y)):]\n",
    "X_train.shape, X_test.shape, y_train.shape, y_test.shape"
   ]
  },
  {
   "cell_type": "code",
   "execution_count": 50,
   "id": "7d478539",
   "metadata": {},
   "outputs": [
    {
     "data": {
      "text/plain": [
       "0     1\n",
       "1     1\n",
       "2     0\n",
       "3     0\n",
       "4     0\n",
       "     ..\n",
       "65    1\n",
       "66    1\n",
       "67    1\n",
       "68    0\n",
       "69    0\n",
       "Length: 70, dtype: int32"
      ]
     },
     "execution_count": 50,
     "metadata": {},
     "output_type": "execute_result"
    }
   ],
   "source": [
    "pd.Series(y_train)"
   ]
  },
  {
   "cell_type": "code",
   "execution_count": 93,
   "id": "fcedf86d",
   "metadata": {},
   "outputs": [
    {
     "name": "stdout",
     "output_type": "stream",
     "text": [
      "(70, 2) (30, 2) (70,) (30,)\n"
     ]
    }
   ],
   "source": [
    "import pandas as pd\n",
    "import numpy as np\n",
    "import matplotlib.pyplot as plt\n",
    "from tree.base import DecisionTree\n",
    "from metrics import *\n",
    "\n",
    "np.random.seed(42)\n",
    "\n",
    "# Read dataset\n",
    "# ...\n",
    "# \n",
    "\n",
    "from sklearn.datasets import make_classification\n",
    "X, y = make_classification(\n",
    "n_features=2, n_redundant=0, n_informative=2, random_state=1, n_clusters_per_class=2, class_sep=0.5)\n",
    "\n",
    "X_train, X_test, y_train, y_test = pd.DataFrame(X[:int(0.7*len(X))]), pd.DataFrame(X[int(0.7*len(X)):]), pd.Series(y[:int(0.7*len(y))], dtype = 'category'), pd.Series(y[int(0.7*len(y)):], dtype = 'category')\n",
    "# X_train, X_test, y_train, y_test = X[:int(0.7*len(X))], X[int(0.7*len(X)):], y[:int(0.7*len(y))], y[int(0.7*len(y)):]\n",
    "print(X_train.shape, X_test.shape, y_train.shape, y_test.shape)\n",
    "\n",
    "# For plotting\n",
    "\n",
    "\n",
    "\n",
    "\n",
    "    # print(y_hat.shape, y_test.shape)\n",
    "    # plt.scatter(y_test, y_hat)\n",
    "    # plt.show()\n",
    "\n"
   ]
  },
  {
   "cell_type": "code",
   "execution_count": 53,
   "id": "f5d89518",
   "metadata": {},
   "outputs": [
    {
     "name": "stdout",
     "output_type": "stream",
     "text": [
      "Training Results:\n",
      "Criteria : information_gain\n",
      "Accuracy:  1.0\n",
      "Class:  1\n",
      "Precision:  1.0\n",
      "Recall:  1.0\n",
      "\n",
      "Class:  0\n",
      "Precision:  1.0\n",
      "Recall:  1.0\n",
      "\n",
      "Testing Results:\n",
      "Criteria : information_gain\n",
      "Accuracy:  0.9\n",
      "Class:  0\n",
      "Precision:  0.9090909090909091\n",
      "Recall:  0.8333333333333334\n",
      "\n",
      "Class:  1\n",
      "Precision:  0.8947368421052632\n",
      "Recall:  0.9444444444444444\n",
      "\n"
     ]
    }
   ],
   "source": [
    "criteria = 'information_gain'\n",
    "tree = DecisionTree(criterion=criteria, max_depth=8) #Split based on Inf. Gain\n",
    "tree.fit(X_train, y_train)\n",
    "tree.plot()\n",
    "\n",
    "y_hat_train = tree.predict(X_train)\n",
    "print('Training Results:')\n",
    "print('Criteria :', criteria)\n",
    "print('Accuracy: ', accuracy(y_hat_train, y_train))\n",
    "for cls in y_train.unique():\n",
    "    print('Class: ', cls)\n",
    "    print('Precision: ', precision(y_hat_train, y_train, cls))\n",
    "    print('Recall: ', recall(y_hat_train, y_train, cls))\n",
    "    print()\n",
    "\n",
    "y_hat = tree.predict(X_test)\n",
    "print('Testing Results:')\n",
    "print('Criteria :', criteria)\n",
    "# print(y_hat)\n",
    "# print(y_test)\n",
    "print('Accuracy: ', accuracy(y_hat, y_test))\n",
    "for cls in y_test.unique():\n",
    "    print('Class: ', cls)\n",
    "    print('Precision: ', precision(y_hat, y_test, cls))\n",
    "    print('Recall: ', recall(y_hat, y_test, cls))\n",
    "    print()"
   ]
  },
  {
   "cell_type": "code",
   "execution_count": 54,
   "id": "bcf93eaa",
   "metadata": {},
   "outputs": [
    {
     "data": {
      "image/png": "[encoded data removed]",
      "text/plain": [
       "<Figure size 432x288 with 1 Axes>"
      ]
     },
     "metadata": {
      "needs_background": "light"
     },
     "output_type": "display_data"
    }
   ],
   "source": [
    "arr_x = [i+1 for i in range(len(y))]\n",
    "\n",
    "plt.scatter(arr_x, y, label='y')\n",
    "plt.scatter(arr_x[:int(0.7*len(y))], y_hat_train, label='y_train_pred')\n",
    "plt.scatter(arr_x[int(0.7*len(y)):], y_hat, label='y_test_pred')\n",
    "plt.show()"
   ]
  },
  {
   "cell_type": "code",
   "execution_count": 55,
   "id": "d5075cc0",
   "metadata": {},
   "outputs": [
    {
     "data": {
      "text/plain": [
       "array([1, 1, 0, 0, 0, 1, 1, 1, 0, 1, 0, 0, 1, 0, 0, 1, 1, 1, 0, 0, 0, 0,\n",
       "       0, 1, 0, 0, 0, 0, 0, 0, 1, 0, 0, 1, 0, 0, 0, 0, 1, 1, 1, 0, 0, 1,\n",
       "       1, 1, 0, 1, 0, 1, 1, 0, 1, 0, 0, 0, 0, 1, 1, 1, 1, 0, 1, 1, 0, 1,\n",
       "       1, 1, 0, 0, 0, 0, 1, 1, 1, 1, 0, 0, 1, 1, 1, 1, 0, 1, 1, 0, 1, 1,\n",
       "       1, 0, 0, 1, 1, 0, 1, 1, 0, 0, 1, 0])"
      ]
     },
     "execution_count": 55,
     "metadata": {},
     "output_type": "execute_result"
    }
   ],
   "source": [
    "y"
   ]
  },
  {
   "cell_type": "code",
   "execution_count": 75,
   "id": "347053d4",
   "metadata": {},
   "outputs": [
    {
     "name": "stdout",
     "output_type": "stream",
     "text": [
      "(20, 2)\n",
      "(20, 2)\n",
      "(20, 2)\n",
      "(20, 2)\n",
      "(20, 2)\n"
     ]
    }
   ],
   "source": [
    "foldX = [X[int(i/5 *len(X)) : int((i+1)/5 *len(X))] for i in range(5)]\n",
    "foldy = [y[int(i/5 *len(y)) : int((i+1)/5 *len(y))] for i in range(5)]\n",
    "\n",
    "# foldX1, foldX2, foldX3, foldX4, foldX5 = pd.DataFrame(foldX1), pd.DataFrame(foldX2), pd.DataFrame(foldX3), pd.DataFrame(foldX4), pd.DataFrame(foldX5)\n",
    "# foldy1, foldy2, foldy3, foldy4, foldy5 = pd.Series(foldy1, dtype = 'category'), pd.Series(foldy2, dtype = 'category'), pd.Series(foldy3, dtype = 'category'), pd.Series(foldy4, dtype = 'category'), pd.Series(foldy5, dtype = 'category')\n",
    "\n",
    "# trainX1, testX1 = pd.concat([foldX2, foldX3, foldX4, foldX5]), foldX1\n",
    "# trainy1, testy1 = pd.concat([foldy2, foldy3, foldy4, foldy5]), foldy1\n",
    "\n",
    "# trainX2, testX2 = pd.concat([foldX1, foldX3, foldX4, foldX5]), foldX2\n",
    "# trainy2, testy2 = pd.concat([foldy1, foldy3, foldy4, foldy5]), foldy2\n",
    "\n",
    "# trainX3, testX3 = pd.concat([foldX1, foldX2, foldX4, foldX5]), foldX3\n",
    "# trainy3, testy3 = pd.concat([foldy1, foldy2, foldy4, foldy5]), foldy3\n",
    "\n",
    "# trainX4, testX4 = pd.concat([foldX1, foldX2, foldX3, foldX5]), foldX4\n",
    "# trainy4, testy4 = pd.concat([foldy1, foldy2, foldy3, foldy5]), foldy4\n",
    "\n",
    "# trainX5, testX5 = pd.concat([foldX1, foldX2, foldX3, foldX4]), foldX5\n",
    "# trainy5, testy5 = pd.concat([foldy1, foldy2, foldy3, foldy5]), foldy5\n",
    "\n"
   ]
  },
  {
   "cell_type": "code",
   "execution_count": 82,
   "id": "bad1cb4d",
   "metadata": {},
   "outputs": [],
   "source": [
    "def get_scores(trainX, trainY, testX, testY, depth, criteria):\n",
    "    tree = DecisionTree(criterion=criteria, max_depth=depth) #Split based on Inf. Gain\n",
    "    tree.fit(X_train, y_train)\n",
    "    y_hat = tree.predict(X_test)\n",
    "    acc = accuracy(y_hat, y_test)\n",
    "    return acc\n",
    "\n",
    "    \n"
   ]
  },
  {
   "cell_type": "code",
   "execution_count": 94,
   "id": "4d04d180",
   "metadata": {},
   "outputs": [
    {
     "name": "stdout",
     "output_type": "stream",
     "text": [
      "{1: 0.9333333333333333, 2: 0.9333333333333333, 3: 0.8666666666666667, 4: 0.9, 5: 0.9, 6: 0.9, 7: 0.9, 8: 0.9, 9: 0.9}\n",
      "1\n",
      "{1: 0.9333333333333333, 2: 0.9333333333333333, 3: 0.8666666666666667, 4: 0.9, 5: 0.9, 6: 0.9, 7: 0.9, 8: 0.9, 9: 0.9}\n",
      "1\n",
      "{1: 0.9333333333333333, 2: 0.9333333333333333, 3: 0.8666666666666667, 4: 0.9, 5: 0.9, 6: 0.9, 7: 0.9, 8: 0.9, 9: 0.9}\n",
      "1\n",
      "{1: 0.9333333333333333, 2: 0.9333333333333333, 3: 0.8666666666666667, 4: 0.9, 5: 0.9, 6: 0.9, 7: 0.9, 8: 0.9, 9: 0.9}\n",
      "1\n",
      "{1: 0.9333333333333333, 2: 0.9333333333333333, 3: 0.8666666666666667, 4: 0.9, 5: 0.9, 6: 0.9, 7: 0.9, 8: 0.9, 9: 0.9}\n",
      "1\n"
     ]
    },
    {
     "data": {
      "text/plain": [
       "{1: 0.9333333333333333}"
      ]
     },
     "execution_count": 94,
     "metadata": {},
     "output_type": "execute_result"
    }
   ],
   "source": [
    "all_accurary = []\n",
    "all_precision = []\n",
    "all_recall = []\n",
    "criteria = 'information_gain'\n",
    "\n",
    "\n",
    "foldX = [X[int(i/5 *len(X)) : int((i+1)/5 *len(X))] for i in range(5)]\n",
    "foldy = [y[int(i/5 *len(y)) : int((i+1)/5 *len(y))] for i in range(5)]\n",
    "\n",
    "testing_score = {}\n",
    "for outerFold in range(1, 6):\n",
    "    testX = pd.DataFrame(foldX[outerFold-1])\n",
    "    testY = pd.Series(foldy[outerFold-1])\n",
    "    trainX = pd.concat([pd.DataFrame(foldX[(outerFold+i)%5]) for i in range(1,5)]).reset_index(drop=True)\n",
    "    trainY = pd.concat([pd.Series(foldy[(outerFold+1)%5]) for i in range(1,5) ]).reset_index(drop=True)\n",
    "\n",
    "    foldX_inner = [trainX[int(i/5 *len(X)) : int((i+1)/5 *len(X))] for i in range(5)]\n",
    "    foldy_inner = [trainY[int(i/5 *len(y)) : int((i+1)/5 *len(y))] for i in range(5)]\n",
    "\n",
    "    depth_accuracy_map = dict()\n",
    "    for depth in range(1,10):\n",
    "        validation_score = []\n",
    "        # for innerfold in range(1, 6):\n",
    "        innerfold = 1\n",
    "        valdX = pd.DataFrame(foldX_inner[innerfold-1])\n",
    "        valdY = pd.Series(foldy_inner[innerfold-1])\n",
    "        trainX_inner = pd.concat([pd.DataFrame(foldX_inner[(outerFold+i)%5]) for i in range(1,5)]).reset_index(drop=True)\n",
    "        trainY_inner = pd.concat([pd.Series(foldy_inner[(outerFold+1)%5]) for i in range(1,5) ]).reset_index(drop=True)\n",
    "        \n",
    "        ####\n",
    "        validation_score.append(get_scores(trainX_inner, trainY_inner, valdX, valdY, depth, criteria))\n",
    "\n",
    "        depth_accuracy_map[depth] = np.mean(validation_score)\n",
    "    print(depth_accuracy_map)\n",
    "    max_depth_accuracy = max(depth_accuracy_map, key= lambda x: depth_accuracy_map[x])\n",
    "    print(max_depth_accuracy)\n",
    "    testing_score[max_depth_accuracy] = get_scores(trainX, trainY, testX, testY, max_depth_accuracy, criteria)\n",
    "\n",
    "testing_score\n",
    "\n",
    "            \n",
    "    "
   ]
  },
  {
   "cell_type": "code",
   "execution_count": 97,
   "id": "dec30b81",
   "metadata": {},
   "outputs": [
    {
     "data": {
      "text/plain": [
       "0.9"
      ]
     },
     "execution_count": 97,
     "metadata": {},
     "output_type": "execute_result"
    }
   ],
   "source": [
    "tree = DecisionTree(criterion=criteria, max_depth=12) #Split based on Inf. Gain\n",
    "tree.fit(X_train, y_train)\n",
    "tree.plot()\n",
    "y_hat = tree.predict(X_test)\n",
    "acc = accuracy(y_hat, y_test)\n",
    "acc"
   ]
  },
  {
   "cell_type": "code",
   "execution_count": 98,
   "id": "4e3a16b7",
   "metadata": {},
   "outputs": [],
   "source": [
    "import pandas as pd\n",
    "col_names = ['mpg', 'cylinders', 'displacement', 'horsepower', 'weight', 'acceleration', 'model year', 'origin', 'car name']"
   ]
  },
  {
   "cell_type": "code",
   "execution_count": 111,
   "id": "71930b4a",
   "metadata": {},
   "outputs": [
    {
     "data": {
      "text/plain": [
       "(398, 9)"
      ]
     },
     "execution_count": 111,
     "metadata": {},
     "output_type": "execute_result"
    }
   ],
   "source": [
    "# data=pd.read_csv('auto-mpg.data', sep=' ', header=None, names=col_names)\n",
    "\n",
    "data = pd.read_fwf('auto-mpg.data', header=None, names=col_names)\n",
    "data.shape\n",
    "# data = data[data['horsepower'] != '?']"
   ]
  },
  {
   "cell_type": "code",
   "execution_count": 121,
   "id": "9efbe5b2",
   "metadata": {},
   "outputs": [
    {
     "data": {
      "text/html": [
       "<div>\n",
       "<style scoped>\n",
       "    .dataframe tbody tr th:only-of-type {\n",
       "        vertical-align: middle;\n",
       "    }\n",
       "\n",
       "    .dataframe tbody tr th {\n",
       "        vertical-align: top;\n",
       "    }\n",
       "\n",
       "    .dataframe thead th {\n",
       "        text-align: right;\n",
       "    }\n",
       "</style>\n",
       "<table border=\"1\" class=\"dataframe\">\n",
       "  <thead>\n",
       "    <tr style=\"text-align: right;\">\n",
       "      <th></th>\n",
       "      <th>mpg</th>\n",
       "      <th>cylinders</th>\n",
       "      <th>displacement</th>\n",
       "      <th>horsepower</th>\n",
       "      <th>weight</th>\n",
       "      <th>acceleration</th>\n",
       "      <th>model year</th>\n",
       "      <th>origin</th>\n",
       "      <th>car name</th>\n",
       "    </tr>\n",
       "  </thead>\n",
       "  <tbody>\n",
       "    <tr>\n",
       "      <th>0</th>\n",
       "      <td>18.0</td>\n",
       "      <td>8</td>\n",
       "      <td>307.0</td>\n",
       "      <td>130.0</td>\n",
       "      <td>3504.0</td>\n",
       "      <td>12.0</td>\n",
       "      <td>70</td>\n",
       "      <td>1</td>\n",
       "      <td>\"chevrolet chevelle malibu\"</td>\n",
       "    </tr>\n",
       "    <tr>\n",
       "      <th>1</th>\n",
       "      <td>15.0</td>\n",
       "      <td>8</td>\n",
       "      <td>350.0</td>\n",
       "      <td>165.0</td>\n",
       "      <td>3693.0</td>\n",
       "      <td>11.5</td>\n",
       "      <td>70</td>\n",
       "      <td>1</td>\n",
       "      <td>\"buick skylark 320\"</td>\n",
       "    </tr>\n",
       "    <tr>\n",
       "      <th>2</th>\n",
       "      <td>18.0</td>\n",
       "      <td>8</td>\n",
       "      <td>318.0</td>\n",
       "      <td>150.0</td>\n",
       "      <td>3436.0</td>\n",
       "      <td>11.0</td>\n",
       "      <td>70</td>\n",
       "      <td>1</td>\n",
       "      <td>\"plymouth satellite\"</td>\n",
       "    </tr>\n",
       "    <tr>\n",
       "      <th>3</th>\n",
       "      <td>16.0</td>\n",
       "      <td>8</td>\n",
       "      <td>304.0</td>\n",
       "      <td>150.0</td>\n",
       "      <td>3433.0</td>\n",
       "      <td>12.0</td>\n",
       "      <td>70</td>\n",
       "      <td>1</td>\n",
       "      <td>\"amc rebel sst\"</td>\n",
       "    </tr>\n",
       "    <tr>\n",
       "      <th>4</th>\n",
       "      <td>17.0</td>\n",
       "      <td>8</td>\n",
       "      <td>302.0</td>\n",
       "      <td>140.0</td>\n",
       "      <td>3449.0</td>\n",
       "      <td>10.5</td>\n",
       "      <td>70</td>\n",
       "      <td>1</td>\n",
       "      <td>\"ford torino\"</td>\n",
       "    </tr>\n",
       "    <tr>\n",
       "      <th>...</th>\n",
       "      <td>...</td>\n",
       "      <td>...</td>\n",
       "      <td>...</td>\n",
       "      <td>...</td>\n",
       "      <td>...</td>\n",
       "      <td>...</td>\n",
       "      <td>...</td>\n",
       "      <td>...</td>\n",
       "      <td>...</td>\n",
       "    </tr>\n",
       "    <tr>\n",
       "      <th>393</th>\n",
       "      <td>27.0</td>\n",
       "      <td>4</td>\n",
       "      <td>140.0</td>\n",
       "      <td>86.0</td>\n",
       "      <td>2790.0</td>\n",
       "      <td>15.6</td>\n",
       "      <td>82</td>\n",
       "      <td>1</td>\n",
       "      <td>\"ford mustang gl\"</td>\n",
       "    </tr>\n",
       "    <tr>\n",
       "      <th>394</th>\n",
       "      <td>44.0</td>\n",
       "      <td>4</td>\n",
       "      <td>97.0</td>\n",
       "      <td>52.0</td>\n",
       "      <td>2130.0</td>\n",
       "      <td>24.6</td>\n",
       "      <td>82</td>\n",
       "      <td>2</td>\n",
       "      <td>\"vw pickup\"</td>\n",
       "    </tr>\n",
       "    <tr>\n",
       "      <th>395</th>\n",
       "      <td>32.0</td>\n",
       "      <td>4</td>\n",
       "      <td>135.0</td>\n",
       "      <td>84.0</td>\n",
       "      <td>2295.0</td>\n",
       "      <td>11.6</td>\n",
       "      <td>82</td>\n",
       "      <td>1</td>\n",
       "      <td>\"dodge rampage\"</td>\n",
       "    </tr>\n",
       "    <tr>\n",
       "      <th>396</th>\n",
       "      <td>28.0</td>\n",
       "      <td>4</td>\n",
       "      <td>120.0</td>\n",
       "      <td>79.0</td>\n",
       "      <td>2625.0</td>\n",
       "      <td>18.6</td>\n",
       "      <td>82</td>\n",
       "      <td>1</td>\n",
       "      <td>\"ford ranger\"</td>\n",
       "    </tr>\n",
       "    <tr>\n",
       "      <th>397</th>\n",
       "      <td>31.0</td>\n",
       "      <td>4</td>\n",
       "      <td>119.0</td>\n",
       "      <td>82.0</td>\n",
       "      <td>2720.0</td>\n",
       "      <td>19.4</td>\n",
       "      <td>82</td>\n",
       "      <td>1</td>\n",
       "      <td>\"chevy s-10\"</td>\n",
       "    </tr>\n",
       "  </tbody>\n",
       "</table>\n",
       "<p>392 rows × 9 columns</p>\n",
       "</div>"
      ],
      "text/plain": [
       "      mpg cylinders  displacement  horsepower  weight  acceleration  \\\n",
       "0    18.0         8         307.0       130.0  3504.0          12.0   \n",
       "1    15.0         8         350.0       165.0  3693.0          11.5   \n",
       "2    18.0         8         318.0       150.0  3436.0          11.0   \n",
       "3    16.0         8         304.0       150.0  3433.0          12.0   \n",
       "4    17.0         8         302.0       140.0  3449.0          10.5   \n",
       "..    ...       ...           ...         ...     ...           ...   \n",
       "393  27.0         4         140.0        86.0  2790.0          15.6   \n",
       "394  44.0         4          97.0        52.0  2130.0          24.6   \n",
       "395  32.0         4         135.0        84.0  2295.0          11.6   \n",
       "396  28.0         4         120.0        79.0  2625.0          18.6   \n",
       "397  31.0         4         119.0        82.0  2720.0          19.4   \n",
       "\n",
       "    model year origin                     car name  \n",
       "0           70      1  \"chevrolet chevelle malibu\"  \n",
       "1           70      1          \"buick skylark 320\"  \n",
       "2           70      1         \"plymouth satellite\"  \n",
       "3           70      1              \"amc rebel sst\"  \n",
       "4           70      1                \"ford torino\"  \n",
       "..         ...    ...                          ...  \n",
       "393         82      1            \"ford mustang gl\"  \n",
       "394         82      2                  \"vw pickup\"  \n",
       "395         82      1              \"dodge rampage\"  \n",
       "396         82      1                \"ford ranger\"  \n",
       "397         82      1                 \"chevy s-10\"  \n",
       "\n",
       "[392 rows x 9 columns]"
      ]
     },
     "execution_count": 121,
     "metadata": {},
     "output_type": "execute_result"
    }
   ],
   "source": [
    "# replace '?' with NaN in horsepower column\n",
    "data['horsepower'] = data['horsepower'].replace('?', np.nan)\n",
    "data.dropna(inplace=True)\n",
    "data"
   ]
  },
  {
   "cell_type": "code",
   "execution_count": null,
   "id": "15368e5e",
   "metadata": {},
   "outputs": [],
   "source": [
    "data['mpg'] = data['mpg'].astype('float')\n",
    "data['cylinders'] = data['cylinders'].astype('category')\n",
    "data['displacement'] = data['displacement'].astype('float')\n",
    "data['horsepower'] = data['horsepower'].astype('float')\n",
    "data['weight'] = data['weight'].astype('float')\n",
    "data['acceleration'] = data['acceleration'].astype('float')\n",
    "data['model year'] = data['model year'].astype('category')\n",
    "data['origin'] = data['origin'].astype('category')\n",
    "data['car name'] = data['car name'].astype('category')\n",
    "data"
   ]
  },
  {
   "cell_type": "code",
   "execution_count": 120,
   "id": "3e99548c",
   "metadata": {},
   "outputs": [],
   "source": [
    "y = data['mpg']\n",
    "X = data.drop('mpg', axis=1)"
   ]
  },
  {
   "cell_type": "code",
   "execution_count": 119,
   "id": "16168885",
   "metadata": {},
   "outputs": [
    {
     "name": "stdout",
     "output_type": "stream",
     "text": [
      "Unexpected exception formatting exception. Falling back to standard exception\n"
     ]
    },
    {
     "name": "stderr",
     "output_type": "stream",
     "text": [
      "Traceback (most recent call last):\n",
      "  File \"c:\\Users\\mc'lupr\\AppData\\Local\\Programs\\Python\\Python310\\lib\\site-packages\\IPython\\core\\interactiveshell.py\", line 3398, in run_code\n",
      "    exec(code_obj, self.user_global_ns, self.user_ns)\n",
      "  File \"C:\\Users\\mc'lupr\\AppData\\Local\\Temp\\ipykernel_16204\\1264490467.py\", line 2, in <cell line: 2>\n",
      "    tree.fit(X, y)\n",
      "  File \"c:\\Users\\mc'lupr\\Dropbox\\PC\\Documents\\GitHub\\assignment-1-siddhesh\\tree\\base.py\", line 201, in fit\n",
      "  File \"c:\\Users\\mc'lupr\\Dropbox\\PC\\Documents\\GitHub\\assignment-1-siddhesh\\tree\\base.py\", line 144, in build_decision_tree\n",
      "    else:\n",
      "  File \"c:\\Users\\mc'lupr\\Dropbox\\PC\\Documents\\GitHub\\assignment-1-siddhesh\\tree\\base.py\", line 125, in build_decision_tree\n",
      "    print('type: ',X[bestAttr].dtype)\n",
      "  File \"c:\\Users\\mc'lupr\\AppData\\Local\\Programs\\Python\\Python310\\lib\\site-packages\\pandas\\core\\ops\\common.py\", line 72, in new_method\n",
      "    return method(self, other)\n",
      "  File \"c:\\Users\\mc'lupr\\AppData\\Local\\Programs\\Python\\Python310\\lib\\site-packages\\pandas\\core\\arraylike.py\", line 54, in __le__\n",
      "    return self._cmp_method(other, operator.le)\n",
      "  File \"c:\\Users\\mc'lupr\\AppData\\Local\\Programs\\Python\\Python310\\lib\\site-packages\\pandas\\core\\series.py\", line 6243, in _cmp_method\n",
      "    res_values = ops.comparison_op(lvalues, rvalues, op)\n",
      "  File \"c:\\Users\\mc'lupr\\AppData\\Local\\Programs\\Python\\Python310\\lib\\site-packages\\pandas\\core\\ops\\array_ops.py\", line 273, in comparison_op\n",
      "    res_values = op(lvalues, rvalues)\n",
      "  File \"c:\\Users\\mc'lupr\\AppData\\Local\\Programs\\Python\\Python310\\lib\\site-packages\\pandas\\core\\ops\\common.py\", line 72, in new_method\n",
      "    return method(self, other)\n",
      "  File \"c:\\Users\\mc'lupr\\AppData\\Local\\Programs\\Python\\Python310\\lib\\site-packages\\pandas\\core\\arrays\\categorical.py\", line 144, in func\n",
      "    raise TypeError(\n",
      "TypeError: Unordered Categoricals can only compare equality or not\n",
      "\n",
      "During handling of the above exception, another exception occurred:\n",
      "\n",
      "Traceback (most recent call last):\n",
      "  File \"c:\\Users\\mc'lupr\\AppData\\Local\\Programs\\Python\\Python310\\lib\\site-packages\\IPython\\core\\interactiveshell.py\", line 1993, in showtraceback\n",
      "    stb = self.InteractiveTB.structured_traceback(\n",
      "  File \"c:\\Users\\mc'lupr\\AppData\\Local\\Programs\\Python\\Python310\\lib\\site-packages\\IPython\\core\\ultratb.py\", line 1118, in structured_traceback\n",
      "    return FormattedTB.structured_traceback(\n",
      "  File \"c:\\Users\\mc'lupr\\AppData\\Local\\Programs\\Python\\Python310\\lib\\site-packages\\IPython\\core\\ultratb.py\", line 1012, in structured_traceback\n",
      "    return VerboseTB.structured_traceback(\n",
      "  File \"c:\\Users\\mc'lupr\\AppData\\Local\\Programs\\Python\\Python310\\lib\\site-packages\\IPython\\core\\ultratb.py\", line 865, in structured_traceback\n",
      "    formatted_exception = self.format_exception_as_a_whole(etype, evalue, etb, number_of_lines_of_context,\n",
      "  File \"c:\\Users\\mc'lupr\\AppData\\Local\\Programs\\Python\\Python310\\lib\\site-packages\\IPython\\core\\ultratb.py\", line 818, in format_exception_as_a_whole\n",
      "    frames.append(self.format_record(r))\n",
      "  File \"c:\\Users\\mc'lupr\\AppData\\Local\\Programs\\Python\\Python310\\lib\\site-packages\\IPython\\core\\ultratb.py\", line 736, in format_record\n",
      "    result += ''.join(_format_traceback_lines(frame_info.lines, Colors, self.has_colors, lvals))\n",
      "  File \"c:\\Users\\mc'lupr\\AppData\\Local\\Programs\\Python\\Python310\\lib\\site-packages\\stack_data\\utils.py\", line 145, in cached_property_wrapper\n",
      "    value = obj.__dict__[self.func.__name__] = self.func(obj)\n",
      "  File \"c:\\Users\\mc'lupr\\AppData\\Local\\Programs\\Python\\Python310\\lib\\site-packages\\stack_data\\core.py\", line 698, in lines\n",
      "    pieces = self.included_pieces\n",
      "  File \"c:\\Users\\mc'lupr\\AppData\\Local\\Programs\\Python\\Python310\\lib\\site-packages\\stack_data\\utils.py\", line 145, in cached_property_wrapper\n",
      "    value = obj.__dict__[self.func.__name__] = self.func(obj)\n",
      "  File \"c:\\Users\\mc'lupr\\AppData\\Local\\Programs\\Python\\Python310\\lib\\site-packages\\stack_data\\core.py\", line 649, in included_pieces\n",
      "    pos = scope_pieces.index(self.executing_piece)\n",
      "  File \"c:\\Users\\mc'lupr\\AppData\\Local\\Programs\\Python\\Python310\\lib\\site-packages\\stack_data\\utils.py\", line 145, in cached_property_wrapper\n",
      "    value = obj.__dict__[self.func.__name__] = self.func(obj)\n",
      "  File \"c:\\Users\\mc'lupr\\AppData\\Local\\Programs\\Python\\Python310\\lib\\site-packages\\stack_data\\core.py\", line 628, in executing_piece\n",
      "    return only(\n",
      "  File \"c:\\Users\\mc'lupr\\AppData\\Local\\Programs\\Python\\Python310\\lib\\site-packages\\executing\\executing.py\", line 164, in only\n",
      "    raise NotOneValueFound('Expected one value, found 0')\n",
      "executing.executing.NotOneValueFound: Expected one value, found 0\n"
     ]
    }
   ],
   "source": [
    "tree = DecisionTree(criterion='information_gain', max_depth=12) #Split based on Inf. Gain\n",
    "tree.fit(X, y)\n",
    "tree.plot()\n",
    "y_hat = tree.predict(X)\n",
    "print(accuracy(y_hat, y))\n",
    "for cls in y.unique():\n",
    "    print('Precision: ', precision(y_hat, y, cls))\n",
    "    print('Recall: ', recall(y_hat, y, cls))\n"
   ]
  },
  {
   "cell_type": "code",
   "execution_count": 1,
   "id": "fbc83cad",
   "metadata": {},
   "outputs": [],
   "source": [
    "\n",
    "import pandas as pd\n",
    "import numpy as np\n",
    "import matplotlib.pyplot as plt\n",
    "from tree.base import DecisionTree\n",
    "from metrics import *\n",
    "\n",
    "from sklearn.model_selection import train_test_split\n",
    "from sklearn.tree import DecisionTreeRegressor\n",
    "from sklearn.tree import DecisionTreeClassifier\n",
    "\n",
    "np.random.seed(42)\n",
    "\n",
    "# Read real-estate data set\n",
    "# ...\n",
    "# \n",
    "\n",
    "# data.shape\n",
    "\n",
    "\n"
   ]
  },
  {
   "cell_type": "code",
   "execution_count": 4,
   "id": "85dc1684",
   "metadata": {},
   "outputs": [
    {
     "name": "stdout",
     "output_type": "stream",
     "text": [
      "Train RMSE:  1.9671692497752686\n",
      "Test RMSE:  3.2434445505858878\n",
      "Train MAE:  1.4148159594308365\n",
      "Test MAE:  2.294136636833298\n"
     ]
    }
   ],
   "source": [
    "col_names = ['mpg', 'cylinders', 'displacement', 'horsepower', 'weight', 'acceleration', 'model year', 'origin', 'car name']\n",
    "data = pd.read_fwf('auto-mpg.data', header=None, names=col_names)\n",
    "data = data[data['horsepower'] != '?'].reset_index()\n",
    "\n",
    "# data.shape\n",
    "\n",
    "# data['mpg'] = data['mpg'].astype('float')\n",
    "# data['cylinders'] = data['cylinders'].astype('category')\n",
    "# data['displacement'] = data['displacement'].astype('float')\n",
    "data['horsepower'] = data['horsepower'].astype('float')\n",
    "# data['weight'] = data['weight'].astype('float')\n",
    "# data['acceleration'] = data['acceleration'].astype('float')\n",
    "# data['model year'] = data['model year'].astype('category')\n",
    "# data['origin'] = data['origin'].astype('category')\n",
    "# data['car name'] = data['car name'].astype('category')\n",
    "# data\n",
    "\n",
    "y = data['mpg']\n",
    "data.drop('car name', axis=1, inplace=True)\n",
    "X = data.drop('mpg', axis=1)\n",
    "# print( y.dtype)\n",
    "X_train, X_test, y_train, y_test = train_test_split(X, y, test_size=0.3, random_state=42)\n",
    "\n",
    "\n",
    "def get_results(model ,X_train, X_test, y_train, y_test):\n",
    "\n",
    "    model.fit(X_train, y_train)\n",
    "    # model.plot()\n",
    "    y_hat_train = model.predict(X_train)\n",
    "    y_hat_test = model.predict(X_test)\n",
    "    print('Train RMSE: ', rmse(y_hat_train, y_train))\n",
    "    print('Test RMSE: ', rmse(y_hat_test, y_test))\n",
    "    print('Train MAE: ', mae(y_hat_train, y_train))\n",
    "    print('Test MAE: ', mae(y_hat_test, y_test))\n",
    "\n",
    "# print('\\n DEPTH',5)\n",
    "# model1 = DecisionTree(criterion=None, max_depth=5) #Split based on Inf. Gain\n",
    "\n",
    "# # get_results(model1, X_train, X_test, y_train, y_test)\n",
    "\n",
    "model2 = DecisionTreeRegressor(max_depth=5)\n",
    "get_results(model2, X_train, X_test, y_train, y_test)\n",
    "\n",
    "# # print('\\n DEPTH',10)\n",
    "# # get_results(X_train, X_test, y_train, y_test, None, 10)\n",
    "# # print('\\n DEPTH',20)\n",
    "# # get_results(X_train, X_test, y_train, y_test, None, 20)\n",
    "\n",
    "\n",
    "\n",
    "\n"
   ]
  },
  {
   "attachments": {},
   "cell_type": "markdown",
   "id": "e8935908",
   "metadata": {},
   "source": [
    "# Nested cross validation"
   ]
  },
  {
   "cell_type": "code",
   "execution_count": 5,
   "id": "8f35d2e1",
   "metadata": {},
   "outputs": [
    {
     "name": "stdout",
     "output_type": "stream",
     "text": [
      "(70, 2) (30, 2) (70,) (30,)\n"
     ]
    }
   ],
   "source": [
    "import pandas as pd\n",
    "import numpy as np\n",
    "import matplotlib.pyplot as plt\n",
    "from tree.base import DecisionTree\n",
    "from metrics import *\n",
    "\n",
    "np.random.seed(42)\n",
    "\n",
    "# Read dataset\n",
    "# ...\n",
    "# \n",
    "\n",
    "from sklearn.datasets import make_classification\n",
    "X, y = make_classification(\n",
    "n_features=2, n_redundant=0 ,n_informative=2, random_state=1, n_clusters_per_class=2, class_sep=0.5)\n",
    "\n",
    "\n"
   ]
  },
  {
   "cell_type": "code",
   "execution_count": 6,
   "id": "e15c5983",
   "metadata": {},
   "outputs": [],
   "source": [
    "def get_scores(trainX, trainY, testX, testY, depth, criteria):\n",
    "    tree = DecisionTree(criterion=criteria, max_depth=depth) #Split based on Inf. Gain\n",
    "    tree.fit(X_train, y_train)\n",
    "    y_hat = tree.predict(X_test)\n",
    "    acc = accuracy(y_hat, y_test)\n",
    "    return acc"
   ]
  },
  {
   "cell_type": "code",
   "execution_count": 7,
   "id": "a428698a",
   "metadata": {},
   "outputs": [],
   "source": [
    "def nested_cross_validation(X, y, criteria):\n",
    "\n",
    "    foldX = [X[int(i/5 *len(X)) : int((i+1)/5 *len(X))] for i in range(5)]\n",
    "    foldy = [y[int(i/5 *len(y)) : int((i+1)/5 *len(y))] for i in range(5)]\n",
    "    testing_score = {}\n",
    "    for outerFold in range(1, 6):\n",
    "        testX = pd.DataFrame(foldX[outerFold-1])\n",
    "        testY = pd.Series(foldy[outerFold-1])\n",
    "        trainX = pd.concat([pd.DataFrame(foldX[(outerFold+i)%5]) for i in range(1,5)]).reset_index(drop=True)\n",
    "        trainY = pd.concat([pd.Series(foldy[(outerFold+1)%5]) for i in range(1,5) ]).reset_index(drop=True)\n",
    "\n",
    "        foldX_inner = [trainX[int(i/5 *len(X)) : int((i+1)/5 *len(X))] for i in range(5)]\n",
    "        foldy_inner = [trainY[int(i/5 *len(y)) : int((i+1)/5 *len(y))] for i in range(5)]\n",
    "\n",
    "        depth_accuracy_map = dict()\n",
    "        for depth in range(1,20):\n",
    "            validation_score = []\n",
    "            for innerfold in range(1, 6):\n",
    "                valdX = pd.DataFrame(foldX_inner[innerfold-1])\n",
    "                valdY = pd.Series(foldy_inner[innerfold-1])\n",
    "                trainX_inner = pd.concat([pd.DataFrame(foldX_inner[(outerFold+i)%5]) for i in range(1,5)]).reset_index(drop=True)\n",
    "                trainY_inner = pd.concat([pd.Series(foldy_inner[(outerFold+1)%5]) for i in range(1,5) ]).reset_index(drop=True)\n",
    "                \n",
    "                validation_score.append(get_scores(trainX_inner, trainY_inner, valdX, valdY, depth, criteria))\n",
    "\n",
    "            depth_accuracy_map[depth] = np.mean(validation_score)\n",
    "        print(depth_accuracy_map)\n",
    "        max_depth_accuracy = max(depth_accuracy_map, key= lambda x: depth_accuracy_map[x])\n",
    "\n",
    "        testing_score[max_depth_accuracy] = get_scores(trainX, trainY, testX, testY, max_depth_accuracy, criteria)\n",
    "    return testing_score\n"
   ]
  },
  {
   "cell_type": "code",
   "execution_count": null,
   "id": "1aef4259",
   "metadata": {},
   "outputs": [],
   "source": [
    "criteria = 'gini_index'\n",
    "testing_score = nested_cross_validation(X, y, criteria)\n"
   ]
  },
  {
   "cell_type": "code",
   "execution_count": 9,
   "id": "98a7bf37",
   "metadata": {},
   "outputs": [
    {
     "data": {
      "text/plain": [
       "[array([1, 1, 0, 0, 0, 1, 1, 1, 0, 1, 0, 0, 1, 0, 0, 1, 1, 1, 0, 0]),\n",
       " array([0, 0, 0, 1, 0, 0, 0, 0, 0, 0, 1, 0, 0, 1, 0, 0, 0, 0, 1, 1]),\n",
       " array([1, 0, 0, 1, 1, 1, 0, 1, 0, 1, 1, 0, 1, 0, 0, 0, 0, 1, 1, 1]),\n",
       " array([1, 0, 1, 1, 0, 1, 1, 1, 0, 0, 0, 0, 1, 1, 1, 1, 0, 0, 1, 1]),\n",
       " array([1, 1, 0, 1, 1, 0, 1, 1, 1, 0, 0, 1, 1, 0, 1, 1, 0, 0, 1, 0])]"
      ]
     },
     "execution_count": 9,
     "metadata": {},
     "output_type": "execute_result"
    }
   ],
   "source": [
    "foldX = [X[int(i/5 *len(X)) : int((i+1)/5 *len(X))] for i in range(5)]\n",
    "foldy = [y[int(i/5 *len(y)) : int((i+1)/5 *len(y))] for i in range(5)]\n",
    "\n",
    "foldy"
   ]
  },
  {
   "cell_type": "code",
   "execution_count": 10,
   "id": "e06d5ad0",
   "metadata": {},
   "outputs": [
    {
     "data": {
      "text/plain": [
       "array([1, 1, 0, 0, 0, 1, 1, 1, 0, 1, 0, 0, 1, 0, 0, 1, 1, 1, 0, 0, 0, 0,\n",
       "       0, 1, 0, 0, 0, 0, 0, 0, 1, 0, 0, 1, 0, 0, 0, 0, 1, 1, 1, 0, 0, 1,\n",
       "       1, 1, 0, 1, 0, 1, 1, 0, 1, 0, 0, 0, 0, 1, 1, 1, 1, 0, 1, 1, 0, 1,\n",
       "       1, 1, 0, 0, 0, 0, 1, 1, 1, 1, 0, 0, 1, 1, 1, 1, 0, 1, 1, 0, 1, 1,\n",
       "       1, 0, 0, 1, 1, 0, 1, 1, 0, 0, 1, 0])"
      ]
     },
     "execution_count": 10,
     "metadata": {},
     "output_type": "execute_result"
    }
   ],
   "source": [
    "y"
   ]
  },
  {
   "cell_type": "code",
   "execution_count": 12,
   "id": "741817a0",
   "metadata": {},
   "outputs": [
    {
     "data": {
      "text/plain": [
       "0"
      ]
     },
     "execution_count": 12,
     "metadata": {},
     "output_type": "execute_result"
    }
   ],
   "source": [
    "lst = [(4,2),(3,3),(2,4),(1,5),(0,6)]\n",
    "max(lst, key= lambda x: x[1])[0]"
   ]
  },
  {
   "cell_type": "code",
   "execution_count": 3,
   "id": "5bfce18c",
   "metadata": {},
   "outputs": [
    {
     "ename": "ValueError",
     "evalue": "x and y must be the same size",
     "output_type": "error",
     "traceback": [
      "\u001b[1;31m---------------------------------------------------------------------------\u001b[0m",
      "\u001b[1;31mValueError\u001b[0m                                Traceback (most recent call last)",
      "\u001b[1;32mc:\\Users\\mc'lupr\\Dropbox\\PC\\Documents\\GitHub\\assignment-1-siddhesh\\tryNtest.ipynb Cell 92\u001b[0m in \u001b[0;36m<cell line: 13>\u001b[1;34m()\u001b[0m\n\u001b[0;32m     <a href='vscode-notebook-cell:/c%3A/Users/mc%27lupr/Dropbox/PC/Documents/GitHub/assignment-1-siddhesh/tryNtest.ipynb#Y160sZmlsZQ%3D%3D?line=12'>13</a>\u001b[0m \u001b[39mfor\u001b[39;00m criteria \u001b[39min\u001b[39;00m [\u001b[39m'\u001b[39m\u001b[39minformation_gain\u001b[39m\u001b[39m'\u001b[39m, \u001b[39m'\u001b[39m\u001b[39mgini_index\u001b[39m\u001b[39m'\u001b[39m]:\n\u001b[0;32m     <a href='vscode-notebook-cell:/c%3A/Users/mc%27lupr/Dropbox/PC/Documents/GitHub/assignment-1-siddhesh/tryNtest.ipynb#Y160sZmlsZQ%3D%3D?line=13'>14</a>\u001b[0m     tree \u001b[39m=\u001b[39m DecisionTree(criterion\u001b[39m=\u001b[39mcriteria, max_depth\u001b[39m=\u001b[39m\u001b[39m10\u001b[39m) \u001b[39m#Split based on Inf. Gain\u001b[39;00m\n\u001b[1;32m---> <a href='vscode-notebook-cell:/c%3A/Users/mc%27lupr/Dropbox/PC/Documents/GitHub/assignment-1-siddhesh/tryNtest.ipynb#Y160sZmlsZQ%3D%3D?line=14'>15</a>\u001b[0m     tree\u001b[39m.\u001b[39;49mfit(X, y)\n\u001b[0;32m     <a href='vscode-notebook-cell:/c%3A/Users/mc%27lupr/Dropbox/PC/Documents/GitHub/assignment-1-siddhesh/tryNtest.ipynb#Y160sZmlsZQ%3D%3D?line=15'>16</a>\u001b[0m     y_hat \u001b[39m=\u001b[39m tree\u001b[39m.\u001b[39mpredict(X)\n\u001b[0;32m     <a href='vscode-notebook-cell:/c%3A/Users/mc%27lupr/Dropbox/PC/Documents/GitHub/assignment-1-siddhesh/tryNtest.ipynb#Y160sZmlsZQ%3D%3D?line=16'>17</a>\u001b[0m     \u001b[39m# print(pd.DataFrame({'y_hat':y_hat, 'y':y}))\u001b[39;00m\n",
      "File \u001b[1;32mc:\\Users\\mc'lupr\\Dropbox\\PC\\Documents\\GitHub\\assignment-1-siddhesh\\tree\\base.py:210\u001b[0m, in \u001b[0;36mDecisionTree.fit\u001b[1;34m(self, X, y)\u001b[0m\n\u001b[0;32m    208\u001b[0m X_copy \u001b[39m=\u001b[39m X\u001b[39m.\u001b[39mcopy()\n\u001b[0;32m    209\u001b[0m y_copy \u001b[39m=\u001b[39m y\u001b[39m.\u001b[39mcopy()\n\u001b[1;32m--> 210\u001b[0m tree \u001b[39m=\u001b[39m \u001b[39mself\u001b[39;49m\u001b[39m.\u001b[39;49mbuild_decision_tree(X_copy, y_copy)\n\u001b[0;32m    211\u001b[0m \u001b[39mself\u001b[39m\u001b[39m.\u001b[39mroot \u001b[39m=\u001b[39m tree\n",
      "File \u001b[1;32mc:\\Users\\mc'lupr\\Dropbox\\PC\\Documents\\GitHub\\assignment-1-siddhesh\\tree\\base.py:128\u001b[0m, in \u001b[0;36mDecisionTree.build_decision_tree\u001b[1;34m(self, X, Y, current_depth)\u001b[0m\n\u001b[0;32m    124\u001b[0m \u001b[39m# print(\"bestAttr\",bestAttr)\u001b[39;00m\n\u001b[0;32m    125\u001b[0m \u001b[39m# print('type: ',X[bestAttr].dtype)\u001b[39;00m\n\u001b[0;32m    126\u001b[0m \u001b[39mif\u001b[39;00m X[bestAttr]\u001b[39m.\u001b[39mdtype \u001b[39m!=\u001b[39m \u001b[39m'\u001b[39m\u001b[39mcategory\u001b[39m\u001b[39m'\u001b[39m:\n\u001b[1;32m--> 128\u001b[0m     plt\u001b[39m.\u001b[39;49mscatter(X, Y)\n\u001b[0;32m    130\u001b[0m     X_subset_le \u001b[39m=\u001b[39m X[X[bestAttr] \u001b[39m<\u001b[39m\u001b[39m=\u001b[39m split_value]\n\u001b[0;32m    131\u001b[0m     Y_subset_le \u001b[39m=\u001b[39m Y[X[bestAttr] \u001b[39m<\u001b[39m\u001b[39m=\u001b[39m split_value]\n",
      "File \u001b[1;32mc:\\Users\\mc'lupr\\AppData\\Local\\Programs\\Python\\Python310\\lib\\site-packages\\matplotlib\\pyplot.py:2817\u001b[0m, in \u001b[0;36mscatter\u001b[1;34m(x, y, s, c, marker, cmap, norm, vmin, vmax, alpha, linewidths, edgecolors, plotnonfinite, data, **kwargs)\u001b[0m\n\u001b[0;32m   2812\u001b[0m \u001b[39m@_copy_docstring_and_deprecators\u001b[39m(Axes\u001b[39m.\u001b[39mscatter)\n\u001b[0;32m   2813\u001b[0m \u001b[39mdef\u001b[39;00m \u001b[39mscatter\u001b[39m(\n\u001b[0;32m   2814\u001b[0m         x, y, s\u001b[39m=\u001b[39m\u001b[39mNone\u001b[39;00m, c\u001b[39m=\u001b[39m\u001b[39mNone\u001b[39;00m, marker\u001b[39m=\u001b[39m\u001b[39mNone\u001b[39;00m, cmap\u001b[39m=\u001b[39m\u001b[39mNone\u001b[39;00m, norm\u001b[39m=\u001b[39m\u001b[39mNone\u001b[39;00m,\n\u001b[0;32m   2815\u001b[0m         vmin\u001b[39m=\u001b[39m\u001b[39mNone\u001b[39;00m, vmax\u001b[39m=\u001b[39m\u001b[39mNone\u001b[39;00m, alpha\u001b[39m=\u001b[39m\u001b[39mNone\u001b[39;00m, linewidths\u001b[39m=\u001b[39m\u001b[39mNone\u001b[39;00m, \u001b[39m*\u001b[39m,\n\u001b[0;32m   2816\u001b[0m         edgecolors\u001b[39m=\u001b[39m\u001b[39mNone\u001b[39;00m, plotnonfinite\u001b[39m=\u001b[39m\u001b[39mFalse\u001b[39;00m, data\u001b[39m=\u001b[39m\u001b[39mNone\u001b[39;00m, \u001b[39m*\u001b[39m\u001b[39m*\u001b[39mkwargs):\n\u001b[1;32m-> 2817\u001b[0m     __ret \u001b[39m=\u001b[39m gca()\u001b[39m.\u001b[39mscatter(\n\u001b[0;32m   2818\u001b[0m         x, y, s\u001b[39m=\u001b[39ms, c\u001b[39m=\u001b[39mc, marker\u001b[39m=\u001b[39mmarker, cmap\u001b[39m=\u001b[39mcmap, norm\u001b[39m=\u001b[39mnorm,\n\u001b[0;32m   2819\u001b[0m         vmin\u001b[39m=\u001b[39mvmin, vmax\u001b[39m=\u001b[39mvmax, alpha\u001b[39m=\u001b[39malpha, linewidths\u001b[39m=\u001b[39mlinewidths,\n\u001b[0;32m   2820\u001b[0m         edgecolors\u001b[39m=\u001b[39medgecolors, plotnonfinite\u001b[39m=\u001b[39mplotnonfinite,\n\u001b[0;32m   2821\u001b[0m         \u001b[39m*\u001b[39m\u001b[39m*\u001b[39m({\u001b[39m\"\u001b[39m\u001b[39mdata\u001b[39m\u001b[39m\"\u001b[39m: data} \u001b[39mif\u001b[39;00m data \u001b[39mis\u001b[39;00m \u001b[39mnot\u001b[39;00m \u001b[39mNone\u001b[39;00m \u001b[39melse\u001b[39;00m {}), \u001b[39m*\u001b[39m\u001b[39m*\u001b[39mkwargs)\n\u001b[0;32m   2822\u001b[0m     sci(__ret)\n\u001b[0;32m   2823\u001b[0m     \u001b[39mreturn\u001b[39;00m __ret\n",
      "File \u001b[1;32mc:\\Users\\mc'lupr\\AppData\\Local\\Programs\\Python\\Python310\\lib\\site-packages\\matplotlib\\__init__.py:1414\u001b[0m, in \u001b[0;36m_preprocess_data.<locals>.inner\u001b[1;34m(ax, data, *args, **kwargs)\u001b[0m\n\u001b[0;32m   1411\u001b[0m \u001b[39m@functools\u001b[39m\u001b[39m.\u001b[39mwraps(func)\n\u001b[0;32m   1412\u001b[0m \u001b[39mdef\u001b[39;00m \u001b[39minner\u001b[39m(ax, \u001b[39m*\u001b[39margs, data\u001b[39m=\u001b[39m\u001b[39mNone\u001b[39;00m, \u001b[39m*\u001b[39m\u001b[39m*\u001b[39mkwargs):\n\u001b[0;32m   1413\u001b[0m     \u001b[39mif\u001b[39;00m data \u001b[39mis\u001b[39;00m \u001b[39mNone\u001b[39;00m:\n\u001b[1;32m-> 1414\u001b[0m         \u001b[39mreturn\u001b[39;00m func(ax, \u001b[39m*\u001b[39m\u001b[39mmap\u001b[39m(sanitize_sequence, args), \u001b[39m*\u001b[39m\u001b[39m*\u001b[39mkwargs)\n\u001b[0;32m   1416\u001b[0m     bound \u001b[39m=\u001b[39m new_sig\u001b[39m.\u001b[39mbind(ax, \u001b[39m*\u001b[39margs, \u001b[39m*\u001b[39m\u001b[39m*\u001b[39mkwargs)\n\u001b[0;32m   1417\u001b[0m     auto_label \u001b[39m=\u001b[39m (bound\u001b[39m.\u001b[39marguments\u001b[39m.\u001b[39mget(label_namer)\n\u001b[0;32m   1418\u001b[0m                   \u001b[39mor\u001b[39;00m bound\u001b[39m.\u001b[39mkwargs\u001b[39m.\u001b[39mget(label_namer))\n",
      "File \u001b[1;32mc:\\Users\\mc'lupr\\AppData\\Local\\Programs\\Python\\Python310\\lib\\site-packages\\matplotlib\\axes\\_axes.py:4368\u001b[0m, in \u001b[0;36mAxes.scatter\u001b[1;34m(self, x, y, s, c, marker, cmap, norm, vmin, vmax, alpha, linewidths, edgecolors, plotnonfinite, **kwargs)\u001b[0m\n\u001b[0;32m   4366\u001b[0m y \u001b[39m=\u001b[39m np\u001b[39m.\u001b[39mma\u001b[39m.\u001b[39mravel(y)\n\u001b[0;32m   4367\u001b[0m \u001b[39mif\u001b[39;00m x\u001b[39m.\u001b[39msize \u001b[39m!=\u001b[39m y\u001b[39m.\u001b[39msize:\n\u001b[1;32m-> 4368\u001b[0m     \u001b[39mraise\u001b[39;00m \u001b[39mValueError\u001b[39;00m(\u001b[39m\"\u001b[39m\u001b[39mx and y must be the same size\u001b[39m\u001b[39m\"\u001b[39m)\n\u001b[0;32m   4370\u001b[0m \u001b[39mif\u001b[39;00m s \u001b[39mis\u001b[39;00m \u001b[39mNone\u001b[39;00m:\n\u001b[0;32m   4371\u001b[0m     s \u001b[39m=\u001b[39m (\u001b[39m20\u001b[39m \u001b[39mif\u001b[39;00m rcParams[\u001b[39m'\u001b[39m\u001b[39m_internal.classic_mode\u001b[39m\u001b[39m'\u001b[39m] \u001b[39melse\u001b[39;00m\n\u001b[0;32m   4372\u001b[0m          rcParams[\u001b[39m'\u001b[39m\u001b[39mlines.markersize\u001b[39m\u001b[39m'\u001b[39m] \u001b[39m*\u001b[39m\u001b[39m*\u001b[39m \u001b[39m2.0\u001b[39m)\n",
      "\u001b[1;31mValueError\u001b[0m: x and y must be the same size"
     ]
    },
    {
     "data": {
      "image/png": "[encoded data removed]",
      "text/plain": [
       "<Figure size 432x288 with 1 Axes>"
      ]
     },
     "metadata": {
      "needs_background": "light"
     },
     "output_type": "display_data"
    }
   ],
   "source": [
    "import numpy as np\n",
    "import pandas as pd\n",
    "import matplotlib.pyplot as plt\n",
    "from tree.base import DecisionTree\n",
    "from metrics import *\n",
    "\n",
    "\n",
    "N = 30\n",
    "P = 2\n",
    "X = pd.DataFrame(np.random.randn(N, P))\n",
    "y = pd.Series(np.random.randint(P, size = N), dtype=\"category\")\n",
    "\n",
    "for criteria in ['information_gain', 'gini_index']:\n",
    "    tree = DecisionTree(criterion=criteria, max_depth=10) #Split based on Inf. Gain\n",
    "    tree.fit(X, y)\n",
    "    y_hat = tree.predict(X)\n",
    "    # print(pd.DataFrame({'y_hat':y_hat, 'y':y}))\n",
    "    tree.plot()\n",
    "    print('Criteria :', criteria)\n",
    "    print('Accuracy: ', accuracy(y_hat, y))\n",
    "    for cls in y.unique():\n",
    "        print('Class: ', cls)\n",
    "        print('Precision: ', precision(y_hat, y, cls))\n",
    "        print('Recall: ', recall(y_hat, y, cls))\n"
   ]
  },
  {
   "cell_type": "code",
   "execution_count": 5,
   "id": "b84fc20a",
   "metadata": {},
   "outputs": [
    {
     "data": {
      "text/plain": [
       "13    4.9\n",
       "11    8.2\n",
       "12    5.6\n",
       "dtype: float64"
      ]
     },
     "execution_count": 5,
     "metadata": {},
     "output_type": "execute_result"
    }
   ],
   "source": [
    "import pandas as pd\n",
    "a = pd.Series(data=[4.9,8.2,5.6],index=[13,11,12])\n",
    "a"
   ]
  },
  {
   "cell_type": "code",
   "execution_count": 6,
   "id": "4ad349f3",
   "metadata": {},
   "outputs": [
    {
     "data": {
      "text/plain": [
       "0    4.9\n",
       "1    8.2\n",
       "2    5.6\n",
       "dtype: float64"
      ]
     },
     "execution_count": 6,
     "metadata": {},
     "output_type": "execute_result"
    }
   ],
   "source": [
    "a.reset_index(drop=True, inplace = True)\n",
    "a"
   ]
  },
  {
   "cell_type": "code",
   "execution_count": 1,
   "id": "749622cd",
   "metadata": {},
   "outputs": [
    {
     "name": "stdout",
     "output_type": "stream",
     "text": [
      "1    1\n",
      "2    7\n",
      "3    3\n",
      "4    8\n",
      "5    5\n",
      "6    9\n",
      "7    2\n",
      "dtype: int64\n",
      "1      1\n",
      "2      2\n",
      "3      3\n",
      "4      4\n",
      "5      5\n",
      "6      6\n",
      "7      7\n",
      "8      8\n",
      "9      9\n",
      "10    10\n",
      "dtype: int64\n"
     ]
    }
   ],
   "source": [
    "import pandas as pd\n",
    "\n",
    "y = pd.Series([1,2,3,4,5,6,7,8,9,10], index=[1,2,3,4,5,6,7,8,9,10])\n",
    "\n",
    "x = pd.Series([1,7,3,8,5,9,2], index=[1,2,3,4,5,6,7])\n",
    "\n",
    "print(x)\n",
    "print(y)"
   ]
  },
  {
   "cell_type": "code",
   "execution_count": 2,
   "id": "9800eb05",
   "metadata": {},
   "outputs": [
    {
     "ename": "IndexingError",
     "evalue": "Unalignable boolean Series provided as indexer (index of the boolean Series and of the indexed object do not match).",
     "output_type": "error",
     "traceback": [
      "\u001b[1;31m---------------------------------------------------------------------------\u001b[0m",
      "\u001b[1;31mIndexingError\u001b[0m                             Traceback (most recent call last)",
      "Cell \u001b[1;32mIn[2], line 1\u001b[0m\n\u001b[1;32m----> 1\u001b[0m y[x \u001b[39m<\u001b[39;49m \u001b[39m5\u001b[39;49m]\n",
      "File \u001b[1;32mc:\\Users\\HXP\\AppData\\Local\\Programs\\Python\\Python311\\Lib\\site-packages\\pandas\\core\\series.py:1003\u001b[0m, in \u001b[0;36mSeries.__getitem__\u001b[1;34m(self, key)\u001b[0m\n\u001b[0;32m   1000\u001b[0m     key \u001b[39m=\u001b[39m \u001b[39mlist\u001b[39m(key)\n\u001b[0;32m   1002\u001b[0m \u001b[39mif\u001b[39;00m com\u001b[39m.\u001b[39mis_bool_indexer(key):\n\u001b[1;32m-> 1003\u001b[0m     key \u001b[39m=\u001b[39m check_bool_indexer(\u001b[39mself\u001b[39;49m\u001b[39m.\u001b[39;49mindex, key)\n\u001b[0;32m   1004\u001b[0m     key \u001b[39m=\u001b[39m np\u001b[39m.\u001b[39masarray(key, dtype\u001b[39m=\u001b[39m\u001b[39mbool\u001b[39m)\n\u001b[0;32m   1005\u001b[0m     \u001b[39mreturn\u001b[39;00m \u001b[39mself\u001b[39m\u001b[39m.\u001b[39m_get_values(key)\n",
      "File \u001b[1;32mc:\\Users\\HXP\\AppData\\Local\\Programs\\Python\\Python311\\Lib\\site-packages\\pandas\\core\\indexing.py:2552\u001b[0m, in \u001b[0;36mcheck_bool_indexer\u001b[1;34m(index, key)\u001b[0m\n\u001b[0;32m   2550\u001b[0m indexer \u001b[39m=\u001b[39m result\u001b[39m.\u001b[39mindex\u001b[39m.\u001b[39mget_indexer_for(index)\n\u001b[0;32m   2551\u001b[0m \u001b[39mif\u001b[39;00m \u001b[39m-\u001b[39m\u001b[39m1\u001b[39m \u001b[39min\u001b[39;00m indexer:\n\u001b[1;32m-> 2552\u001b[0m     \u001b[39mraise\u001b[39;00m IndexingError(\n\u001b[0;32m   2553\u001b[0m         \u001b[39m\"\u001b[39m\u001b[39mUnalignable boolean Series provided as \u001b[39m\u001b[39m\"\u001b[39m\n\u001b[0;32m   2554\u001b[0m         \u001b[39m\"\u001b[39m\u001b[39mindexer (index of the boolean Series and of \u001b[39m\u001b[39m\"\u001b[39m\n\u001b[0;32m   2555\u001b[0m         \u001b[39m\"\u001b[39m\u001b[39mthe indexed object do not match).\u001b[39m\u001b[39m\"\u001b[39m\n\u001b[0;32m   2556\u001b[0m     )\n\u001b[0;32m   2558\u001b[0m result \u001b[39m=\u001b[39m result\u001b[39m.\u001b[39mtake(indexer)\n\u001b[0;32m   2560\u001b[0m \u001b[39m# fall through for boolean\u001b[39;00m\n",
      "\u001b[1;31mIndexingError\u001b[0m: Unalignable boolean Series provided as indexer (index of the boolean Series and of the indexed object do not match)."
     ]
    }
   ],
   "source": [
    "y[x < 5]"
   ]
  },
  {
   "cell_type": "code",
   "execution_count": 5,
   "id": "43834dc4",
   "metadata": {},
   "outputs": [],
   "source": [
    "outerFolds = 5 \n",
    "res = [(int(i/outerFolds *100), int((i+1)/outerFolds *100)) for i in range(outerFolds)]\n"
   ]
  },
  {
   "cell_type": "code",
   "execution_count": 6,
   "id": "9af52d6c",
   "metadata": {},
   "outputs": [
    {
     "data": {
      "text/plain": [
       "[(0, 20), (20, 40), (40, 60), (60, 80), (80, 100)]"
      ]
     },
     "execution_count": 6,
     "metadata": {},
     "output_type": "execute_result"
    }
   ],
   "source": [
    "res"
   ]
  },
  {
   "cell_type": "code",
   "execution_count": null,
   "id": "e59556b0",
   "metadata": {},
   "outputs": [],
   "source": []
  }
 ],
 "metadata": {
  "kernelspec": {
   "display_name": "Python 3",
   "language": "python",
   "name": "python3"
  },
  "language_info": {
   "codemirror_mode": {
    "name": "ipython",
    "version": 3
   },
   "file_extension": ".py",
   "mimetype": "text/x-python",
   "name": "python",
   "nbconvert_exporter": "python",
   "pygments_lexer": "ipython3",
   "version": "3.11.1"
  },
  "vscode": {
   "interpreter": {
    "hash": "8012b8fc6c6c2ba0ba2aca6f15f8b963e31f94d4ec771e80e2e2aa356161a46c"
   }
  }
 },
 "nbformat": 4,
 "nbformat_minor": 5
}
