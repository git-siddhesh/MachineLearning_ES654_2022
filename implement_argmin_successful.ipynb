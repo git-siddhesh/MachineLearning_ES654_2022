{
  "nbformat": 4,
  "nbformat_minor": 0,
  "metadata": {
    "colab": {
      "provenance": [],
      "authorship_tag": "ABX9TyN2PrQKFoSEJDcVpxu3aBNL",
      "include_colab_link": true
    },
    "kernelspec": {
      "name": "python3",
      "display_name": "Python 3"
    },
    "language_info": {
      "name": "python"
    }
  },
  "cells": [
    {
      "cell_type": "markdown",
      "metadata": {
        "id": "view-in-github",
        "colab_type": "text"
      },
      "source": [
        "<a href=\"https://colab.research.google.com/github/git-siddhesh/MachineLearning_ES654_2022/blob/main/implement_argmin_successful.ipynb\" target=\"_parent\"><img src=\"https://colab.research.google.com/assets/colab-badge.svg\" alt=\"Open In Colab\"/></a>"
      ]
    },
    {
      "cell_type": "code",
      "execution_count": 2,
      "metadata": {
        "colab": {
          "base_uri": "https://localhost:8080/"
        },
        "id": "AAdfDJbF1AXQ",
        "outputId": "439400a8-23a2-48a5-f178-137917671d7a"
      },
      "outputs": [
        {
          "output_type": "stream",
          "name": "stdout",
          "text": [
            "ANSWER:  [[[0, 1], [1, 0]], [[1, 0], [0, 0]], [[1, 0], [0, 0]]]\n",
            "\n",
            "ANSWER:  [[[0, 1], [2, 0]], [[1, 0], [0, 0]]]\n",
            "Actual answer: \n",
            "[[[0 1]\n",
            "  [1 0]]\n",
            "\n",
            " [[1 0]\n",
            "  [0 0]]\n",
            "\n",
            " [[1 0]\n",
            "  [0 0]]]\n",
            "\n",
            "[[[0 1]\n",
            "  [2 0]]\n",
            "\n",
            " [[1 0]\n",
            "  [0 0]]]\n",
            "SHAPE:  (2, 3, 2, 2)\n"
          ]
        }
      ],
      "source": [
        "import numpy as np\n",
        "def find_min_idx(arr ):\n",
        "    # print(arr,\"\\n\")\n",
        "    if arr.ndim == 1:\n",
        "        min_idx = 0\n",
        "        min_val = arr[0]\n",
        "        for i in range(1, len(arr)):\n",
        "            if min_val > arr[i]:\n",
        "                min_val = arr[i]\n",
        "                min_idx = i\n",
        "        return min_idx\n",
        "    else:\n",
        "        ans1 = [None]*arr.shape[1]\n",
        "        for k in range(arr.shape[1]):\n",
        "            ans1[k] = find_min_idx(arr[:,k])\n",
        "        return ans1\n",
        "def argmin(arr, axis = None):\n",
        "    arr = np.array(arr)\n",
        "    if axis == None:\n",
        "        min_idx = 0\n",
        "        arr2 = arr.flatten()\n",
        "        min_val = arr2[0]\n",
        "        for i in range(1, len(arr2)):\n",
        "            if min_val > arr2[i]:\n",
        "                min_val = arr2[i]\n",
        "                min_idx = i\n",
        "        return min_idx\n",
        "    elif axis == 1:\n",
        "        ans = [None]*arr.shape[0]\n",
        "        for row in range(arr.shape[0]):\n",
        "            ans[row] = find_min_idx(arr[row,:])\n",
        "        return ans\n",
        "\n",
        "    else:\n",
        "        ans = [None]*arr.shape[1]\n",
        "        for col in range(arr.shape[1]):\n",
        "            ans[col] = find_min_idx(arr[:,col])\n",
        "        return ans\n",
        "\n",
        "array = np.array([\n",
        "                    [ \n",
        "                        [\n",
        "                            [1,2],\n",
        "                            [3,2]\n",
        "                        ],     # row1\n",
        "                        [   \n",
        "                            [2,1],\n",
        "                            [3,2]\n",
        "                        ],     # row2\n",
        "                        [  \n",
        "                            [3,1],\n",
        "                            [1,2]\n",
        "                        ]      # row3\n",
        "                    ],\n",
        "                    [   \n",
        "                        [\n",
        "                            [2,1],\n",
        "                            [2,2]\n",
        "                        ],     # row1\n",
        "                        [   \n",
        "                            [1,2],\n",
        "                            [3,2]\n",
        "                        ],     # row2\n",
        "                        [   \n",
        "                            [1,3],\n",
        "                            [3,2]\n",
        "                        ]      # row3\n",
        "                    ]\n",
        "                ])       \n",
        "\n",
        "print(\"ANSWER: \",argmin(array,axis = 0))\n",
        "print() \n",
        "print(\"ANSWER: \",argmin(array,axis = 1)) \n",
        "\n",
        "print(\"Actual answer: \")\n",
        "print(np.argmin(array,axis = 0),end= \"\\n\\n\")\n",
        "print(np.argmin(array, axis = 1))\n",
        "\n",
        "print(\"SHAPE: \", array.shape)"
      ]
    },
    {
      "cell_type": "code",
      "source": [],
      "metadata": {
        "id": "gVp-HdKk1E4z"
      },
      "execution_count": null,
      "outputs": []
    }
  ]
}