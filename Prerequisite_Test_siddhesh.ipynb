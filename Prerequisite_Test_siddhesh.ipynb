{
  "nbformat": 4,
  "nbformat_minor": 0,
  "metadata": {
    "colab": {
      "provenance": [],
      "authorship_tag": "ABX9TyNEfPhsSbXp3IAx9wkfm7xi",
      "include_colab_link": true
    },
    "kernelspec": {
      "name": "python3",
      "display_name": "Python 3"
    },
    "language_info": {
      "name": "python"
    }
  },
  "cells": [
    {
      "cell_type": "markdown",
      "metadata": {
        "id": "view-in-github",
        "colab_type": "text"
      },
      "source": [
        "<a href=\"https://colab.research.google.com/github/git-siddhesh/MachineLearning_ES654_2022/blob/main/Prerequisite_Test_siddhesh.ipynb\" target=\"_parent\"><img src=\"https://colab.research.google.com/assets/colab-badge.svg\" alt=\"Open In Colab\"/></a>"
      ]
    },
    {
      "cell_type": "markdown",
      "source": [
        "# Question 1"
      ],
      "metadata": {
        "id": "eUGN08MpTRjs"
      }
    },
    {
      "cell_type": "markdown",
      "source": [
        "How many multiplications and additions do you need to perform a matrix multiplication between a (n, k) and (k, m) matrix? Explain."
      ],
      "metadata": {
        "id": "dY-xtiCiUV7t"
      }
    },
    {
      "cell_type": "markdown",
      "source": [
        "> The number of multiplications required to multiple `(n,k)x(k,m)` matrices are `n*k*m`\n",
        "\n",
        "> The number of additions required are "
      ],
      "metadata": {
        "id": "GdOCankLUiEE"
      }
    },
    {
      "cell_type": "markdown",
      "source": [
        "Let C = A x B \n",
        "where, A(n,k) and B(k,m)\n",
        "\n",
        "> The basic rule to multiply two matrices is that the number of columns in first and number of rows in second matrix should be the same. \n",
        "\n",
        "(WhY?)\n",
        "\n",
        "> In mat. multi., there is the dot product between each row of first matrix and each column of second matrix.\n",
        "\n",
        "(HoW?)\n",
        "\n",
        ">`THE DOT PRODUCT`: Each element of the row of A is muliplied with respective element at the index of the column of B. \n",
        "And the sum of all the operations is defined as the final value at the index of row and columns of that matrices.\n",
        "\n",
        "And that is why the number of element in the row of A (i.e., number of columns) should be equal to the element in the column of B (i.e., number of rows)\n",
        "\n",
        "**At the total, there are nxkxm multiplications** \n"
      ],
      "metadata": {
        "id": "C_bIrfyhVZIN"
      }
    },
    {
      "cell_type": "markdown",
      "source": [
        "> There are `n*(k-1)*m` additions required.\n",
        "\n",
        "Since a dot product between a row of first and column of second required k operations.\n",
        "\n",
        "And the final value is the sum of all this k intermediate results, that is `k-1` additions.\n",
        "\n",
        "> Since, there are n rows in first matrix and m columns in second matrix, hence total number of additions are `nx(k-1)xm`."
      ],
      "metadata": {
        "id": "s5cIsFITXCwh"
      }
    },
    {
      "cell_type": "markdown",
      "source": [
        "# Question 2"
      ],
      "metadata": {
        "id": "2FjPqyijY55a"
      }
    },
    {
      "cell_type": "markdown",
      "source": [
        "**Write Python code to multiply the above two matrices. Solve using list of lists and then use numpy. Compare the timing of both solutions. Which one is faster? Why?**"
      ],
      "metadata": {
        "id": "ylBe4F9iY9QC"
      }
    },
    {
      "cell_type": "code",
      "source": [
        "matrix1 = [ [1,2],\n",
        "            [2,1],\n",
        "            [2,2]\n",
        "          ]\n",
        "\n",
        "matrix2 = [\n",
        "              [1,2,1],\n",
        "              [2,1,2]\n",
        "          ]\n",
        "\n",
        "matrix3 = [[0]*len(matrix1) for _ in range(len(matrix2[0]))]\n",
        "\n",
        "for i in range(len(matrix1)):\n",
        "  for j in range(len(matrix2[0])):\n",
        "    for k in range(len(matrix2)):\n",
        "      matrix3[i][j] += (matrix1[i][k] * matrix2[k][j])\n",
        "    \n",
        "print(matrix3)"
      ],
      "metadata": {
        "colab": {
          "base_uri": "https://localhost:8080/"
        },
        "id": "bQt1kdZ9ZFn6",
        "outputId": "f3885abf-1ab6-44e9-e542-57ae99e879b9"
      },
      "execution_count": null,
      "outputs": [
        {
          "output_type": "stream",
          "name": "stdout",
          "text": [
            "[[5, 4, 5], [4, 5, 4], [6, 6, 6]]\n"
          ]
        }
      ]
    },
    {
      "cell_type": "markdown",
      "source": [
        "## Matrix Multiplication"
      ],
      "metadata": {
        "id": "JQcDU3HfgwBn"
      }
    },
    {
      "cell_type": "code",
      "source": [
        "def matrix_multiplication_using_list(matrix1, matrix2):\n",
        "  matrix3 = [[0]*len(matrix2[0]) for _ in range(len(matrix1))]\n",
        "  # print(matrix3)\n",
        "  for i in range(len(matrix1)):\n",
        "    for j in range(len(matrix2[0])):\n",
        "      for k in range(len(matrix2)):\n",
        "        matrix3[i][j] += (matrix1[i][k] * matrix2[k][j])\n",
        "      \n",
        "  # print(matrix3)"
      ],
      "metadata": {
        "id": "vKgZBfPecJaE"
      },
      "execution_count": null,
      "outputs": []
    },
    {
      "cell_type": "code",
      "source": [
        "import random\n",
        "\n",
        "a,b,c = random.randint(5,10), random.randint(5,10), random.randint(5,10) \n",
        "\n",
        "matrix1 = [[random.randint(-50, 50) for i in range(b)] for j in range(a) ]\n",
        "matrix2 = [[random.randint(-50, 50) for i in range(c)] for j in range(b) ]\n",
        "\n",
        "print(matrix1)\n",
        "print(matrix2)\n"
      ],
      "metadata": {
        "colab": {
          "base_uri": "https://localhost:8080/"
        },
        "id": "XyVqiUmueYs-",
        "outputId": "de1d9597-7487-4f0f-aadd-14d568e32a62"
      },
      "execution_count": null,
      "outputs": [
        {
          "output_type": "stream",
          "name": "stdout",
          "text": [
            "[[2, -13, -35, 22, 21, 32, 44], [38, -7, 14, -8, -16, 3, 5], [5, 26, -40, 28, -17, -16, -13], [-48, -33, 23, -8, 29, 16, -12], [18, 49, -31, -40, -36, -36, -48], [-30, -24, -27, 23, -14, -15, 29], [47, 29, 27, -42, -11, 25, 34], [40, 17, 45, -25, 20, -35, -3]]\n",
            "[[-3, 15, 29, -33, 12, 32], [5, -27, 25, 15, -49, 11], [32, -32, -45, -13, 22, -19], [-22, -15, -5, 12, 37, 42], [-40, -1, 29, -39, -7, 33], [-26, -37, 32, -19, -36, 0], [-23, 5, -35, 21, -39, -45]]\n"
          ]
        }
      ]
    },
    {
      "cell_type": "code",
      "source": [
        "%timeit matrix_multiplication_using_list(matrix1, matrix2)"
      ],
      "metadata": {
        "colab": {
          "base_uri": "https://localhost:8080/"
        },
        "id": "nIv6MhwZdSpc",
        "outputId": "32edcf99-06df-458a-fc79-ed1abd6b805c"
      },
      "execution_count": null,
      "outputs": [
        {
          "output_type": "stream",
          "name": "stdout",
          "text": [
            "113 µs ± 10.8 µs per loop (mean ± std. dev. of 7 runs, 1000 loops each)\n"
          ]
        }
      ]
    },
    {
      "cell_type": "markdown",
      "source": [
        "## Using numpy \n",
        "\n",
        "\n",
        "but first, let us go to this documentation on numpy\n",
        "\n",
        "> `numpy.dot` \n",
        "numpy.dot(a, b, out=None)  \n",
        "Dot product of two arrays. Specifically,\n",
        "\n",
        "1. If both a and b are 1-D arrays, it is inner product of vectors (without complex conjugation).\n",
        "\n",
        "2. If both a and b are 2-D arrays, it is matrix multiplication, but using `matmul` or a @ b is preferred.\n",
        "\n",
        "3. If either a or b is 0-D (scalar), it is equivalent to multiply and using `numpy.multiply(a, b)` or a * b is preferred.\n"
      ],
      "metadata": {
        "id": "oj8s8p_cdreM"
      }
    },
    {
      "cell_type": "code",
      "source": [
        "import numpy as np"
      ],
      "metadata": {
        "id": "CGxCsrEKgoQ8"
      },
      "execution_count": null,
      "outputs": []
    },
    {
      "cell_type": "code",
      "source": [
        "%timeit np.matmul(matrix1, matrix2)"
      ],
      "metadata": {
        "colab": {
          "base_uri": "https://localhost:8080/"
        },
        "id": "Dcbvgeeggoqs",
        "outputId": "91c66310-9034-413c-c1fc-fdaf2b09fdec"
      },
      "execution_count": null,
      "outputs": [
        {
          "output_type": "stream",
          "name": "stdout",
          "text": [
            "21.5 µs ± 5.66 µs per loop (mean ± std. dev. of 7 runs, 100000 loops each)\n"
          ]
        }
      ]
    },
    {
      "cell_type": "markdown",
      "source": [
        "### Let's try with some larger dimensions \n",
        "\n"
      ],
      "metadata": {
        "id": "dF7L_3OIiFYW"
      }
    },
    {
      "cell_type": "code",
      "source": [
        "# a,b,c = random.randint(20,100), random.randint(20,100), random.randint(20,100) \n",
        "a,b,c = 512, 512, 512\n",
        "matrix1 = [[random.randint(-50, 50) for i in range(b)] for j in range(a) ]\n",
        "matrix2 = [[random.randint(-50, 50) for i in range(c)] for j in range(b) ]"
      ],
      "metadata": {
        "id": "HBc4IunHi4RT"
      },
      "execution_count": null,
      "outputs": []
    },
    {
      "cell_type": "markdown",
      "source": [
        "List multiplication"
      ],
      "metadata": {
        "id": "K1T4XZ36i9xI"
      }
    },
    {
      "cell_type": "code",
      "source": [
        "%timeit matrix_multiplication_using_list(matrix1, matrix2)"
      ],
      "metadata": {
        "colab": {
          "base_uri": "https://localhost:8080/"
        },
        "id": "moJf2CD8jCDw",
        "outputId": "88b099dd-e848-4165-c8e9-04f321f12bae"
      },
      "execution_count": null,
      "outputs": [
        {
          "output_type": "stream",
          "name": "stdout",
          "text": [
            "41.2 s ± 212 ms per loop (mean ± std. dev. of 7 runs, 1 loop each)\n"
          ]
        }
      ]
    },
    {
      "cell_type": "markdown",
      "source": [
        "Numpy multiplication"
      ],
      "metadata": {
        "id": "hwj52NeNjCgb"
      }
    },
    {
      "cell_type": "code",
      "source": [
        "%timeit np.matmul(matrix1, matrix2)"
      ],
      "metadata": {
        "colab": {
          "base_uri": "https://localhost:8080/"
        },
        "id": "1Xy68tWijFng",
        "outputId": "3850d3bc-0299-48b1-9a10-db2ab915ab12"
      },
      "execution_count": null,
      "outputs": [
        {
          "output_type": "stream",
          "name": "stdout",
          "text": [
            "575 ms ± 2.58 ms per loop (mean ± std. dev. of 7 runs, 1 loop each)\n"
          ]
        }
      ]
    },
    {
      "cell_type": "markdown",
      "source": [
        "* A numpy array is a group of homogeneous data types that are closely arranged in memory. whereas list are of heterogeneous data types which imposes a lot more restrictions when doing computations on it. \n",
        "* Adding to this, python lists are the collection of the object of respective classes like int, float, string, etc where as numpy arrays are the collection of basic data types and not the objects.\n",
        "* The concurrent processing of many subtasks is possible with Numpy, since\n",
        "Functions from Numpy are implemented in C."
      ],
      "metadata": {
        "id": "1eZBAl1YjH2b"
      }
    },
    {
      "cell_type": "markdown",
      "source": [
        "# Question 3"
      ],
      "metadata": {
        "id": "M_Hvw39vpGwR"
      }
    },
    {
      "cell_type": "markdown",
      "source": [
        "Finding the highest element in a list requires one pass of the array. Finding the second highest element requires 2 passes of the the array. Using this method, what is the time complexity of finding the median of the array? Can you suggest a better method? Can you implement both these methods in Python and compare against numpy.median routine in terms of time?"
      ],
      "metadata": {
        "id": "8iuesieIpJS_"
      }
    },
    {
      "cell_type": "markdown",
      "source": [
        "## Solution\n",
        "\n",
        "The given method is somewhat like the `selection sort` but limited to the `n/2` traversals.\n",
        "\n",
        "Since in the `Selection sort`, in each iteration we find the min element out of the `remaining unsorted elements` and push it into the `sorted part` of the array.\n",
        "\n",
        "Below is the code for the same."
      ],
      "metadata": {
        "id": "FOqQapbWpU7z"
      }
    },
    {
      "cell_type": "code",
      "source": [
        "array = [random.randint(-50, 50) for _ in range(random.randint(20, 100))]\n",
        "\n",
        "print(array)"
      ],
      "metadata": {
        "colab": {
          "base_uri": "https://localhost:8080/"
        },
        "id": "4E10h1mUp95_",
        "outputId": "e329c709-fff5-4e70-ab69-3d56a7f7117e"
      },
      "execution_count": null,
      "outputs": [
        {
          "output_type": "stream",
          "name": "stdout",
          "text": [
            "[-22, 34, -43, 26, 50, 33, 30, -8, -45, 18, 41, 24, -23, -12, -41, 11, -6, 27, 7, 33, 5, 39, -44, -22, 22, 2, -26, -28, 44, 20, 8, 1, -6, -2, 0, 11, 7, -33, 0, -32, 28, -22, 35, 7, -45, -18, 40, -21, -48, 28, -9, 30, 19, -5, 8, -21, 31, -6, -28, -11, 50, -30, -33, 32, 33, 12, -37, -27, 0, -13, 41, -8, -4, 45, -39, -12, 1, 18, 44, 20, -27, 6, -43, -7, 14]\n"
          ]
        }
      ]
    },
    {
      "cell_type": "code",
      "source": [
        "def median_using_multiple_iterations(array):\n",
        "  for i in range(len(array)//2 + 1):\n",
        "    current_index = i\n",
        "    for j in range(i+1,len(array)):\n",
        "      if  array[current_index] < array[j] :\n",
        "        current_index = j\n",
        "    array[current_index], array[i] = array[i], array[current_index]\n",
        "\n",
        "  median = array[len(array)//2]\n",
        "  if len(array)%2 == 0:\n",
        "    median += array[len(array)//2 -1]\n",
        "    median/=2\n",
        "  \n",
        "  return median\n"
      ],
      "metadata": {
        "id": "XpISLeA43gAs"
      },
      "execution_count": null,
      "outputs": []
    },
    {
      "cell_type": "code",
      "source": [
        "median_using_multiple_iterations(array)\n"
      ],
      "metadata": {
        "colab": {
          "base_uri": "https://localhost:8080/"
        },
        "id": "in1DpVcIqIuw",
        "outputId": "0b18c398-0177-4a7c-cf96-005f0a83c9b6"
      },
      "execution_count": null,
      "outputs": [
        {
          "output_type": "execute_result",
          "data": {
            "text/plain": [
              "1"
            ]
          },
          "metadata": {},
          "execution_count": 137
        }
      ]
    },
    {
      "cell_type": "markdown",
      "source": [
        "## The optimized method to find the median in linear time: `MEDIAN of MEDIANS`\n",
        "\n",
        "> This algorithm tries to find the median in O(n) time but with very high contant time.\n",
        "\n",
        "This method is generally not prefered due to its high contant calcuations.\n",
        "\n",
        "> Here in the algorithm, we have used the `median window size = 5` (which is considered as the best window size from the pool of {3,5,7,9,..})"
      ],
      "metadata": {
        "id": "oEJ-WRtrqe5G"
      }
    },
    {
      "cell_type": "code",
      "source": [
        "def median_of_medians(arr):\n",
        "    \"\"\"\n",
        "    Median of medians is an algorithm to select an approximate median as a pivot for a partitioning algorithm.\n",
        "    :param arr:\n",
        "    :return:\n",
        "    \"\"\"\n",
        "    if arr is None or len(arr) == 0:\n",
        "        return None\n",
        "\n",
        "    return select_pivot(arr, len(arr) // 2)\n",
        "\n",
        "\n",
        "def select_pivot(arr, k):\n",
        "    \"\"\"\n",
        "    Select a pivot corresponding to the kth largest element in the array\n",
        "    :param arr: Array from which we need to find the median.\n",
        "    :param k: cardinality that represents the kth larget element in the array\n",
        "    :return: The value of the pivot\n",
        "    \"\"\"\n",
        "    # Divide array into chunks of 5\n",
        "    #chunks by taking i from 0 to 4, 5 to 9, 10 to 14, etc\n",
        "    chunks = [arr[i : i+5] for i in range(0, len(arr), 5)]\n",
        "\n",
        "    #sort each chunks\n",
        "    sorted_chunks = [sorted(chunk) for chunk in chunks]\n",
        "\n",
        "\n",
        "    #take the median of each chunk\n",
        "    medians = [chunk[len(chunk) // 2] for chunk in sorted_chunks]\n",
        "\n",
        "    #find the median of medians\n",
        "    if len(medians) <= 5:\n",
        "        pivot = sorted(medians)[len(medians) // 2]\n",
        "    else:\n",
        "        pivot = select_pivot(medians, len(medians) // 2)\n",
        "\n",
        "\n",
        "\n",
        "    #partition the array around the pivot\n",
        "    p = partition(arr, pivot)\n",
        "\n",
        "    #is the pivot position at the k position?\n",
        "    if k == p:\n",
        "        #select that pivot\n",
        "        return pivot\n",
        "\n",
        "    if k < p:\n",
        "        #select a new pivot by looking on the left side of the partioning\n",
        "        return select_pivot(arr[0:p], k)\n",
        "    else:\n",
        "        #select a new pivot by looking on the right side of the partioning\n",
        "        return select_pivot(arr[p+1:len(arr)], k - p - 1)\n",
        "\n",
        "\n",
        "def partition(arr, pivot):\n",
        "    \"\"\"\n",
        "    Partition the array around the given pivot\n",
        "    :param arr: array to be partitioned\n",
        "    :param pivot: pivot used for the partitioning\n",
        "    :return: final position of the pivot used as a partioning point\n",
        "    \"\"\"\n",
        "    left = 0\n",
        "    right = len(arr) - 1\n",
        "    i = 0\n",
        "\n",
        "    while i <= right:\n",
        "        if arr[i] == pivot:\n",
        "            i += 1\n",
        "\n",
        "        elif arr[i] < pivot:\n",
        "            arr[left], arr[i] = arr[i], arr[left]\n",
        "            left += 1\n",
        "            i += 1\n",
        "        else:\n",
        "            arr[right], arr[i] = arr[i], arr[right]\n",
        "            right -= 1\n",
        "\n",
        "    return left\n",
        "\n",
        "# arr = [1, 2, 3, 4, 5, 1000, 8, 9, 99]\n",
        "\n",
        "\n"
      ],
      "metadata": {
        "id": "COqIRqBmqhyj"
      },
      "execution_count": null,
      "outputs": []
    },
    {
      "cell_type": "markdown",
      "source": [
        "reference of the code used : https://gist.github.com/boulethao/a15809963d326a5ad43f255fbffbf9ff"
      ],
      "metadata": {
        "id": "bdikWA8M27gk"
      }
    },
    {
      "cell_type": "code",
      "source": [
        "def median_using_mom(array):\n",
        "  pivot1 = median_of_medians(array)\n",
        "  if len(array)%2 == 0:\n",
        "    pivot2 = median_of_medians(array[:-1])\n",
        "    pivot1 += pivot2\n",
        "    pivot1/=2\n",
        "\n",
        "  return (pivot1) \n",
        "\n",
        "  "
      ],
      "metadata": {
        "id": "BrmNZlrk65V6"
      },
      "execution_count": null,
      "outputs": []
    },
    {
      "cell_type": "code",
      "source": [
        "median_using_mom(array)"
      ],
      "metadata": {
        "colab": {
          "base_uri": "https://localhost:8080/"
        },
        "id": "wSU__2Y67Ffh",
        "outputId": "623e4355-cc87-4423-8a98-1cd43a2632b2"
      },
      "execution_count": null,
      "outputs": [
        {
          "output_type": "execute_result",
          "data": {
            "text/plain": [
              "1"
            ]
          },
          "metadata": {},
          "execution_count": 140
        }
      ]
    },
    {
      "cell_type": "markdown",
      "source": [
        "## Using numpy\n"
      ],
      "metadata": {
        "id": "cLP7mQgr4enY"
      }
    },
    {
      "cell_type": "code",
      "source": [
        "array_np = np.array(array)\n",
        "\n",
        "print(np.median(array))"
      ],
      "metadata": {
        "colab": {
          "base_uri": "https://localhost:8080/"
        },
        "id": "CdlqnwM36Ol0",
        "outputId": "d0d5d369-9232-4f69-fd3b-e8c910aa99d0"
      },
      "execution_count": null,
      "outputs": [
        {
          "metadata": {
            "tags": null
          },
          "name": "stdout",
          "output_type": "stream",
          "text": [
            "1.0\n"
          ]
        }
      ]
    },
    {
      "cell_type": "markdown",
      "source": [
        "## let's compare the time consumption by each:"
      ],
      "metadata": {
        "id": "fSp3Q73l6QSa"
      }
    },
    {
      "cell_type": "code",
      "source": [
        "%timeit median_using_multiple_iterations(array)"
      ],
      "metadata": {
        "colab": {
          "base_uri": "https://localhost:8080/"
        },
        "id": "1ORDGojD70yW",
        "outputId": "7b71b5cc-1d90-4a25-cbdc-9421499af360"
      },
      "execution_count": null,
      "outputs": [
        {
          "output_type": "stream",
          "name": "stdout",
          "text": [
            "217 µs ± 3.32 µs per loop (mean ± std. dev. of 7 runs, 1000 loops each)\n"
          ]
        }
      ]
    },
    {
      "cell_type": "code",
      "source": [
        "%timeit median_using_mom(array)"
      ],
      "metadata": {
        "colab": {
          "base_uri": "https://localhost:8080/"
        },
        "id": "ThgTnDCOIoqK",
        "outputId": "c9768a5b-bcf9-466c-ae34-b05b56bde864"
      },
      "execution_count": null,
      "outputs": [
        {
          "output_type": "stream",
          "name": "stdout",
          "text": [
            "71 µs ± 9.69 µs per loop (mean ± std. dev. of 7 runs, 10000 loops each)\n"
          ]
        }
      ]
    },
    {
      "cell_type": "code",
      "source": [
        "%timeit np.median(np.array(array))"
      ],
      "metadata": {
        "colab": {
          "base_uri": "https://localhost:8080/"
        },
        "id": "phy08sjrIr1v",
        "outputId": "5c955678-6533-470d-e157-520ca8e06ea7"
      },
      "execution_count": null,
      "outputs": [
        {
          "output_type": "stream",
          "name": "stdout",
          "text": [
            "29 µs ± 1.02 µs per loop (mean ± std. dev. of 7 runs, 10000 loops each)\n"
          ]
        }
      ]
    },
    {
      "cell_type": "markdown",
      "source": [
        "### Compare with a large size of input data"
      ],
      "metadata": {
        "id": "7W-TRW7zIzKY"
      }
    },
    {
      "cell_type": "code",
      "source": [
        "array = [random.randint(-50, 50) for _ in range(1000)]\n"
      ],
      "metadata": {
        "id": "IYbTxLt7I69m"
      },
      "execution_count": null,
      "outputs": []
    },
    {
      "cell_type": "code",
      "source": [
        "%timeit median_using_multiple_iterations(array)"
      ],
      "metadata": {
        "colab": {
          "base_uri": "https://localhost:8080/"
        },
        "id": "XK-2wGulJDwf",
        "outputId": "c910333e-e2d5-4574-ebba-bfab21c15319"
      },
      "execution_count": null,
      "outputs": [
        {
          "output_type": "stream",
          "name": "stdout",
          "text": [
            "33.6 ms ± 1.23 ms per loop (mean ± std. dev. of 7 runs, 10 loops each)\n"
          ]
        }
      ]
    },
    {
      "cell_type": "code",
      "source": [
        "%timeit median_using_mom(array)"
      ],
      "metadata": {
        "colab": {
          "base_uri": "https://localhost:8080/"
        },
        "id": "wV_gnopkJFtE",
        "outputId": "04831c15-f421-4daa-8344-2490b0b55fbd"
      },
      "execution_count": null,
      "outputs": [
        {
          "output_type": "stream",
          "name": "stdout",
          "text": [
            "2.92 ms ± 257 µs per loop (mean ± std. dev. of 7 runs, 100 loops each)\n"
          ]
        }
      ]
    },
    {
      "cell_type": "code",
      "source": [
        "%timeit np.median(np.array(array))"
      ],
      "metadata": {
        "colab": {
          "base_uri": "https://localhost:8080/"
        },
        "id": "OBriXIetJHQT",
        "outputId": "6b936fc7-a32b-43f7-9c44-ebf223ee83a9"
      },
      "execution_count": null,
      "outputs": [
        {
          "output_type": "stream",
          "name": "stdout",
          "text": [
            "96.3 µs ± 998 ns per loop (mean ± std. dev. of 7 runs, 10000 loops each)\n"
          ]
        }
      ]
    },
    {
      "cell_type": "markdown",
      "source": [
        "# Question 4\n"
      ],
      "metadata": {
        "id": "_SYr9fR0JI7N"
      }
    },
    {
      "cell_type": "markdown",
      "source": [
        "What is the gradient of the following function with respect to x and y?\n",
        "\n",
        "$  \\Rightarrow  x^{2} y +  y^{3}  sin \\big(x\\big)     $\n"
      ],
      "metadata": {
        "id": "iJyOgoptJQWh"
      }
    },
    {
      "cell_type": "markdown",
      "source": [
        "We have given a function of two variables x and y as follows:   \n",
        "$f \\big(x,y\\big)   =  x^{2}y+y^{3}sin \\big(x\\big) $\n",
        "\n",
        "To find the gradient of the function we will use following formula:  \n",
        "\n",
        "$ Grad \\big(f \\big(x,y\\big) \\big) = \\frac{\\partial f}{\\partial x} i +  \\frac{\\partial f}{\\partial y} j $\n",
        "\n",
        "\n",
        "\n",
        "\n",
        "> $ \\Rightarrow Grad \\big(f \\big(x,y\\big) \\big) = \\frac{\\partial   \\big( x^{2}y+y^{3}sin \\big(x\\big)\\big) }{\\partial x} i + \\frac{\\partial   \\big( x^{2}y+y^{3}sin \\big(x\\big)\\big) }{\\partial y} j $  \n",
        "\n",
        "Since `y` is considered as costant for partial derivative with respect to the `x`, and likewise `x` is considered a constant for partial derivative with respect to `y`.\n",
        "\n",
        "> $\\Rightarrow Grad \\big(f \\big(x,y\\big) \\big) = \\big( 2 x y  +  y^{3}cos \\big(x\\big) \\big) i +  \\big(x^{2}+ 3 y^{2}sin \\big(x\\big) \\big)  j $\n"
      ],
      "metadata": {
        "id": "EKb8moSoJfUq"
      }
    },
    {
      "cell_type": "code",
      "source": [],
      "metadata": {
        "id": "YZMFST-DMgqS"
      },
      "execution_count": null,
      "outputs": []
    },
    {
      "cell_type": "markdown",
      "source": [
        "# Question 5\n",
        "\n",
        "Use JAX to confirm the gradient evaluated by your method matches the analytical solution corresponding to a few random values of x and y"
      ],
      "metadata": {
        "id": "gQx6b8NWH0uV"
      }
    },
    {
      "cell_type": "code",
      "source": [
        "import jax.numpy as jnp\n",
        "import jax"
      ],
      "metadata": {
        "id": "Lie7Q4L9H0U6"
      },
      "execution_count": 32,
      "outputs": []
    },
    {
      "cell_type": "code",
      "source": [
        "df_dxy = jax.grad(lambda x,y:  (x ** 2)*y + (y**3)*jnp.sin(x), argnums=(0, 1))\n",
        "df_dx = jax.grad(lambda x,y:  (x ** 2)*y + (y**3)*jnp.sin(x), argnums=0)\n",
        "df_dy = jax.grad(lambda x,y:  (x ** 2)*y + (y**3)*jnp.sin(x), argnums=1)"
      ],
      "metadata": {
        "id": "1qa7xVUeH9M6"
      },
      "execution_count": 33,
      "outputs": []
    },
    {
      "cell_type": "markdown",
      "source": [
        "Some sample examples:"
      ],
      "metadata": {
        "id": "Zvt41KjEH9Dt"
      }
    },
    {
      "cell_type": "code",
      "source": [
        "data = jnp.array([[1.0, 2.0, 3.0, 2.9],[1.0, 2.0, 3.0, 2.5] ], float)\n",
        "data[:,0]"
      ],
      "metadata": {
        "colab": {
          "base_uri": "https://localhost:8080/"
        },
        "id": "FL0iO0ZAH87L",
        "outputId": "b592bbf5-5711-432b-a2f4-4243531eae1d"
      },
      "execution_count": 37,
      "outputs": [
        {
          "output_type": "execute_result",
          "data": {
            "text/plain": [
              "DeviceArray(1., dtype=float32)"
            ]
          },
          "metadata": {},
          "execution_count": 37
        }
      ]
    },
    {
      "cell_type": "code",
      "source": [
        "for pair in range(data.shape[1]):\n",
        "  print(data[:,pair], end=\": \")\n",
        "  print(df_dxy(data[:,pair][0], data[:,pair][1]))"
      ],
      "metadata": {
        "colab": {
          "base_uri": "https://localhost:8080/"
        },
        "id": "_oUkNDGYH8uV",
        "outputId": "d38edbfd-0ed6-4f43-8896-4fffa6c520cf"
      },
      "execution_count": 68,
      "outputs": [
        {
          "output_type": "stream",
          "name": "stdout",
          "text": [
            "[1. 1.]: (DeviceArray(2.5403023, dtype=float32), DeviceArray(3.5244129, dtype=float32))\n",
            "[2. 2.]: (DeviceArray(4.670825, dtype=float32), DeviceArray(14.911569, dtype=float32))\n",
            "[3. 3.]: (DeviceArray(-8.729797, dtype=float32), DeviceArray(12.81024, dtype=float32))\n",
            "[2.9 2.5]: (DeviceArray(-0.67122173, dtype=float32), DeviceArray(12.895924, dtype=float32))\n"
          ]
        }
      ]
    },
    {
      "cell_type": "code",
      "source": [
        "for pair in range(data.shape[1]):\n",
        "  print(data[:,pair], end = \": \")\n",
        "  print(df_dx(data[:,pair][0], data[:,pair][1]))"
      ],
      "metadata": {
        "colab": {
          "base_uri": "https://localhost:8080/"
        },
        "id": "k4kHoAleKKzO",
        "outputId": "d1535356-3450-459e-f928-210eae1a2512"
      },
      "execution_count": 67,
      "outputs": [
        {
          "output_type": "stream",
          "name": "stdout",
          "text": [
            "[1. 1.]: 2.5403023\n",
            "[2. 2.]: 4.670825\n",
            "[3. 3.]: -8.729797\n",
            "[2.9 2.5]: -0.67122173\n"
          ]
        }
      ]
    },
    {
      "cell_type": "code",
      "source": [
        "for pair in range(data.shape[1]):\n",
        "  print(data[:,pair], end=': ')\n",
        "  print(df_dy(data[:,pair][0], data[:,pair][1]))"
      ],
      "metadata": {
        "colab": {
          "base_uri": "https://localhost:8080/"
        },
        "id": "ict8_kIgPDy1",
        "outputId": "00f2a852-ca96-4ba5-d8a8-7acc6408f401"
      },
      "execution_count": 65,
      "outputs": [
        {
          "output_type": "stream",
          "name": "stdout",
          "text": [
            "[1. 1.]: 3.5244129\n",
            "[2. 2.]: 14.911569\n",
            "[3. 3.]: 12.81024\n",
            "[2.9 2.5]: 12.895924\n"
          ]
        }
      ]
    },
    {
      "cell_type": "markdown",
      "source": [
        "# Question 6\n",
        "\n",
        "Use sympy to confirm that you obtain the same gradient analytically."
      ],
      "metadata": {
        "id": "0qjiOZupMgfw"
      }
    },
    {
      "cell_type": "code",
      "source": [
        "from sympy import *\n",
        "x,y =symbols('x, y')\n",
        "# y=symbols('y')"
      ],
      "metadata": {
        "id": "rDN5wrwkQbln"
      },
      "execution_count": 53,
      "outputs": []
    },
    {
      "cell_type": "code",
      "source": [
        "\n",
        "ans1 = diff( ((x**2)*y) + ((y**3)*sin(x)), x) \n",
        "ans2 = diff( ((x**2)*y) + ((y**3)*sin(x)), y)\n",
        "\n",
        "print(ans1)\n",
        "print(ans2)"
      ],
      "metadata": {
        "colab": {
          "base_uri": "https://localhost:8080/"
        },
        "id": "noDCf5bOQbfj",
        "outputId": "27b147b2-0be5-411d-e399-39e7ee6c6030"
      },
      "execution_count": 56,
      "outputs": [
        {
          "output_type": "stream",
          "name": "stdout",
          "text": [
            "2*x*y + y**3*cos(x)\n",
            "x**2 + 3*y**2*sin(x)\n"
          ]
        }
      ]
    },
    {
      "cell_type": "markdown",
      "source": [
        "** Let us verify with some examples **"
      ],
      "metadata": {
        "id": "guU8cqUQSSDa"
      }
    },
    {
      "cell_type": "code",
      "source": [
        "ans1.evalf(subs={ x: 1.0, y: 1.0})"
      ],
      "metadata": {
        "colab": {
          "base_uri": "https://localhost:8080/",
          "height": 38
        },
        "id": "Qm27CXxHSWpw",
        "outputId": "220bd6a7-5c61-4100-b960-b3df4a7d2cce"
      },
      "execution_count": 75,
      "outputs": [
        {
          "output_type": "execute_result",
          "data": {
            "text/plain": [
              "2.54030230586814"
            ],
            "text/latex": "$\\displaystyle 2.54030230586814$"
          },
          "metadata": {},
          "execution_count": 75
        }
      ]
    },
    {
      "cell_type": "code",
      "source": [
        "ans2.evalf(subs={x:1.0, y:1.0})"
      ],
      "metadata": {
        "colab": {
          "base_uri": "https://localhost:8080/",
          "height": 38
        },
        "id": "Ihdv2jHuSBU0",
        "outputId": "cb6737f6-d1ab-4a6a-a2f5-d3a991bd7d8c"
      },
      "execution_count": 76,
      "outputs": [
        {
          "output_type": "execute_result",
          "data": {
            "text/plain": [
              "3.52441295442369"
            ],
            "text/latex": "$\\displaystyle 3.52441295442369$"
          },
          "metadata": {},
          "execution_count": 76
        }
      ]
    },
    {
      "cell_type": "markdown",
      "source": [
        "# Question 7: \n",
        "\n",
        "Create a Python nested dictionary to represent hierarchical information. We want to store record of students and their marks. Something like:"
      ],
      "metadata": {
        "id": "72GV5_YzUN1d"
      }
    },
    {
      "cell_type": "code",
      "source": [
        "import random\n",
        "import string\n",
        "\n",
        "def generate_random_names(count):\n",
        "  names = []\n",
        "  for _ in range(count):\n",
        "    res = ''.join(random.choices(string.ascii_lowercase , k=random.randint(4,6)))\n",
        "    names.append(res)\n",
        "  return names\n",
        "\n",
        "# generate_names(5)\n",
        "\n",
        "\n",
        "def generate_random_marks(subjects,students):\n",
        "  for rol in students.keys():\n",
        "    students[rol]['MARKS'] = dict([(name, random.randint(5,10)) for name in subjects])\n",
        "  return students\n",
        "\n",
        "\n",
        "def create_students_dict(rollnum, subject, names):\n",
        "  students = dict()\n",
        "  for i in range(len(rollnum)):\n",
        "    students[rollnum[i]] = {'ROLLNUM':rollnum[i], \"NAME\":names[i], \"MARKS\": None}\n",
        "  return generate_random_marks(subjects,students)\n",
        "\n",
        "# subjects = ['Maths', 'English', 'Hindi']\n",
        "# rollnum = [i+1 for i in range(5)]\n",
        "# names = generate_random_names(5)\n",
        "# create_students_dict(rollnum, subjects, names)\n"
      ],
      "metadata": {
        "id": "VSLkm0ksghsZ"
      },
      "execution_count": 77,
      "outputs": []
    },
    {
      "cell_type": "code",
      "source": [
        "\n",
        "\n",
        "\n",
        "details = dict()\n",
        "\n",
        "years = [2022, 2023, 2024, 2025]\n",
        "batch = ['Branch1','Branch2', 'Branch3']\n",
        "\n",
        "# Creating a list of subjects \n",
        "subjects = ['Maths', 'English', 'Hindi']\n",
        "\n",
        "for yr in years:\n",
        "  details[yr] = dict()\n",
        "\n",
        "for yr in details.keys():\n",
        "  for bt in batch:\n",
        "    details[yr][bt] = dict()\n",
        "\n",
        "for yr in details.keys():\n",
        "  for bt in batch:\n",
        "    rollnum = [i+1 for i in range(5)]\n",
        "    names = generate_random_names(5)\n",
        "    details[yr][bt] = create_students_dict(rollnum, subjects, names)\n",
        "\n",
        "\n",
        "\n",
        "details\n",
        "\n"
      ],
      "metadata": {
        "colab": {
          "base_uri": "https://localhost:8080/"
        },
        "id": "IzqaicXZMoT7",
        "outputId": "fee4eff4-83dc-4b25-98e4-12d2d1c19f6d"
      },
      "execution_count": 78,
      "outputs": [
        {
          "output_type": "execute_result",
          "data": {
            "text/plain": [
              "{2022: {'Branch1': {1: {'ROLLNUM': 1,\n",
              "    'NAME': 'pnjm',\n",
              "    'MARKS': {'Maths': 6, 'English': 6, 'Hindi': 9}},\n",
              "   2: {'ROLLNUM': 2,\n",
              "    'NAME': 'oshz',\n",
              "    'MARKS': {'Maths': 10, 'English': 10, 'Hindi': 5}},\n",
              "   3: {'ROLLNUM': 3,\n",
              "    'NAME': 'ftzx',\n",
              "    'MARKS': {'Maths': 9, 'English': 6, 'Hindi': 6}},\n",
              "   4: {'ROLLNUM': 4,\n",
              "    'NAME': 'huwaql',\n",
              "    'MARKS': {'Maths': 9, 'English': 8, 'Hindi': 8}},\n",
              "   5: {'ROLLNUM': 5,\n",
              "    'NAME': 'osuu',\n",
              "    'MARKS': {'Maths': 6, 'English': 8, 'Hindi': 8}}},\n",
              "  'Branch2': {1: {'ROLLNUM': 1,\n",
              "    'NAME': 'tckng',\n",
              "    'MARKS': {'Maths': 10, 'English': 8, 'Hindi': 10}},\n",
              "   2: {'ROLLNUM': 2,\n",
              "    'NAME': 'vtsitv',\n",
              "    'MARKS': {'Maths': 9, 'English': 5, 'Hindi': 10}},\n",
              "   3: {'ROLLNUM': 3,\n",
              "    'NAME': 'fefw',\n",
              "    'MARKS': {'Maths': 8, 'English': 7, 'Hindi': 9}},\n",
              "   4: {'ROLLNUM': 4,\n",
              "    'NAME': 'iizp',\n",
              "    'MARKS': {'Maths': 7, 'English': 5, 'Hindi': 10}},\n",
              "   5: {'ROLLNUM': 5,\n",
              "    'NAME': 'avslcw',\n",
              "    'MARKS': {'Maths': 7, 'English': 7, 'Hindi': 8}}},\n",
              "  'Branch3': {1: {'ROLLNUM': 1,\n",
              "    'NAME': 'htili',\n",
              "    'MARKS': {'Maths': 5, 'English': 9, 'Hindi': 8}},\n",
              "   2: {'ROLLNUM': 2,\n",
              "    'NAME': 'hqezmu',\n",
              "    'MARKS': {'Maths': 6, 'English': 10, 'Hindi': 6}},\n",
              "   3: {'ROLLNUM': 3,\n",
              "    'NAME': 'vfuif',\n",
              "    'MARKS': {'Maths': 8, 'English': 6, 'Hindi': 10}},\n",
              "   4: {'ROLLNUM': 4,\n",
              "    'NAME': 'ecjdj',\n",
              "    'MARKS': {'Maths': 6, 'English': 10, 'Hindi': 10}},\n",
              "   5: {'ROLLNUM': 5,\n",
              "    'NAME': 'eoibqu',\n",
              "    'MARKS': {'Maths': 10, 'English': 5, 'Hindi': 5}}}},\n",
              " 2023: {'Branch1': {1: {'ROLLNUM': 1,\n",
              "    'NAME': 'iybf',\n",
              "    'MARKS': {'Maths': 10, 'English': 6, 'Hindi': 5}},\n",
              "   2: {'ROLLNUM': 2,\n",
              "    'NAME': 'odsi',\n",
              "    'MARKS': {'Maths': 7, 'English': 6, 'Hindi': 9}},\n",
              "   3: {'ROLLNUM': 3,\n",
              "    'NAME': 'hcwzup',\n",
              "    'MARKS': {'Maths': 7, 'English': 5, 'Hindi': 5}},\n",
              "   4: {'ROLLNUM': 4,\n",
              "    'NAME': 'cbfqo',\n",
              "    'MARKS': {'Maths': 5, 'English': 7, 'Hindi': 8}},\n",
              "   5: {'ROLLNUM': 5,\n",
              "    'NAME': 'mfiyqv',\n",
              "    'MARKS': {'Maths': 5, 'English': 9, 'Hindi': 8}}},\n",
              "  'Branch2': {1: {'ROLLNUM': 1,\n",
              "    'NAME': 'douw',\n",
              "    'MARKS': {'Maths': 5, 'English': 7, 'Hindi': 5}},\n",
              "   2: {'ROLLNUM': 2,\n",
              "    'NAME': 'upwfjd',\n",
              "    'MARKS': {'Maths': 8, 'English': 9, 'Hindi': 10}},\n",
              "   3: {'ROLLNUM': 3,\n",
              "    'NAME': 'mssn',\n",
              "    'MARKS': {'Maths': 7, 'English': 9, 'Hindi': 7}},\n",
              "   4: {'ROLLNUM': 4,\n",
              "    'NAME': 'fbng',\n",
              "    'MARKS': {'Maths': 6, 'English': 10, 'Hindi': 10}},\n",
              "   5: {'ROLLNUM': 5,\n",
              "    'NAME': 'aecvr',\n",
              "    'MARKS': {'Maths': 9, 'English': 9, 'Hindi': 9}}},\n",
              "  'Branch3': {1: {'ROLLNUM': 1,\n",
              "    'NAME': 'hjvugj',\n",
              "    'MARKS': {'Maths': 7, 'English': 5, 'Hindi': 7}},\n",
              "   2: {'ROLLNUM': 2,\n",
              "    'NAME': 'fduvf',\n",
              "    'MARKS': {'Maths': 8, 'English': 6, 'Hindi': 9}},\n",
              "   3: {'ROLLNUM': 3,\n",
              "    'NAME': 'dntqce',\n",
              "    'MARKS': {'Maths': 7, 'English': 10, 'Hindi': 10}},\n",
              "   4: {'ROLLNUM': 4,\n",
              "    'NAME': 'ykphps',\n",
              "    'MARKS': {'Maths': 7, 'English': 5, 'Hindi': 7}},\n",
              "   5: {'ROLLNUM': 5,\n",
              "    'NAME': 'tdcj',\n",
              "    'MARKS': {'Maths': 9, 'English': 8, 'Hindi': 8}}}},\n",
              " 2024: {'Branch1': {1: {'ROLLNUM': 1,\n",
              "    'NAME': 'xsvbww',\n",
              "    'MARKS': {'Maths': 10, 'English': 10, 'Hindi': 9}},\n",
              "   2: {'ROLLNUM': 2,\n",
              "    'NAME': 'kfwbz',\n",
              "    'MARKS': {'Maths': 5, 'English': 9, 'Hindi': 7}},\n",
              "   3: {'ROLLNUM': 3,\n",
              "    'NAME': 'gclx',\n",
              "    'MARKS': {'Maths': 7, 'English': 6, 'Hindi': 7}},\n",
              "   4: {'ROLLNUM': 4,\n",
              "    'NAME': 'fixtx',\n",
              "    'MARKS': {'Maths': 6, 'English': 5, 'Hindi': 8}},\n",
              "   5: {'ROLLNUM': 5,\n",
              "    'NAME': 'seqm',\n",
              "    'MARKS': {'Maths': 9, 'English': 9, 'Hindi': 6}}},\n",
              "  'Branch2': {1: {'ROLLNUM': 1,\n",
              "    'NAME': 'ydjgs',\n",
              "    'MARKS': {'Maths': 6, 'English': 10, 'Hindi': 9}},\n",
              "   2: {'ROLLNUM': 2,\n",
              "    'NAME': 'pfsh',\n",
              "    'MARKS': {'Maths': 8, 'English': 10, 'Hindi': 10}},\n",
              "   3: {'ROLLNUM': 3,\n",
              "    'NAME': 'bbtxv',\n",
              "    'MARKS': {'Maths': 7, 'English': 7, 'Hindi': 9}},\n",
              "   4: {'ROLLNUM': 4,\n",
              "    'NAME': 'ckyioe',\n",
              "    'MARKS': {'Maths': 8, 'English': 5, 'Hindi': 7}},\n",
              "   5: {'ROLLNUM': 5,\n",
              "    'NAME': 'jlxgc',\n",
              "    'MARKS': {'Maths': 8, 'English': 7, 'Hindi': 8}}},\n",
              "  'Branch3': {1: {'ROLLNUM': 1,\n",
              "    'NAME': 'qkec',\n",
              "    'MARKS': {'Maths': 8, 'English': 8, 'Hindi': 9}},\n",
              "   2: {'ROLLNUM': 2,\n",
              "    'NAME': 'zsjmsf',\n",
              "    'MARKS': {'Maths': 8, 'English': 5, 'Hindi': 10}},\n",
              "   3: {'ROLLNUM': 3,\n",
              "    'NAME': 'xvhcmk',\n",
              "    'MARKS': {'Maths': 8, 'English': 6, 'Hindi': 9}},\n",
              "   4: {'ROLLNUM': 4,\n",
              "    'NAME': 'ukoz',\n",
              "    'MARKS': {'Maths': 10, 'English': 7, 'Hindi': 10}},\n",
              "   5: {'ROLLNUM': 5,\n",
              "    'NAME': 'sglab',\n",
              "    'MARKS': {'Maths': 5, 'English': 5, 'Hindi': 10}}}},\n",
              " 2025: {'Branch1': {1: {'ROLLNUM': 1,\n",
              "    'NAME': 'dqsxz',\n",
              "    'MARKS': {'Maths': 7, 'English': 6, 'Hindi': 10}},\n",
              "   2: {'ROLLNUM': 2,\n",
              "    'NAME': 'dtbkh',\n",
              "    'MARKS': {'Maths': 5, 'English': 5, 'Hindi': 6}},\n",
              "   3: {'ROLLNUM': 3,\n",
              "    'NAME': 'nhbsun',\n",
              "    'MARKS': {'Maths': 9, 'English': 5, 'Hindi': 6}},\n",
              "   4: {'ROLLNUM': 4,\n",
              "    'NAME': 'hyveuy',\n",
              "    'MARKS': {'Maths': 7, 'English': 5, 'Hindi': 10}},\n",
              "   5: {'ROLLNUM': 5,\n",
              "    'NAME': 'mabf',\n",
              "    'MARKS': {'Maths': 10, 'English': 8, 'Hindi': 8}}},\n",
              "  'Branch2': {1: {'ROLLNUM': 1,\n",
              "    'NAME': 'fgqz',\n",
              "    'MARKS': {'Maths': 6, 'English': 5, 'Hindi': 10}},\n",
              "   2: {'ROLLNUM': 2,\n",
              "    'NAME': 'dedrm',\n",
              "    'MARKS': {'Maths': 7, 'English': 9, 'Hindi': 5}},\n",
              "   3: {'ROLLNUM': 3,\n",
              "    'NAME': 'nuni',\n",
              "    'MARKS': {'Maths': 6, 'English': 10, 'Hindi': 9}},\n",
              "   4: {'ROLLNUM': 4,\n",
              "    'NAME': 'ebixzr',\n",
              "    'MARKS': {'Maths': 8, 'English': 6, 'Hindi': 6}},\n",
              "   5: {'ROLLNUM': 5,\n",
              "    'NAME': 'odpjl',\n",
              "    'MARKS': {'Maths': 7, 'English': 9, 'Hindi': 10}}},\n",
              "  'Branch3': {1: {'ROLLNUM': 1,\n",
              "    'NAME': 'vdewg',\n",
              "    'MARKS': {'Maths': 8, 'English': 9, 'Hindi': 6}},\n",
              "   2: {'ROLLNUM': 2,\n",
              "    'NAME': 'mpmh',\n",
              "    'MARKS': {'Maths': 8, 'English': 9, 'Hindi': 10}},\n",
              "   3: {'ROLLNUM': 3,\n",
              "    'NAME': 'iseqic',\n",
              "    'MARKS': {'Maths': 10, 'English': 10, 'Hindi': 6}},\n",
              "   4: {'ROLLNUM': 4,\n",
              "    'NAME': 'bjrud',\n",
              "    'MARKS': {'Maths': 7, 'English': 5, 'Hindi': 7}},\n",
              "   5: {'ROLLNUM': 5,\n",
              "    'NAME': 'llgr',\n",
              "    'MARKS': {'Maths': 6, 'English': 9, 'Hindi': 7}}}}}"
            ]
          },
          "metadata": {},
          "execution_count": 78
        }
      ]
    },
    {
      "cell_type": "code",
      "source": [],
      "metadata": {
        "id": "gLa4DX7aNxhE"
      },
      "execution_count": null,
      "outputs": []
    },
    {
      "cell_type": "markdown",
      "source": [
        "# Question 8"
      ],
      "metadata": {
        "id": "t3I4eF0QtvDU"
      }
    },
    {
      "cell_type": "code",
      "source": [
        "import random\n",
        "\n",
        "class Student:\n",
        "  def __init__(self, roll, name):\n",
        "    self.roll = roll\n",
        "    self.name = name\n",
        "    self.Marks = dict()\n",
        "\n",
        "  # This function will initialize the marks dictionary for the student \n",
        "  # with the given list of subjects\n",
        "  def defineMarks(self, subjects):\n",
        "    for sub in subjects:\n",
        "      self.Marks[sub] = random.randint(5,10)\n",
        "\n",
        "  # Some getters and setters\n",
        "  def getName(self):\n",
        "    return self.name\n",
        "  def getRoll(self):\n",
        "    return self.roll\n",
        "  def getMarks(self):\n",
        "    return self.Marks\n",
        "  def getSubjectMarks(self, subject):\n",
        "    return self.Marks[subject]\n",
        "  def setName(self, newName):\n",
        "    self.name = newName\n",
        "  def setSubjectMarks(self, subject, newMark):\n",
        "    self.Marks[subject] = newMark\n",
        "\n",
        "\n",
        "\n",
        "\n",
        "class Branch:\n",
        "  def __init__(self, branchName):\n",
        "    self.branchName = branchName\n",
        "    self.listOfStudents = list()\n",
        "\n",
        "  # Add a student object to the list of students\n",
        "  def admit_student(self,student):\n",
        "    self.listOfStudents.append(student)\n",
        "  \n",
        "  def getRollNumbers(self):\n",
        "    return [sObj.getRoll() for sObj in self.listOfStudents]\n",
        "  def getName(self):\n",
        "    return [(sObj.getRoll(), sObj.getName()) for sObj in self.listOfStudents]\n",
        "\n",
        "  # def updateStudent(self,roll,name = None, marks = None):\n",
        "  #   for sObj in self.listOfStudents:\n",
        "  #     if sObj.getRoll() == student.getRoll():\n",
        "  #       sObj.setName(newStudent.setName())\n",
        "  #       sObj.\n",
        "\n",
        "class Year:\n",
        "  def __init__(self,yearNumber):\n",
        "    self.yearNum = yearNumber\n",
        "    self.branches = list()\n",
        "\n",
        "  def add_branch(self, branch):\n",
        "    self.branches.append(branch)\n",
        "\n",
        "\n",
        "\n",
        "subjects = ['Maths', 'English', 'Science']\n",
        "rollnum = [i+1 for i in range(5)]\n",
        "names = generate_random_names(5)\n",
        "\n",
        "yearList = list()\n",
        "for yr in range(2022, 2026):\n",
        "  year = Year(yr)\n",
        "\n",
        "  for br in range(1,3):\n",
        "    # rollnum = [i+1 for i in range(5)]\n",
        "    branch = Branch('Branch'+str(br))\n",
        "\n",
        "    names = generate_random_names(5)\n",
        "    for rol in range(1,6):\n",
        "      student = Student(rol, names[rol-1])\n",
        "      student.defineMarks(subjects)\n",
        "      branch.admit_student(student)\n",
        "    \n",
        "    year.add_branch(branch)\n",
        "\n",
        "  yearList.append(year)\n",
        "\n",
        "\n"
      ],
      "metadata": {
        "id": "xnlw8H8btu_Y"
      },
      "execution_count": 85,
      "outputs": []
    },
    {
      "cell_type": "code",
      "source": [
        "year_no = 2022\n",
        "branch_no = 0\n",
        "roll_no = 0\n",
        "print(yearList[2022-year_no].branches[branch_no].listOfStudents[roll_no].getName())\n",
        "print(yearList[2022-year_no].branches[branch_no].listOfStudents[roll_no].getRoll())\n",
        "print(yearList[2022-year_no].branches[branch_no].listOfStudents[roll_no].getMarks())\n",
        "\n"
      ],
      "metadata": {
        "colab": {
          "base_uri": "https://localhost:8080/"
        },
        "id": "jfpXkLdUUgt7",
        "outputId": "92d45235-a00a-4181-ee03-829290975d1b"
      },
      "execution_count": 86,
      "outputs": [
        {
          "output_type": "stream",
          "name": "stdout",
          "text": [
            "arkcxs\n",
            "1\n",
            "{'Maths': 8, 'English': 7, 'Science': 7}\n"
          ]
        }
      ]
    },
    {
      "cell_type": "markdown",
      "source": [
        "# Question 9:\n",
        "\n",
        "Using matplotlib plot the following functions on the domain: x = 0.5 to 100.0 in steps of 0.5.\n",
        "\n"
      ],
      "metadata": {
        "id": "-_QaPrAxVhPd"
      }
    },
    {
      "cell_type": "code",
      "source": [
        "x = np.arange(0.5, 100, 0.5)\n",
        "x"
      ],
      "metadata": {
        "colab": {
          "base_uri": "https://localhost:8080/"
        },
        "id": "8KE1uQdKVyTV",
        "outputId": "aa32d8be-9ab3-4b5e-9203-fb0b70818b16"
      },
      "execution_count": 89,
      "outputs": [
        {
          "output_type": "execute_result",
          "data": {
            "text/plain": [
              "array([ 0.5,  1. ,  1.5,  2. ,  2.5,  3. ,  3.5,  4. ,  4.5,  5. ,  5.5,\n",
              "        6. ,  6.5,  7. ,  7.5,  8. ,  8.5,  9. ,  9.5, 10. , 10.5, 11. ,\n",
              "       11.5, 12. , 12.5, 13. , 13.5, 14. , 14.5, 15. , 15.5, 16. , 16.5,\n",
              "       17. , 17.5, 18. , 18.5, 19. , 19.5, 20. , 20.5, 21. , 21.5, 22. ,\n",
              "       22.5, 23. , 23.5, 24. , 24.5, 25. , 25.5, 26. , 26.5, 27. , 27.5,\n",
              "       28. , 28.5, 29. , 29.5, 30. , 30.5, 31. , 31.5, 32. , 32.5, 33. ,\n",
              "       33.5, 34. , 34.5, 35. , 35.5, 36. , 36.5, 37. , 37.5, 38. , 38.5,\n",
              "       39. , 39.5, 40. , 40.5, 41. , 41.5, 42. , 42.5, 43. , 43.5, 44. ,\n",
              "       44.5, 45. , 45.5, 46. , 46.5, 47. , 47.5, 48. , 48.5, 49. , 49.5,\n",
              "       50. , 50.5, 51. , 51.5, 52. , 52.5, 53. , 53.5, 54. , 54.5, 55. ,\n",
              "       55.5, 56. , 56.5, 57. , 57.5, 58. , 58.5, 59. , 59.5, 60. , 60.5,\n",
              "       61. , 61.5, 62. , 62.5, 63. , 63.5, 64. , 64.5, 65. , 65.5, 66. ,\n",
              "       66.5, 67. , 67.5, 68. , 68.5, 69. , 69.5, 70. , 70.5, 71. , 71.5,\n",
              "       72. , 72.5, 73. , 73.5, 74. , 74.5, 75. , 75.5, 76. , 76.5, 77. ,\n",
              "       77.5, 78. , 78.5, 79. , 79.5, 80. , 80.5, 81. , 81.5, 82. , 82.5,\n",
              "       83. , 83.5, 84. , 84.5, 85. , 85.5, 86. , 86.5, 87. , 87.5, 88. ,\n",
              "       88.5, 89. , 89.5, 90. , 90.5, 91. , 91.5, 92. , 92.5, 93. , 93.5,\n",
              "       94. , 94.5, 95. , 95.5, 96. , 96.5, 97. , 97.5, 98. , 98.5, 99. ,\n",
              "       99.5])"
            ]
          },
          "metadata": {},
          "execution_count": 89
        }
      ]
    },
    {
      "cell_type": "markdown",
      "source": [
        "## y =x"
      ],
      "metadata": {
        "id": "h8_CCD12Vg9e"
      }
    },
    {
      "cell_type": "code",
      "source": [
        "y = x.copy()\n",
        "\n",
        "import matplotlib.pyplot as plt"
      ],
      "metadata": {
        "id": "472759vjV7Yd"
      },
      "execution_count": 91,
      "outputs": []
    },
    {
      "cell_type": "code",
      "source": [
        "plt.plot(x,y,label = 'plot of y = x')"
      ],
      "metadata": {
        "colab": {
          "base_uri": "https://localhost:8080/",
          "height": 283
        },
        "id": "xthyWE2LWEPh",
        "outputId": "03234bfc-9457-48fe-d20f-c677e1ca8d0d"
      },
      "execution_count": 93,
      "outputs": [
        {
          "output_type": "execute_result",
          "data": {
            "text/plain": [
              "[<matplotlib.lines.Line2D at 0x7f245bea5c70>]"
            ]
          },
          "metadata": {},
          "execution_count": 93
        },
        {
          "output_type": "display_data",
          "data": {
            "text/plain": [
              "<Figure size 432x288 with 1 Axes>"
            ],
            "image/png": "[encoded data removed]"
          },
          "metadata": {
            "needs_background": "light"
          }
        }
      ]
    },
    {
      "cell_type": "markdown",
      "source": [
        "## $ y = x^{2} $"
      ],
      "metadata": {
        "id": "Nr1RCGhVVgzh"
      }
    },
    {
      "cell_type": "code",
      "source": [
        "y = np.square(x)\n",
        "y"
      ],
      "metadata": {
        "colab": {
          "base_uri": "https://localhost:8080/"
        },
        "id": "I-lIJ4sLWsIB",
        "outputId": "dfe800ab-e0ab-4b6f-baec-1d89a00d75a5"
      },
      "execution_count": 94,
      "outputs": [
        {
          "output_type": "execute_result",
          "data": {
            "text/plain": [
              "array([2.50000e-01, 1.00000e+00, 2.25000e+00, 4.00000e+00, 6.25000e+00,\n",
              "       9.00000e+00, 1.22500e+01, 1.60000e+01, 2.02500e+01, 2.50000e+01,\n",
              "       3.02500e+01, 3.60000e+01, 4.22500e+01, 4.90000e+01, 5.62500e+01,\n",
              "       6.40000e+01, 7.22500e+01, 8.10000e+01, 9.02500e+01, 1.00000e+02,\n",
              "       1.10250e+02, 1.21000e+02, 1.32250e+02, 1.44000e+02, 1.56250e+02,\n",
              "       1.69000e+02, 1.82250e+02, 1.96000e+02, 2.10250e+02, 2.25000e+02,\n",
              "       2.40250e+02, 2.56000e+02, 2.72250e+02, 2.89000e+02, 3.06250e+02,\n",
              "       3.24000e+02, 3.42250e+02, 3.61000e+02, 3.80250e+02, 4.00000e+02,\n",
              "       4.20250e+02, 4.41000e+02, 4.62250e+02, 4.84000e+02, 5.06250e+02,\n",
              "       5.29000e+02, 5.52250e+02, 5.76000e+02, 6.00250e+02, 6.25000e+02,\n",
              "       6.50250e+02, 6.76000e+02, 7.02250e+02, 7.29000e+02, 7.56250e+02,\n",
              "       7.84000e+02, 8.12250e+02, 8.41000e+02, 8.70250e+02, 9.00000e+02,\n",
              "       9.30250e+02, 9.61000e+02, 9.92250e+02, 1.02400e+03, 1.05625e+03,\n",
              "       1.08900e+03, 1.12225e+03, 1.15600e+03, 1.19025e+03, 1.22500e+03,\n",
              "       1.26025e+03, 1.29600e+03, 1.33225e+03, 1.36900e+03, 1.40625e+03,\n",
              "       1.44400e+03, 1.48225e+03, 1.52100e+03, 1.56025e+03, 1.60000e+03,\n",
              "       1.64025e+03, 1.68100e+03, 1.72225e+03, 1.76400e+03, 1.80625e+03,\n",
              "       1.84900e+03, 1.89225e+03, 1.93600e+03, 1.98025e+03, 2.02500e+03,\n",
              "       2.07025e+03, 2.11600e+03, 2.16225e+03, 2.20900e+03, 2.25625e+03,\n",
              "       2.30400e+03, 2.35225e+03, 2.40100e+03, 2.45025e+03, 2.50000e+03,\n",
              "       2.55025e+03, 2.60100e+03, 2.65225e+03, 2.70400e+03, 2.75625e+03,\n",
              "       2.80900e+03, 2.86225e+03, 2.91600e+03, 2.97025e+03, 3.02500e+03,\n",
              "       3.08025e+03, 3.13600e+03, 3.19225e+03, 3.24900e+03, 3.30625e+03,\n",
              "       3.36400e+03, 3.42225e+03, 3.48100e+03, 3.54025e+03, 3.60000e+03,\n",
              "       3.66025e+03, 3.72100e+03, 3.78225e+03, 3.84400e+03, 3.90625e+03,\n",
              "       3.96900e+03, 4.03225e+03, 4.09600e+03, 4.16025e+03, 4.22500e+03,\n",
              "       4.29025e+03, 4.35600e+03, 4.42225e+03, 4.48900e+03, 4.55625e+03,\n",
              "       4.62400e+03, 4.69225e+03, 4.76100e+03, 4.83025e+03, 4.90000e+03,\n",
              "       4.97025e+03, 5.04100e+03, 5.11225e+03, 5.18400e+03, 5.25625e+03,\n",
              "       5.32900e+03, 5.40225e+03, 5.47600e+03, 5.55025e+03, 5.62500e+03,\n",
              "       5.70025e+03, 5.77600e+03, 5.85225e+03, 5.92900e+03, 6.00625e+03,\n",
              "       6.08400e+03, 6.16225e+03, 6.24100e+03, 6.32025e+03, 6.40000e+03,\n",
              "       6.48025e+03, 6.56100e+03, 6.64225e+03, 6.72400e+03, 6.80625e+03,\n",
              "       6.88900e+03, 6.97225e+03, 7.05600e+03, 7.14025e+03, 7.22500e+03,\n",
              "       7.31025e+03, 7.39600e+03, 7.48225e+03, 7.56900e+03, 7.65625e+03,\n",
              "       7.74400e+03, 7.83225e+03, 7.92100e+03, 8.01025e+03, 8.10000e+03,\n",
              "       8.19025e+03, 8.28100e+03, 8.37225e+03, 8.46400e+03, 8.55625e+03,\n",
              "       8.64900e+03, 8.74225e+03, 8.83600e+03, 8.93025e+03, 9.02500e+03,\n",
              "       9.12025e+03, 9.21600e+03, 9.31225e+03, 9.40900e+03, 9.50625e+03,\n",
              "       9.60400e+03, 9.70225e+03, 9.80100e+03, 9.90025e+03])"
            ]
          },
          "metadata": {},
          "execution_count": 94
        }
      ]
    },
    {
      "cell_type": "code",
      "source": [
        "plt.plot(x,y)"
      ],
      "metadata": {
        "colab": {
          "base_uri": "https://localhost:8080/",
          "height": 283
        },
        "id": "eF7cm8JiWsAv",
        "outputId": "381ffbff-62c6-41aa-dbac-415f96555133"
      },
      "execution_count": 96,
      "outputs": [
        {
          "output_type": "execute_result",
          "data": {
            "text/plain": [
              "[<matplotlib.lines.Line2D at 0x7f245bdb5520>]"
            ]
          },
          "metadata": {},
          "execution_count": 96
        },
        {
          "output_type": "display_data",
          "data": {
            "text/plain": [
              "<Figure size 432x288 with 1 Axes>"
            ],
            "image/png": "[encoded data removed]"
          },
          "metadata": {
            "needs_background": "light"
          }
        }
      ]
    },
    {
      "cell_type": "markdown",
      "source": [
        "## $ y = x^{3} $"
      ],
      "metadata": {
        "id": "snOUmUXfW_OE"
      }
    },
    {
      "cell_type": "code",
      "source": [
        "y = x**3\n",
        "y"
      ],
      "metadata": {
        "colab": {
          "base_uri": "https://localhost:8080/"
        },
        "id": "m5H3VOBCXBFN",
        "outputId": "da404b19-5553-4b96-eb94-6e4571bbb334"
      },
      "execution_count": 97,
      "outputs": [
        {
          "output_type": "execute_result",
          "data": {
            "text/plain": [
              "array([1.25000000e-01, 1.00000000e+00, 3.37500000e+00, 8.00000000e+00,\n",
              "       1.56250000e+01, 2.70000000e+01, 4.28750000e+01, 6.40000000e+01,\n",
              "       9.11250000e+01, 1.25000000e+02, 1.66375000e+02, 2.16000000e+02,\n",
              "       2.74625000e+02, 3.43000000e+02, 4.21875000e+02, 5.12000000e+02,\n",
              "       6.14125000e+02, 7.29000000e+02, 8.57375000e+02, 1.00000000e+03,\n",
              "       1.15762500e+03, 1.33100000e+03, 1.52087500e+03, 1.72800000e+03,\n",
              "       1.95312500e+03, 2.19700000e+03, 2.46037500e+03, 2.74400000e+03,\n",
              "       3.04862500e+03, 3.37500000e+03, 3.72387500e+03, 4.09600000e+03,\n",
              "       4.49212500e+03, 4.91300000e+03, 5.35937500e+03, 5.83200000e+03,\n",
              "       6.33162500e+03, 6.85900000e+03, 7.41487500e+03, 8.00000000e+03,\n",
              "       8.61512500e+03, 9.26100000e+03, 9.93837500e+03, 1.06480000e+04,\n",
              "       1.13906250e+04, 1.21670000e+04, 1.29778750e+04, 1.38240000e+04,\n",
              "       1.47061250e+04, 1.56250000e+04, 1.65813750e+04, 1.75760000e+04,\n",
              "       1.86096250e+04, 1.96830000e+04, 2.07968750e+04, 2.19520000e+04,\n",
              "       2.31491250e+04, 2.43890000e+04, 2.56723750e+04, 2.70000000e+04,\n",
              "       2.83726250e+04, 2.97910000e+04, 3.12558750e+04, 3.27680000e+04,\n",
              "       3.43281250e+04, 3.59370000e+04, 3.75953750e+04, 3.93040000e+04,\n",
              "       4.10636250e+04, 4.28750000e+04, 4.47388750e+04, 4.66560000e+04,\n",
              "       4.86271250e+04, 5.06530000e+04, 5.27343750e+04, 5.48720000e+04,\n",
              "       5.70666250e+04, 5.93190000e+04, 6.16298750e+04, 6.40000000e+04,\n",
              "       6.64301250e+04, 6.89210000e+04, 7.14733750e+04, 7.40880000e+04,\n",
              "       7.67656250e+04, 7.95070000e+04, 8.23128750e+04, 8.51840000e+04,\n",
              "       8.81211250e+04, 9.11250000e+04, 9.41963750e+04, 9.73360000e+04,\n",
              "       1.00544625e+05, 1.03823000e+05, 1.07171875e+05, 1.10592000e+05,\n",
              "       1.14084125e+05, 1.17649000e+05, 1.21287375e+05, 1.25000000e+05,\n",
              "       1.28787625e+05, 1.32651000e+05, 1.36590875e+05, 1.40608000e+05,\n",
              "       1.44703125e+05, 1.48877000e+05, 1.53130375e+05, 1.57464000e+05,\n",
              "       1.61878625e+05, 1.66375000e+05, 1.70953875e+05, 1.75616000e+05,\n",
              "       1.80362125e+05, 1.85193000e+05, 1.90109375e+05, 1.95112000e+05,\n",
              "       2.00201625e+05, 2.05379000e+05, 2.10644875e+05, 2.16000000e+05,\n",
              "       2.21445125e+05, 2.26981000e+05, 2.32608375e+05, 2.38328000e+05,\n",
              "       2.44140625e+05, 2.50047000e+05, 2.56047875e+05, 2.62144000e+05,\n",
              "       2.68336125e+05, 2.74625000e+05, 2.81011375e+05, 2.87496000e+05,\n",
              "       2.94079625e+05, 3.00763000e+05, 3.07546875e+05, 3.14432000e+05,\n",
              "       3.21419125e+05, 3.28509000e+05, 3.35702375e+05, 3.43000000e+05,\n",
              "       3.50402625e+05, 3.57911000e+05, 3.65525875e+05, 3.73248000e+05,\n",
              "       3.81078125e+05, 3.89017000e+05, 3.97065375e+05, 4.05224000e+05,\n",
              "       4.13493625e+05, 4.21875000e+05, 4.30368875e+05, 4.38976000e+05,\n",
              "       4.47697125e+05, 4.56533000e+05, 4.65484375e+05, 4.74552000e+05,\n",
              "       4.83736625e+05, 4.93039000e+05, 5.02459875e+05, 5.12000000e+05,\n",
              "       5.21660125e+05, 5.31441000e+05, 5.41343375e+05, 5.51368000e+05,\n",
              "       5.61515625e+05, 5.71787000e+05, 5.82182875e+05, 5.92704000e+05,\n",
              "       6.03351125e+05, 6.14125000e+05, 6.25026375e+05, 6.36056000e+05,\n",
              "       6.47214625e+05, 6.58503000e+05, 6.69921875e+05, 6.81472000e+05,\n",
              "       6.93154125e+05, 7.04969000e+05, 7.16917375e+05, 7.29000000e+05,\n",
              "       7.41217625e+05, 7.53571000e+05, 7.66060875e+05, 7.78688000e+05,\n",
              "       7.91453125e+05, 8.04357000e+05, 8.17400375e+05, 8.30584000e+05,\n",
              "       8.43908625e+05, 8.57375000e+05, 8.70983875e+05, 8.84736000e+05,\n",
              "       8.98632125e+05, 9.12673000e+05, 9.26859375e+05, 9.41192000e+05,\n",
              "       9.55671625e+05, 9.70299000e+05, 9.85074875e+05])"
            ]
          },
          "metadata": {},
          "execution_count": 97
        }
      ]
    },
    {
      "cell_type": "code",
      "source": [
        "plt.plot(x,y)"
      ],
      "metadata": {
        "colab": {
          "base_uri": "https://localhost:8080/",
          "height": 294
        },
        "id": "eVk0QklLXACW",
        "outputId": "3215526f-12a6-423b-fc66-461cfacc0511"
      },
      "execution_count": 98,
      "outputs": [
        {
          "output_type": "execute_result",
          "data": {
            "text/plain": [
              "[<matplotlib.lines.Line2D at 0x7f245bd625b0>]"
            ]
          },
          "metadata": {},
          "execution_count": 98
        },
        {
          "output_type": "display_data",
          "data": {
            "text/plain": [
              "<Figure size 432x288 with 1 Axes>"
            ],
            "image/png": "[encoded data removed]"
          },
          "metadata": {
            "needs_background": "light"
          }
        }
      ]
    },
    {
      "cell_type": "markdown",
      "source": [
        "## $ y = x^{3} / 100 $"
      ],
      "metadata": {
        "id": "lfGV5jngW-x-"
      }
    },
    {
      "cell_type": "code",
      "source": [
        "y = (x**3)/100\n",
        "plt.plot(x,y)"
      ],
      "metadata": {
        "colab": {
          "base_uri": "https://localhost:8080/",
          "height": 283
        },
        "id": "UB75LHoDXV7h",
        "outputId": "8e447e35-2abb-477d-9938-87a387570f1b"
      },
      "execution_count": 99,
      "outputs": [
        {
          "output_type": "execute_result",
          "data": {
            "text/plain": [
              "[<matplotlib.lines.Line2D at 0x7f245bd2a6d0>]"
            ]
          },
          "metadata": {},
          "execution_count": 99
        },
        {
          "output_type": "display_data",
          "data": {
            "text/plain": [
              "<Figure size 432x288 with 1 Axes>"
            ],
            "image/png": "[encoded data removed]"
          },
          "metadata": {
            "needs_background": "light"
          }
        }
      ]
    },
    {
      "cell_type": "markdown",
      "source": [
        "## y = sin(x)"
      ],
      "metadata": {
        "id": "vZ-5YPY7Xbp1"
      }
    },
    {
      "cell_type": "code",
      "source": [
        "y = np.sin(x)\n",
        "\n",
        "plt.plot(x,y)"
      ],
      "metadata": {
        "colab": {
          "base_uri": "https://localhost:8080/",
          "height": 283
        },
        "id": "x-oH09PxXgmM",
        "outputId": "2206fac9-acec-4142-c9b0-faea97f0407a"
      },
      "execution_count": 100,
      "outputs": [
        {
          "output_type": "execute_result",
          "data": {
            "text/plain": [
              "[<matplotlib.lines.Line2D at 0x7f245bcf25b0>]"
            ]
          },
          "metadata": {},
          "execution_count": 100
        },
        {
          "output_type": "display_data",
          "data": {
            "text/plain": [
              "<Figure size 432x288 with 1 Axes>"
            ],
            "image/png": "[encoded data removed]"
          },
          "metadata": {
            "needs_background": "light"
          }
        }
      ]
    },
    {
      "cell_type": "markdown",
      "source": [
        "## y = sin(x)/x"
      ],
      "metadata": {
        "id": "SJqVU4upXkef"
      }
    },
    {
      "cell_type": "code",
      "source": [
        "y = (np.sin(x))/x\n",
        "plt.plot(x,y)"
      ],
      "metadata": {
        "colab": {
          "base_uri": "https://localhost:8080/",
          "height": 284
        },
        "id": "va1VbCc3XlQ1",
        "outputId": "457f3f7d-1b8f-4c5f-fe63-3efd162f28f9"
      },
      "execution_count": 101,
      "outputs": [
        {
          "output_type": "execute_result",
          "data": {
            "text/plain": [
              "[<matplotlib.lines.Line2D at 0x7f245bc50370>]"
            ]
          },
          "metadata": {},
          "execution_count": 101
        },
        {
          "output_type": "display_data",
          "data": {
            "text/plain": [
              "<Figure size 432x288 with 1 Axes>"
            ],
            "image/png": "[encoded data removed]"
          },
          "metadata": {
            "needs_background": "light"
          }
        }
      ]
    },
    {
      "cell_type": "markdown",
      "source": [
        "## y = log(x)"
      ],
      "metadata": {
        "id": "490rZHT1XwqX"
      }
    },
    {
      "cell_type": "code",
      "source": [
        "y = np.log(x)\n",
        "plt.plot(x,y)"
      ],
      "metadata": {
        "colab": {
          "base_uri": "https://localhost:8080/",
          "height": 283
        },
        "id": "84RbQiMrXwdT",
        "outputId": "43af65ad-c4f0-427d-feea-c6a4af5f8e1b"
      },
      "execution_count": 102,
      "outputs": [
        {
          "output_type": "execute_result",
          "data": {
            "text/plain": [
              "[<matplotlib.lines.Line2D at 0x7f245bc37a30>]"
            ]
          },
          "metadata": {},
          "execution_count": 102
        },
        {
          "output_type": "display_data",
          "data": {
            "text/plain": [
              "<Figure size 432x288 with 1 Axes>"
            ],
            "image/png": "[encoded data removed]"
          },
          "metadata": {
            "needs_background": "light"
          }
        }
      ]
    },
    {
      "cell_type": "markdown",
      "source": [
        "## y = exp(x)"
      ],
      "metadata": {
        "id": "90ANaQAeX26c"
      }
    },
    {
      "cell_type": "code",
      "source": [
        "y = np.exp(x)\n",
        "plt.plot(x,y)"
      ],
      "metadata": {
        "colab": {
          "base_uri": "https://localhost:8080/",
          "height": 294
        },
        "id": "IeY990f7X2xW",
        "outputId": "4a5a8896-5ce3-48e2-f918-a3fa026e6a9e"
      },
      "execution_count": 103,
      "outputs": [
        {
          "output_type": "execute_result",
          "data": {
            "text/plain": [
              "[<matplotlib.lines.Line2D at 0x7f245bbfa6d0>]"
            ]
          },
          "metadata": {},
          "execution_count": 103
        },
        {
          "output_type": "display_data",
          "data": {
            "text/plain": [
              "<Figure size 432x288 with 1 Axes>"
            ],
            "image/png": "[encoded data removed]"
          },
          "metadata": {
            "needs_background": "light"
          }
        }
      ]
    },
    {
      "cell_type": "markdown",
      "source": [
        "# Question 10:\n",
        "\n",
        "Using numpy generate a matrix of size 20X5 containing random numbers drawn \n",
        "\n",
        "uniformly from the range of 1 to 2. \n",
        "\n",
        "Using Pandas create a dataframe out of this matrix. \n",
        "\n",
        "Name the columns of the dataframe as “a”, “b”, “c”, “d”, “e”. \n",
        "\n",
        "Find the column with the highest standard deviation. \n",
        "\n",
        "Find the row with the lowest mean"
      ],
      "metadata": {
        "id": "YuMHiLMGX_uX"
      }
    },
    {
      "cell_type": "code",
      "source": [
        "mat = np.random.uniform(1,2,(20,5))\n",
        "mat"
      ],
      "metadata": {
        "colab": {
          "base_uri": "https://localhost:8080/"
        },
        "id": "UXh7O24jX_eK",
        "outputId": "06840bae-2766-4180-98ce-4c801adc9851"
      },
      "execution_count": 104,
      "outputs": [
        {
          "output_type": "execute_result",
          "data": {
            "text/plain": [
              "array([[1.38059917, 1.1386836 , 1.74183977, 1.36642115, 1.33936957],\n",
              "       [1.33009924, 1.86017587, 1.46991625, 1.66301806, 1.33885238],\n",
              "       [1.8174956 , 1.92564669, 1.77519864, 1.33145881, 1.97158763],\n",
              "       [1.99753474, 1.76883492, 1.00477295, 1.29151587, 1.0703994 ],\n",
              "       [1.39464826, 1.35694647, 1.39934695, 1.87142699, 1.24313327],\n",
              "       [1.06998495, 1.12837786, 1.05660131, 1.09222561, 1.08962282],\n",
              "       [1.84229727, 1.14593134, 1.85244498, 1.3100663 , 1.10702633],\n",
              "       [1.93817198, 1.74552963, 1.45939248, 1.32389321, 1.09668759],\n",
              "       [1.99510572, 1.69269522, 1.90544259, 1.11287439, 1.70461055],\n",
              "       [1.65339179, 1.23423875, 1.95614274, 1.45233765, 1.50879047],\n",
              "       [1.35096647, 1.0450056 , 1.98459654, 1.23068747, 1.21757198],\n",
              "       [1.38107704, 1.37140953, 1.52939805, 1.55051617, 1.74692796],\n",
              "       [1.98611588, 1.14368584, 1.14782826, 1.45026719, 1.1509864 ],\n",
              "       [1.56856684, 1.82707567, 1.43399416, 1.94592911, 1.21615051],\n",
              "       [1.8070952 , 1.78636337, 1.96201342, 1.96445736, 1.17641465],\n",
              "       [1.82570726, 1.08282334, 1.67268679, 1.09693459, 1.74639557],\n",
              "       [1.05800189, 1.91108541, 1.44198327, 1.43549628, 1.09277277],\n",
              "       [1.13010916, 1.87717602, 1.16715051, 1.82301094, 1.42239454],\n",
              "       [1.28226902, 1.0895831 , 1.78366554, 1.8168063 , 1.21779893],\n",
              "       [1.82633788, 1.28852325, 1.1366121 , 1.74821859, 1.9118866 ]])"
            ]
          },
          "metadata": {},
          "execution_count": 104
        }
      ]
    },
    {
      "cell_type": "code",
      "source": [
        "import pandas as pd\n",
        "\n",
        "col_names = ['A', 'B', 'C', 'D', 'E']\n",
        "\n",
        "dataframe = pd.DataFrame(mat,columns = col_names)\n",
        "dataframe"
      ],
      "metadata": {
        "colab": {
          "base_uri": "https://localhost:8080/",
          "height": 676
        },
        "id": "pksLs_QzYjlj",
        "outputId": "51f5f9c4-00a4-44c0-ebdd-a2a4566dc3ca"
      },
      "execution_count": 106,
      "outputs": [
        {
          "output_type": "execute_result",
          "data": {
            "text/plain": [
              "           A         B         C         D         E\n",
              "0   1.380599  1.138684  1.741840  1.366421  1.339370\n",
              "1   1.330099  1.860176  1.469916  1.663018  1.338852\n",
              "2   1.817496  1.925647  1.775199  1.331459  1.971588\n",
              "3   1.997535  1.768835  1.004773  1.291516  1.070399\n",
              "4   1.394648  1.356946  1.399347  1.871427  1.243133\n",
              "5   1.069985  1.128378  1.056601  1.092226  1.089623\n",
              "6   1.842297  1.145931  1.852445  1.310066  1.107026\n",
              "7   1.938172  1.745530  1.459392  1.323893  1.096688\n",
              "8   1.995106  1.692695  1.905443  1.112874  1.704611\n",
              "9   1.653392  1.234239  1.956143  1.452338  1.508790\n",
              "10  1.350966  1.045006  1.984597  1.230687  1.217572\n",
              "11  1.381077  1.371410  1.529398  1.550516  1.746928\n",
              "12  1.986116  1.143686  1.147828  1.450267  1.150986\n",
              "13  1.568567  1.827076  1.433994  1.945929  1.216151\n",
              "14  1.807095  1.786363  1.962013  1.964457  1.176415\n",
              "15  1.825707  1.082823  1.672687  1.096935  1.746396\n",
              "16  1.058002  1.911085  1.441983  1.435496  1.092773\n",
              "17  1.130109  1.877176  1.167151  1.823011  1.422395\n",
              "18  1.282269  1.089583  1.783666  1.816806  1.217799\n",
              "19  1.826338  1.288523  1.136612  1.748219  1.911887"
            ],
            "text/html": [
              "\n",
              "  <div id=\"df-97d8792e-983e-41f2-8404-c21ba1db48d2\">\n",
              "    <div class=\"colab-df-container\">\n",
              "      <div>\n",
              "<style scoped>\n",
              "    .dataframe tbody tr th:only-of-type {\n",
              "        vertical-align: middle;\n",
              "    }\n",
              "\n",
              "    .dataframe tbody tr th {\n",
              "        vertical-align: top;\n",
              "    }\n",
              "\n",
              "    .dataframe thead th {\n",
              "        text-align: right;\n",
              "    }\n",
              "</style>\n",
              "<table border=\"1\" class=\"dataframe\">\n",
              "  <thead>\n",
              "    <tr style=\"text-align: right;\">\n",
              "      <th></th>\n",
              "      <th>A</th>\n",
              "      <th>B</th>\n",
              "      <th>C</th>\n",
              "      <th>D</th>\n",
              "      <th>E</th>\n",
              "    </tr>\n",
              "  </thead>\n",
              "  <tbody>\n",
              "    <tr>\n",
              "      <th>0</th>\n",
              "      <td>1.380599</td>\n",
              "      <td>1.138684</td>\n",
              "      <td>1.741840</td>\n",
              "      <td>1.366421</td>\n",
              "      <td>1.339370</td>\n",
              "    </tr>\n",
              "    <tr>\n",
              "      <th>1</th>\n",
              "      <td>1.330099</td>\n",
              "      <td>1.860176</td>\n",
              "      <td>1.469916</td>\n",
              "      <td>1.663018</td>\n",
              "      <td>1.338852</td>\n",
              "    </tr>\n",
              "    <tr>\n",
              "      <th>2</th>\n",
              "      <td>1.817496</td>\n",
              "      <td>1.925647</td>\n",
              "      <td>1.775199</td>\n",
              "      <td>1.331459</td>\n",
              "      <td>1.971588</td>\n",
              "    </tr>\n",
              "    <tr>\n",
              "      <th>3</th>\n",
              "      <td>1.997535</td>\n",
              "      <td>1.768835</td>\n",
              "      <td>1.004773</td>\n",
              "      <td>1.291516</td>\n",
              "      <td>1.070399</td>\n",
              "    </tr>\n",
              "    <tr>\n",
              "      <th>4</th>\n",
              "      <td>1.394648</td>\n",
              "      <td>1.356946</td>\n",
              "      <td>1.399347</td>\n",
              "      <td>1.871427</td>\n",
              "      <td>1.243133</td>\n",
              "    </tr>\n",
              "    <tr>\n",
              "      <th>5</th>\n",
              "      <td>1.069985</td>\n",
              "      <td>1.128378</td>\n",
              "      <td>1.056601</td>\n",
              "      <td>1.092226</td>\n",
              "      <td>1.089623</td>\n",
              "    </tr>\n",
              "    <tr>\n",
              "      <th>6</th>\n",
              "      <td>1.842297</td>\n",
              "      <td>1.145931</td>\n",
              "      <td>1.852445</td>\n",
              "      <td>1.310066</td>\n",
              "      <td>1.107026</td>\n",
              "    </tr>\n",
              "    <tr>\n",
              "      <th>7</th>\n",
              "      <td>1.938172</td>\n",
              "      <td>1.745530</td>\n",
              "      <td>1.459392</td>\n",
              "      <td>1.323893</td>\n",
              "      <td>1.096688</td>\n",
              "    </tr>\n",
              "    <tr>\n",
              "      <th>8</th>\n",
              "      <td>1.995106</td>\n",
              "      <td>1.692695</td>\n",
              "      <td>1.905443</td>\n",
              "      <td>1.112874</td>\n",
              "      <td>1.704611</td>\n",
              "    </tr>\n",
              "    <tr>\n",
              "      <th>9</th>\n",
              "      <td>1.653392</td>\n",
              "      <td>1.234239</td>\n",
              "      <td>1.956143</td>\n",
              "      <td>1.452338</td>\n",
              "      <td>1.508790</td>\n",
              "    </tr>\n",
              "    <tr>\n",
              "      <th>10</th>\n",
              "      <td>1.350966</td>\n",
              "      <td>1.045006</td>\n",
              "      <td>1.984597</td>\n",
              "      <td>1.230687</td>\n",
              "      <td>1.217572</td>\n",
              "    </tr>\n",
              "    <tr>\n",
              "      <th>11</th>\n",
              "      <td>1.381077</td>\n",
              "      <td>1.371410</td>\n",
              "      <td>1.529398</td>\n",
              "      <td>1.550516</td>\n",
              "      <td>1.746928</td>\n",
              "    </tr>\n",
              "    <tr>\n",
              "      <th>12</th>\n",
              "      <td>1.986116</td>\n",
              "      <td>1.143686</td>\n",
              "      <td>1.147828</td>\n",
              "      <td>1.450267</td>\n",
              "      <td>1.150986</td>\n",
              "    </tr>\n",
              "    <tr>\n",
              "      <th>13</th>\n",
              "      <td>1.568567</td>\n",
              "      <td>1.827076</td>\n",
              "      <td>1.433994</td>\n",
              "      <td>1.945929</td>\n",
              "      <td>1.216151</td>\n",
              "    </tr>\n",
              "    <tr>\n",
              "      <th>14</th>\n",
              "      <td>1.807095</td>\n",
              "      <td>1.786363</td>\n",
              "      <td>1.962013</td>\n",
              "      <td>1.964457</td>\n",
              "      <td>1.176415</td>\n",
              "    </tr>\n",
              "    <tr>\n",
              "      <th>15</th>\n",
              "      <td>1.825707</td>\n",
              "      <td>1.082823</td>\n",
              "      <td>1.672687</td>\n",
              "      <td>1.096935</td>\n",
              "      <td>1.746396</td>\n",
              "    </tr>\n",
              "    <tr>\n",
              "      <th>16</th>\n",
              "      <td>1.058002</td>\n",
              "      <td>1.911085</td>\n",
              "      <td>1.441983</td>\n",
              "      <td>1.435496</td>\n",
              "      <td>1.092773</td>\n",
              "    </tr>\n",
              "    <tr>\n",
              "      <th>17</th>\n",
              "      <td>1.130109</td>\n",
              "      <td>1.877176</td>\n",
              "      <td>1.167151</td>\n",
              "      <td>1.823011</td>\n",
              "      <td>1.422395</td>\n",
              "    </tr>\n",
              "    <tr>\n",
              "      <th>18</th>\n",
              "      <td>1.282269</td>\n",
              "      <td>1.089583</td>\n",
              "      <td>1.783666</td>\n",
              "      <td>1.816806</td>\n",
              "      <td>1.217799</td>\n",
              "    </tr>\n",
              "    <tr>\n",
              "      <th>19</th>\n",
              "      <td>1.826338</td>\n",
              "      <td>1.288523</td>\n",
              "      <td>1.136612</td>\n",
              "      <td>1.748219</td>\n",
              "      <td>1.911887</td>\n",
              "    </tr>\n",
              "  </tbody>\n",
              "</table>\n",
              "</div>\n",
              "      <button class=\"colab-df-convert\" onclick=\"convertToInteractive('df-97d8792e-983e-41f2-8404-c21ba1db48d2')\"\n",
              "              title=\"Convert this dataframe to an interactive table.\"\n",
              "              style=\"display:none;\">\n",
              "        \n",
              "  <svg xmlns=\"http://www.w3.org/2000/svg\" height=\"24px\"viewBox=\"0 0 24 24\"\n",
              "       width=\"24px\">\n",
              "    <path d=\"M0 0h24v24H0V0z\" fill=\"none\"/>\n",
              "    <path d=\"M18.56 5.44l.94 2.06.94-2.06 2.06-.94-2.06-.94-.94-2.06-.94 2.06-2.06.94zm-11 1L8.5 8.5l.94-2.06 2.06-.94-2.06-.94L8.5 2.5l-.94 2.06-2.06.94zm10 10l.94 2.06.94-2.06 2.06-.94-2.06-.94-.94-2.06-.94 2.06-2.06.94z\"/><path d=\"M17.41 7.96l-1.37-1.37c-.4-.4-.92-.59-1.43-.59-.52 0-1.04.2-1.43.59L10.3 9.45l-7.72 7.72c-.78.78-.78 2.05 0 2.83L4 21.41c.39.39.9.59 1.41.59.51 0 1.02-.2 1.41-.59l7.78-7.78 2.81-2.81c.8-.78.8-2.07 0-2.86zM5.41 20L4 18.59l7.72-7.72 1.47 1.35L5.41 20z\"/>\n",
              "  </svg>\n",
              "      </button>\n",
              "      \n",
              "  <style>\n",
              "    .colab-df-container {\n",
              "      display:flex;\n",
              "      flex-wrap:wrap;\n",
              "      gap: 12px;\n",
              "    }\n",
              "\n",
              "    .colab-df-convert {\n",
              "      background-color: #E8F0FE;\n",
              "      border: none;\n",
              "      border-radius: 50%;\n",
              "      cursor: pointer;\n",
              "      display: none;\n",
              "      fill: #1967D2;\n",
              "      height: 32px;\n",
              "      padding: 0 0 0 0;\n",
              "      width: 32px;\n",
              "    }\n",
              "\n",
              "    .colab-df-convert:hover {\n",
              "      background-color: #E2EBFA;\n",
              "      box-shadow: 0px 1px 2px rgba(60, 64, 67, 0.3), 0px 1px 3px 1px rgba(60, 64, 67, 0.15);\n",
              "      fill: #174EA6;\n",
              "    }\n",
              "\n",
              "    [theme=dark] .colab-df-convert {\n",
              "      background-color: #3B4455;\n",
              "      fill: #D2E3FC;\n",
              "    }\n",
              "\n",
              "    [theme=dark] .colab-df-convert:hover {\n",
              "      background-color: #434B5C;\n",
              "      box-shadow: 0px 1px 3px 1px rgba(0, 0, 0, 0.15);\n",
              "      filter: drop-shadow(0px 1px 2px rgba(0, 0, 0, 0.3));\n",
              "      fill: #FFFFFF;\n",
              "    }\n",
              "  </style>\n",
              "\n",
              "      <script>\n",
              "        const buttonEl =\n",
              "          document.querySelector('#df-97d8792e-983e-41f2-8404-c21ba1db48d2 button.colab-df-convert');\n",
              "        buttonEl.style.display =\n",
              "          google.colab.kernel.accessAllowed ? 'block' : 'none';\n",
              "\n",
              "        async function convertToInteractive(key) {\n",
              "          const element = document.querySelector('#df-97d8792e-983e-41f2-8404-c21ba1db48d2');\n",
              "          const dataTable =\n",
              "            await google.colab.kernel.invokeFunction('convertToInteractive',\n",
              "                                                     [key], {});\n",
              "          if (!dataTable) return;\n",
              "\n",
              "          const docLinkHtml = 'Like what you see? Visit the ' +\n",
              "            '<a target=\"_blank\" href=https://colab.research.google.com/notebooks/data_table.ipynb>data table notebook</a>'\n",
              "            + ' to learn more about interactive tables.';\n",
              "          element.innerHTML = '';\n",
              "          dataTable['output_type'] = 'display_data';\n",
              "          await google.colab.output.renderOutput(dataTable, element);\n",
              "          const docLink = document.createElement('div');\n",
              "          docLink.innerHTML = docLinkHtml;\n",
              "          element.appendChild(docLink);\n",
              "        }\n",
              "      </script>\n",
              "    </div>\n",
              "  </div>\n",
              "  "
            ]
          },
          "metadata": {},
          "execution_count": 106
        }
      ]
    },
    {
      "cell_type": "code",
      "source": [
        "# finding column with max standard deviation \n",
        "\n",
        "std = dataframe.std(axis = 0)\n",
        "print(std)\n",
        "data = dict(std)\n",
        "\n",
        "key_max = max(zip(data.values(), data.keys()))[1]  \n",
        "print(\"Column with highest STD. DEVIATION:\", key_max)\n"
      ],
      "metadata": {
        "colab": {
          "base_uri": "https://localhost:8080/"
        },
        "id": "wiKg47NFY351",
        "outputId": "b28556df-9a03-4734-89b3-5329bdc1d3ce"
      },
      "execution_count": 114,
      "outputs": [
        {
          "output_type": "stream",
          "name": "stdout",
          "text": [
            "A    0.324068\n",
            "B    0.339258\n",
            "C    0.322869\n",
            "D    0.286914\n",
            "E    0.293421\n",
            "dtype: float64\n",
            "Column with highest STD. DEVIATION: B\n"
          ]
        }
      ]
    },
    {
      "cell_type": "code",
      "source": [
        "# finding column with lowest mean\n",
        "\n",
        "mean = dataframe.mean(axis = 0)\n",
        "print(mean)\n",
        "data = dict(mean)\n",
        "\n",
        "key_max = min(zip(data.values(), data.keys()))[1]  \n",
        "print(\"Column with lowest MEAN:\", key_max)"
      ],
      "metadata": {
        "colab": {
          "base_uri": "https://localhost:8080/"
        },
        "id": "Wyxnc45sauEy",
        "outputId": "d5bb4bbf-939f-4d1b-da3b-758f8b8fcbf2"
      },
      "execution_count": 116,
      "outputs": [
        {
          "output_type": "stream",
          "name": "stdout",
          "text": [
            "A    1.581779\n",
            "B    1.470990\n",
            "C    1.544051\n",
            "D    1.493878\n",
            "E    1.368469\n",
            "dtype: float64\n",
            "Column with lowest MEAN: E\n"
          ]
        }
      ]
    },
    {
      "cell_type": "markdown",
      "source": [
        "# Question 11\n",
        "\n",
        "Add a new column to the dataframe called “f” which is the sum of the columns “a”, “b”, “c”, “d”, “e”. Create another column called “g”. The value in the column “g” should be “LT8” if the value in the column “f” is less than 8 and “GT8” otherwise. Find the number of rows in the dataframe where the value in the column “g” is “LT8”. Find the standard deviation of the column “f” for the rows where the value in the column “g” is “LT8” and “GT8” respectively.\n",
        "\n"
      ],
      "metadata": {
        "id": "kTjKRcvYbGai"
      }
    },
    {
      "cell_type": "code",
      "source": [
        "dataframe['f'] = dataframe.sum(axis = 1)\n",
        "dataframe"
      ],
      "metadata": {
        "colab": {
          "base_uri": "https://localhost:8080/",
          "height": 676
        },
        "id": "0BrBEqd2bPcL",
        "outputId": "80ffa71f-94a1-4e6c-b69a-6ea8db141acd"
      },
      "execution_count": 117,
      "outputs": [
        {
          "output_type": "execute_result",
          "data": {
            "text/plain": [
              "           A         B         C         D         E         f\n",
              "0   1.380599  1.138684  1.741840  1.366421  1.339370  6.966913\n",
              "1   1.330099  1.860176  1.469916  1.663018  1.338852  7.662062\n",
              "2   1.817496  1.925647  1.775199  1.331459  1.971588  8.821387\n",
              "3   1.997535  1.768835  1.004773  1.291516  1.070399  7.133058\n",
              "4   1.394648  1.356946  1.399347  1.871427  1.243133  7.265502\n",
              "5   1.069985  1.128378  1.056601  1.092226  1.089623  5.436813\n",
              "6   1.842297  1.145931  1.852445  1.310066  1.107026  7.257766\n",
              "7   1.938172  1.745530  1.459392  1.323893  1.096688  7.563675\n",
              "8   1.995106  1.692695  1.905443  1.112874  1.704611  8.410728\n",
              "9   1.653392  1.234239  1.956143  1.452338  1.508790  7.804901\n",
              "10  1.350966  1.045006  1.984597  1.230687  1.217572  6.828828\n",
              "11  1.381077  1.371410  1.529398  1.550516  1.746928  7.579329\n",
              "12  1.986116  1.143686  1.147828  1.450267  1.150986  6.878884\n",
              "13  1.568567  1.827076  1.433994  1.945929  1.216151  7.991716\n",
              "14  1.807095  1.786363  1.962013  1.964457  1.176415  8.696344\n",
              "15  1.825707  1.082823  1.672687  1.096935  1.746396  7.424548\n",
              "16  1.058002  1.911085  1.441983  1.435496  1.092773  6.939340\n",
              "17  1.130109  1.877176  1.167151  1.823011  1.422395  7.419841\n",
              "18  1.282269  1.089583  1.783666  1.816806  1.217799  7.190123\n",
              "19  1.826338  1.288523  1.136612  1.748219  1.911887  7.911578"
            ],
            "text/html": [
              "\n",
              "  <div id=\"df-8813bae3-3c12-4e91-8cf4-2f4da71377eb\">\n",
              "    <div class=\"colab-df-container\">\n",
              "      <div>\n",
              "<style scoped>\n",
              "    .dataframe tbody tr th:only-of-type {\n",
              "        vertical-align: middle;\n",
              "    }\n",
              "\n",
              "    .dataframe tbody tr th {\n",
              "        vertical-align: top;\n",
              "    }\n",
              "\n",
              "    .dataframe thead th {\n",
              "        text-align: right;\n",
              "    }\n",
              "</style>\n",
              "<table border=\"1\" class=\"dataframe\">\n",
              "  <thead>\n",
              "    <tr style=\"text-align: right;\">\n",
              "      <th></th>\n",
              "      <th>A</th>\n",
              "      <th>B</th>\n",
              "      <th>C</th>\n",
              "      <th>D</th>\n",
              "      <th>E</th>\n",
              "      <th>f</th>\n",
              "    </tr>\n",
              "  </thead>\n",
              "  <tbody>\n",
              "    <tr>\n",
              "      <th>0</th>\n",
              "      <td>1.380599</td>\n",
              "      <td>1.138684</td>\n",
              "      <td>1.741840</td>\n",
              "      <td>1.366421</td>\n",
              "      <td>1.339370</td>\n",
              "      <td>6.966913</td>\n",
              "    </tr>\n",
              "    <tr>\n",
              "      <th>1</th>\n",
              "      <td>1.330099</td>\n",
              "      <td>1.860176</td>\n",
              "      <td>1.469916</td>\n",
              "      <td>1.663018</td>\n",
              "      <td>1.338852</td>\n",
              "      <td>7.662062</td>\n",
              "    </tr>\n",
              "    <tr>\n",
              "      <th>2</th>\n",
              "      <td>1.817496</td>\n",
              "      <td>1.925647</td>\n",
              "      <td>1.775199</td>\n",
              "      <td>1.331459</td>\n",
              "      <td>1.971588</td>\n",
              "      <td>8.821387</td>\n",
              "    </tr>\n",
              "    <tr>\n",
              "      <th>3</th>\n",
              "      <td>1.997535</td>\n",
              "      <td>1.768835</td>\n",
              "      <td>1.004773</td>\n",
              "      <td>1.291516</td>\n",
              "      <td>1.070399</td>\n",
              "      <td>7.133058</td>\n",
              "    </tr>\n",
              "    <tr>\n",
              "      <th>4</th>\n",
              "      <td>1.394648</td>\n",
              "      <td>1.356946</td>\n",
              "      <td>1.399347</td>\n",
              "      <td>1.871427</td>\n",
              "      <td>1.243133</td>\n",
              "      <td>7.265502</td>\n",
              "    </tr>\n",
              "    <tr>\n",
              "      <th>5</th>\n",
              "      <td>1.069985</td>\n",
              "      <td>1.128378</td>\n",
              "      <td>1.056601</td>\n",
              "      <td>1.092226</td>\n",
              "      <td>1.089623</td>\n",
              "      <td>5.436813</td>\n",
              "    </tr>\n",
              "    <tr>\n",
              "      <th>6</th>\n",
              "      <td>1.842297</td>\n",
              "      <td>1.145931</td>\n",
              "      <td>1.852445</td>\n",
              "      <td>1.310066</td>\n",
              "      <td>1.107026</td>\n",
              "      <td>7.257766</td>\n",
              "    </tr>\n",
              "    <tr>\n",
              "      <th>7</th>\n",
              "      <td>1.938172</td>\n",
              "      <td>1.745530</td>\n",
              "      <td>1.459392</td>\n",
              "      <td>1.323893</td>\n",
              "      <td>1.096688</td>\n",
              "      <td>7.563675</td>\n",
              "    </tr>\n",
              "    <tr>\n",
              "      <th>8</th>\n",
              "      <td>1.995106</td>\n",
              "      <td>1.692695</td>\n",
              "      <td>1.905443</td>\n",
              "      <td>1.112874</td>\n",
              "      <td>1.704611</td>\n",
              "      <td>8.410728</td>\n",
              "    </tr>\n",
              "    <tr>\n",
              "      <th>9</th>\n",
              "      <td>1.653392</td>\n",
              "      <td>1.234239</td>\n",
              "      <td>1.956143</td>\n",
              "      <td>1.452338</td>\n",
              "      <td>1.508790</td>\n",
              "      <td>7.804901</td>\n",
              "    </tr>\n",
              "    <tr>\n",
              "      <th>10</th>\n",
              "      <td>1.350966</td>\n",
              "      <td>1.045006</td>\n",
              "      <td>1.984597</td>\n",
              "      <td>1.230687</td>\n",
              "      <td>1.217572</td>\n",
              "      <td>6.828828</td>\n",
              "    </tr>\n",
              "    <tr>\n",
              "      <th>11</th>\n",
              "      <td>1.381077</td>\n",
              "      <td>1.371410</td>\n",
              "      <td>1.529398</td>\n",
              "      <td>1.550516</td>\n",
              "      <td>1.746928</td>\n",
              "      <td>7.579329</td>\n",
              "    </tr>\n",
              "    <tr>\n",
              "      <th>12</th>\n",
              "      <td>1.986116</td>\n",
              "      <td>1.143686</td>\n",
              "      <td>1.147828</td>\n",
              "      <td>1.450267</td>\n",
              "      <td>1.150986</td>\n",
              "      <td>6.878884</td>\n",
              "    </tr>\n",
              "    <tr>\n",
              "      <th>13</th>\n",
              "      <td>1.568567</td>\n",
              "      <td>1.827076</td>\n",
              "      <td>1.433994</td>\n",
              "      <td>1.945929</td>\n",
              "      <td>1.216151</td>\n",
              "      <td>7.991716</td>\n",
              "    </tr>\n",
              "    <tr>\n",
              "      <th>14</th>\n",
              "      <td>1.807095</td>\n",
              "      <td>1.786363</td>\n",
              "      <td>1.962013</td>\n",
              "      <td>1.964457</td>\n",
              "      <td>1.176415</td>\n",
              "      <td>8.696344</td>\n",
              "    </tr>\n",
              "    <tr>\n",
              "      <th>15</th>\n",
              "      <td>1.825707</td>\n",
              "      <td>1.082823</td>\n",
              "      <td>1.672687</td>\n",
              "      <td>1.096935</td>\n",
              "      <td>1.746396</td>\n",
              "      <td>7.424548</td>\n",
              "    </tr>\n",
              "    <tr>\n",
              "      <th>16</th>\n",
              "      <td>1.058002</td>\n",
              "      <td>1.911085</td>\n",
              "      <td>1.441983</td>\n",
              "      <td>1.435496</td>\n",
              "      <td>1.092773</td>\n",
              "      <td>6.939340</td>\n",
              "    </tr>\n",
              "    <tr>\n",
              "      <th>17</th>\n",
              "      <td>1.130109</td>\n",
              "      <td>1.877176</td>\n",
              "      <td>1.167151</td>\n",
              "      <td>1.823011</td>\n",
              "      <td>1.422395</td>\n",
              "      <td>7.419841</td>\n",
              "    </tr>\n",
              "    <tr>\n",
              "      <th>18</th>\n",
              "      <td>1.282269</td>\n",
              "      <td>1.089583</td>\n",
              "      <td>1.783666</td>\n",
              "      <td>1.816806</td>\n",
              "      <td>1.217799</td>\n",
              "      <td>7.190123</td>\n",
              "    </tr>\n",
              "    <tr>\n",
              "      <th>19</th>\n",
              "      <td>1.826338</td>\n",
              "      <td>1.288523</td>\n",
              "      <td>1.136612</td>\n",
              "      <td>1.748219</td>\n",
              "      <td>1.911887</td>\n",
              "      <td>7.911578</td>\n",
              "    </tr>\n",
              "  </tbody>\n",
              "</table>\n",
              "</div>\n",
              "      <button class=\"colab-df-convert\" onclick=\"convertToInteractive('df-8813bae3-3c12-4e91-8cf4-2f4da71377eb')\"\n",
              "              title=\"Convert this dataframe to an interactive table.\"\n",
              "              style=\"display:none;\">\n",
              "        \n",
              "  <svg xmlns=\"http://www.w3.org/2000/svg\" height=\"24px\"viewBox=\"0 0 24 24\"\n",
              "       width=\"24px\">\n",
              "    <path d=\"M0 0h24v24H0V0z\" fill=\"none\"/>\n",
              "    <path d=\"M18.56 5.44l.94 2.06.94-2.06 2.06-.94-2.06-.94-.94-2.06-.94 2.06-2.06.94zm-11 1L8.5 8.5l.94-2.06 2.06-.94-2.06-.94L8.5 2.5l-.94 2.06-2.06.94zm10 10l.94 2.06.94-2.06 2.06-.94-2.06-.94-.94-2.06-.94 2.06-2.06.94z\"/><path d=\"M17.41 7.96l-1.37-1.37c-.4-.4-.92-.59-1.43-.59-.52 0-1.04.2-1.43.59L10.3 9.45l-7.72 7.72c-.78.78-.78 2.05 0 2.83L4 21.41c.39.39.9.59 1.41.59.51 0 1.02-.2 1.41-.59l7.78-7.78 2.81-2.81c.8-.78.8-2.07 0-2.86zM5.41 20L4 18.59l7.72-7.72 1.47 1.35L5.41 20z\"/>\n",
              "  </svg>\n",
              "      </button>\n",
              "      \n",
              "  <style>\n",
              "    .colab-df-container {\n",
              "      display:flex;\n",
              "      flex-wrap:wrap;\n",
              "      gap: 12px;\n",
              "    }\n",
              "\n",
              "    .colab-df-convert {\n",
              "      background-color: #E8F0FE;\n",
              "      border: none;\n",
              "      border-radius: 50%;\n",
              "      cursor: pointer;\n",
              "      display: none;\n",
              "      fill: #1967D2;\n",
              "      height: 32px;\n",
              "      padding: 0 0 0 0;\n",
              "      width: 32px;\n",
              "    }\n",
              "\n",
              "    .colab-df-convert:hover {\n",
              "      background-color: #E2EBFA;\n",
              "      box-shadow: 0px 1px 2px rgba(60, 64, 67, 0.3), 0px 1px 3px 1px rgba(60, 64, 67, 0.15);\n",
              "      fill: #174EA6;\n",
              "    }\n",
              "\n",
              "    [theme=dark] .colab-df-convert {\n",
              "      background-color: #3B4455;\n",
              "      fill: #D2E3FC;\n",
              "    }\n",
              "\n",
              "    [theme=dark] .colab-df-convert:hover {\n",
              "      background-color: #434B5C;\n",
              "      box-shadow: 0px 1px 3px 1px rgba(0, 0, 0, 0.15);\n",
              "      filter: drop-shadow(0px 1px 2px rgba(0, 0, 0, 0.3));\n",
              "      fill: #FFFFFF;\n",
              "    }\n",
              "  </style>\n",
              "\n",
              "      <script>\n",
              "        const buttonEl =\n",
              "          document.querySelector('#df-8813bae3-3c12-4e91-8cf4-2f4da71377eb button.colab-df-convert');\n",
              "        buttonEl.style.display =\n",
              "          google.colab.kernel.accessAllowed ? 'block' : 'none';\n",
              "\n",
              "        async function convertToInteractive(key) {\n",
              "          const element = document.querySelector('#df-8813bae3-3c12-4e91-8cf4-2f4da71377eb');\n",
              "          const dataTable =\n",
              "            await google.colab.kernel.invokeFunction('convertToInteractive',\n",
              "                                                     [key], {});\n",
              "          if (!dataTable) return;\n",
              "\n",
              "          const docLinkHtml = 'Like what you see? Visit the ' +\n",
              "            '<a target=\"_blank\" href=https://colab.research.google.com/notebooks/data_table.ipynb>data table notebook</a>'\n",
              "            + ' to learn more about interactive tables.';\n",
              "          element.innerHTML = '';\n",
              "          dataTable['output_type'] = 'display_data';\n",
              "          await google.colab.output.renderOutput(dataTable, element);\n",
              "          const docLink = document.createElement('div');\n",
              "          docLink.innerHTML = docLinkHtml;\n",
              "          element.appendChild(docLink);\n",
              "        }\n",
              "      </script>\n",
              "    </div>\n",
              "  </div>\n",
              "  "
            ]
          },
          "metadata": {},
          "execution_count": 117
        }
      ]
    },
    {
      "cell_type": "code",
      "source": [
        "dataframe['g']=dataframe.apply(lambda row:'LT8' if row.f <8 else 'GT8',axis=1)\n",
        "dataframe"
      ],
      "metadata": {
        "colab": {
          "base_uri": "https://localhost:8080/",
          "height": 676
        },
        "id": "pZI6G6mIbPWa",
        "outputId": "d4c25b93-d990-430a-b941-e4e9df3dde5b"
      },
      "execution_count": 118,
      "outputs": [
        {
          "output_type": "execute_result",
          "data": {
            "text/plain": [
              "           A         B         C         D         E         f    g\n",
              "0   1.380599  1.138684  1.741840  1.366421  1.339370  6.966913  LT8\n",
              "1   1.330099  1.860176  1.469916  1.663018  1.338852  7.662062  LT8\n",
              "2   1.817496  1.925647  1.775199  1.331459  1.971588  8.821387  GT8\n",
              "3   1.997535  1.768835  1.004773  1.291516  1.070399  7.133058  LT8\n",
              "4   1.394648  1.356946  1.399347  1.871427  1.243133  7.265502  LT8\n",
              "5   1.069985  1.128378  1.056601  1.092226  1.089623  5.436813  LT8\n",
              "6   1.842297  1.145931  1.852445  1.310066  1.107026  7.257766  LT8\n",
              "7   1.938172  1.745530  1.459392  1.323893  1.096688  7.563675  LT8\n",
              "8   1.995106  1.692695  1.905443  1.112874  1.704611  8.410728  GT8\n",
              "9   1.653392  1.234239  1.956143  1.452338  1.508790  7.804901  LT8\n",
              "10  1.350966  1.045006  1.984597  1.230687  1.217572  6.828828  LT8\n",
              "11  1.381077  1.371410  1.529398  1.550516  1.746928  7.579329  LT8\n",
              "12  1.986116  1.143686  1.147828  1.450267  1.150986  6.878884  LT8\n",
              "13  1.568567  1.827076  1.433994  1.945929  1.216151  7.991716  LT8\n",
              "14  1.807095  1.786363  1.962013  1.964457  1.176415  8.696344  GT8\n",
              "15  1.825707  1.082823  1.672687  1.096935  1.746396  7.424548  LT8\n",
              "16  1.058002  1.911085  1.441983  1.435496  1.092773  6.939340  LT8\n",
              "17  1.130109  1.877176  1.167151  1.823011  1.422395  7.419841  LT8\n",
              "18  1.282269  1.089583  1.783666  1.816806  1.217799  7.190123  LT8\n",
              "19  1.826338  1.288523  1.136612  1.748219  1.911887  7.911578  LT8"
            ],
            "text/html": [
              "\n",
              "  <div id=\"df-05036080-9d2c-4da4-a56f-cac70b3648e7\">\n",
              "    <div class=\"colab-df-container\">\n",
              "      <div>\n",
              "<style scoped>\n",
              "    .dataframe tbody tr th:only-of-type {\n",
              "        vertical-align: middle;\n",
              "    }\n",
              "\n",
              "    .dataframe tbody tr th {\n",
              "        vertical-align: top;\n",
              "    }\n",
              "\n",
              "    .dataframe thead th {\n",
              "        text-align: right;\n",
              "    }\n",
              "</style>\n",
              "<table border=\"1\" class=\"dataframe\">\n",
              "  <thead>\n",
              "    <tr style=\"text-align: right;\">\n",
              "      <th></th>\n",
              "      <th>A</th>\n",
              "      <th>B</th>\n",
              "      <th>C</th>\n",
              "      <th>D</th>\n",
              "      <th>E</th>\n",
              "      <th>f</th>\n",
              "      <th>g</th>\n",
              "    </tr>\n",
              "  </thead>\n",
              "  <tbody>\n",
              "    <tr>\n",
              "      <th>0</th>\n",
              "      <td>1.380599</td>\n",
              "      <td>1.138684</td>\n",
              "      <td>1.741840</td>\n",
              "      <td>1.366421</td>\n",
              "      <td>1.339370</td>\n",
              "      <td>6.966913</td>\n",
              "      <td>LT8</td>\n",
              "    </tr>\n",
              "    <tr>\n",
              "      <th>1</th>\n",
              "      <td>1.330099</td>\n",
              "      <td>1.860176</td>\n",
              "      <td>1.469916</td>\n",
              "      <td>1.663018</td>\n",
              "      <td>1.338852</td>\n",
              "      <td>7.662062</td>\n",
              "      <td>LT8</td>\n",
              "    </tr>\n",
              "    <tr>\n",
              "      <th>2</th>\n",
              "      <td>1.817496</td>\n",
              "      <td>1.925647</td>\n",
              "      <td>1.775199</td>\n",
              "      <td>1.331459</td>\n",
              "      <td>1.971588</td>\n",
              "      <td>8.821387</td>\n",
              "      <td>GT8</td>\n",
              "    </tr>\n",
              "    <tr>\n",
              "      <th>3</th>\n",
              "      <td>1.997535</td>\n",
              "      <td>1.768835</td>\n",
              "      <td>1.004773</td>\n",
              "      <td>1.291516</td>\n",
              "      <td>1.070399</td>\n",
              "      <td>7.133058</td>\n",
              "      <td>LT8</td>\n",
              "    </tr>\n",
              "    <tr>\n",
              "      <th>4</th>\n",
              "      <td>1.394648</td>\n",
              "      <td>1.356946</td>\n",
              "      <td>1.399347</td>\n",
              "      <td>1.871427</td>\n",
              "      <td>1.243133</td>\n",
              "      <td>7.265502</td>\n",
              "      <td>LT8</td>\n",
              "    </tr>\n",
              "    <tr>\n",
              "      <th>5</th>\n",
              "      <td>1.069985</td>\n",
              "      <td>1.128378</td>\n",
              "      <td>1.056601</td>\n",
              "      <td>1.092226</td>\n",
              "      <td>1.089623</td>\n",
              "      <td>5.436813</td>\n",
              "      <td>LT8</td>\n",
              "    </tr>\n",
              "    <tr>\n",
              "      <th>6</th>\n",
              "      <td>1.842297</td>\n",
              "      <td>1.145931</td>\n",
              "      <td>1.852445</td>\n",
              "      <td>1.310066</td>\n",
              "      <td>1.107026</td>\n",
              "      <td>7.257766</td>\n",
              "      <td>LT8</td>\n",
              "    </tr>\n",
              "    <tr>\n",
              "      <th>7</th>\n",
              "      <td>1.938172</td>\n",
              "      <td>1.745530</td>\n",
              "      <td>1.459392</td>\n",
              "      <td>1.323893</td>\n",
              "      <td>1.096688</td>\n",
              "      <td>7.563675</td>\n",
              "      <td>LT8</td>\n",
              "    </tr>\n",
              "    <tr>\n",
              "      <th>8</th>\n",
              "      <td>1.995106</td>\n",
              "      <td>1.692695</td>\n",
              "      <td>1.905443</td>\n",
              "      <td>1.112874</td>\n",
              "      <td>1.704611</td>\n",
              "      <td>8.410728</td>\n",
              "      <td>GT8</td>\n",
              "    </tr>\n",
              "    <tr>\n",
              "      <th>9</th>\n",
              "      <td>1.653392</td>\n",
              "      <td>1.234239</td>\n",
              "      <td>1.956143</td>\n",
              "      <td>1.452338</td>\n",
              "      <td>1.508790</td>\n",
              "      <td>7.804901</td>\n",
              "      <td>LT8</td>\n",
              "    </tr>\n",
              "    <tr>\n",
              "      <th>10</th>\n",
              "      <td>1.350966</td>\n",
              "      <td>1.045006</td>\n",
              "      <td>1.984597</td>\n",
              "      <td>1.230687</td>\n",
              "      <td>1.217572</td>\n",
              "      <td>6.828828</td>\n",
              "      <td>LT8</td>\n",
              "    </tr>\n",
              "    <tr>\n",
              "      <th>11</th>\n",
              "      <td>1.381077</td>\n",
              "      <td>1.371410</td>\n",
              "      <td>1.529398</td>\n",
              "      <td>1.550516</td>\n",
              "      <td>1.746928</td>\n",
              "      <td>7.579329</td>\n",
              "      <td>LT8</td>\n",
              "    </tr>\n",
              "    <tr>\n",
              "      <th>12</th>\n",
              "      <td>1.986116</td>\n",
              "      <td>1.143686</td>\n",
              "      <td>1.147828</td>\n",
              "      <td>1.450267</td>\n",
              "      <td>1.150986</td>\n",
              "      <td>6.878884</td>\n",
              "      <td>LT8</td>\n",
              "    </tr>\n",
              "    <tr>\n",
              "      <th>13</th>\n",
              "      <td>1.568567</td>\n",
              "      <td>1.827076</td>\n",
              "      <td>1.433994</td>\n",
              "      <td>1.945929</td>\n",
              "      <td>1.216151</td>\n",
              "      <td>7.991716</td>\n",
              "      <td>LT8</td>\n",
              "    </tr>\n",
              "    <tr>\n",
              "      <th>14</th>\n",
              "      <td>1.807095</td>\n",
              "      <td>1.786363</td>\n",
              "      <td>1.962013</td>\n",
              "      <td>1.964457</td>\n",
              "      <td>1.176415</td>\n",
              "      <td>8.696344</td>\n",
              "      <td>GT8</td>\n",
              "    </tr>\n",
              "    <tr>\n",
              "      <th>15</th>\n",
              "      <td>1.825707</td>\n",
              "      <td>1.082823</td>\n",
              "      <td>1.672687</td>\n",
              "      <td>1.096935</td>\n",
              "      <td>1.746396</td>\n",
              "      <td>7.424548</td>\n",
              "      <td>LT8</td>\n",
              "    </tr>\n",
              "    <tr>\n",
              "      <th>16</th>\n",
              "      <td>1.058002</td>\n",
              "      <td>1.911085</td>\n",
              "      <td>1.441983</td>\n",
              "      <td>1.435496</td>\n",
              "      <td>1.092773</td>\n",
              "      <td>6.939340</td>\n",
              "      <td>LT8</td>\n",
              "    </tr>\n",
              "    <tr>\n",
              "      <th>17</th>\n",
              "      <td>1.130109</td>\n",
              "      <td>1.877176</td>\n",
              "      <td>1.167151</td>\n",
              "      <td>1.823011</td>\n",
              "      <td>1.422395</td>\n",
              "      <td>7.419841</td>\n",
              "      <td>LT8</td>\n",
              "    </tr>\n",
              "    <tr>\n",
              "      <th>18</th>\n",
              "      <td>1.282269</td>\n",
              "      <td>1.089583</td>\n",
              "      <td>1.783666</td>\n",
              "      <td>1.816806</td>\n",
              "      <td>1.217799</td>\n",
              "      <td>7.190123</td>\n",
              "      <td>LT8</td>\n",
              "    </tr>\n",
              "    <tr>\n",
              "      <th>19</th>\n",
              "      <td>1.826338</td>\n",
              "      <td>1.288523</td>\n",
              "      <td>1.136612</td>\n",
              "      <td>1.748219</td>\n",
              "      <td>1.911887</td>\n",
              "      <td>7.911578</td>\n",
              "      <td>LT8</td>\n",
              "    </tr>\n",
              "  </tbody>\n",
              "</table>\n",
              "</div>\n",
              "      <button class=\"colab-df-convert\" onclick=\"convertToInteractive('df-05036080-9d2c-4da4-a56f-cac70b3648e7')\"\n",
              "              title=\"Convert this dataframe to an interactive table.\"\n",
              "              style=\"display:none;\">\n",
              "        \n",
              "  <svg xmlns=\"http://www.w3.org/2000/svg\" height=\"24px\"viewBox=\"0 0 24 24\"\n",
              "       width=\"24px\">\n",
              "    <path d=\"M0 0h24v24H0V0z\" fill=\"none\"/>\n",
              "    <path d=\"M18.56 5.44l.94 2.06.94-2.06 2.06-.94-2.06-.94-.94-2.06-.94 2.06-2.06.94zm-11 1L8.5 8.5l.94-2.06 2.06-.94-2.06-.94L8.5 2.5l-.94 2.06-2.06.94zm10 10l.94 2.06.94-2.06 2.06-.94-2.06-.94-.94-2.06-.94 2.06-2.06.94z\"/><path d=\"M17.41 7.96l-1.37-1.37c-.4-.4-.92-.59-1.43-.59-.52 0-1.04.2-1.43.59L10.3 9.45l-7.72 7.72c-.78.78-.78 2.05 0 2.83L4 21.41c.39.39.9.59 1.41.59.51 0 1.02-.2 1.41-.59l7.78-7.78 2.81-2.81c.8-.78.8-2.07 0-2.86zM5.41 20L4 18.59l7.72-7.72 1.47 1.35L5.41 20z\"/>\n",
              "  </svg>\n",
              "      </button>\n",
              "      \n",
              "  <style>\n",
              "    .colab-df-container {\n",
              "      display:flex;\n",
              "      flex-wrap:wrap;\n",
              "      gap: 12px;\n",
              "    }\n",
              "\n",
              "    .colab-df-convert {\n",
              "      background-color: #E8F0FE;\n",
              "      border: none;\n",
              "      border-radius: 50%;\n",
              "      cursor: pointer;\n",
              "      display: none;\n",
              "      fill: #1967D2;\n",
              "      height: 32px;\n",
              "      padding: 0 0 0 0;\n",
              "      width: 32px;\n",
              "    }\n",
              "\n",
              "    .colab-df-convert:hover {\n",
              "      background-color: #E2EBFA;\n",
              "      box-shadow: 0px 1px 2px rgba(60, 64, 67, 0.3), 0px 1px 3px 1px rgba(60, 64, 67, 0.15);\n",
              "      fill: #174EA6;\n",
              "    }\n",
              "\n",
              "    [theme=dark] .colab-df-convert {\n",
              "      background-color: #3B4455;\n",
              "      fill: #D2E3FC;\n",
              "    }\n",
              "\n",
              "    [theme=dark] .colab-df-convert:hover {\n",
              "      background-color: #434B5C;\n",
              "      box-shadow: 0px 1px 3px 1px rgba(0, 0, 0, 0.15);\n",
              "      filter: drop-shadow(0px 1px 2px rgba(0, 0, 0, 0.3));\n",
              "      fill: #FFFFFF;\n",
              "    }\n",
              "  </style>\n",
              "\n",
              "      <script>\n",
              "        const buttonEl =\n",
              "          document.querySelector('#df-05036080-9d2c-4da4-a56f-cac70b3648e7 button.colab-df-convert');\n",
              "        buttonEl.style.display =\n",
              "          google.colab.kernel.accessAllowed ? 'block' : 'none';\n",
              "\n",
              "        async function convertToInteractive(key) {\n",
              "          const element = document.querySelector('#df-05036080-9d2c-4da4-a56f-cac70b3648e7');\n",
              "          const dataTable =\n",
              "            await google.colab.kernel.invokeFunction('convertToInteractive',\n",
              "                                                     [key], {});\n",
              "          if (!dataTable) return;\n",
              "\n",
              "          const docLinkHtml = 'Like what you see? Visit the ' +\n",
              "            '<a target=\"_blank\" href=https://colab.research.google.com/notebooks/data_table.ipynb>data table notebook</a>'\n",
              "            + ' to learn more about interactive tables.';\n",
              "          element.innerHTML = '';\n",
              "          dataTable['output_type'] = 'display_data';\n",
              "          await google.colab.output.renderOutput(dataTable, element);\n",
              "          const docLink = document.createElement('div');\n",
              "          docLink.innerHTML = docLinkHtml;\n",
              "          element.appendChild(docLink);\n",
              "        }\n",
              "      </script>\n",
              "    </div>\n",
              "  </div>\n",
              "  "
            ]
          },
          "metadata": {},
          "execution_count": 118
        }
      ]
    },
    {
      "cell_type": "code",
      "source": [
        "#  Find the number of rows in the dataframe where the value in the column “g” is “LT8”.\n",
        "\n",
        "dataframe['g'].value_counts()['LT8']\n"
      ],
      "metadata": {
        "colab": {
          "base_uri": "https://localhost:8080/"
        },
        "id": "N3hZ08PdbPR5",
        "outputId": "d7027114-7558-4859-f379-5acc2b246960"
      },
      "execution_count": 119,
      "outputs": [
        {
          "output_type": "execute_result",
          "data": {
            "text/plain": [
              "17"
            ]
          },
          "metadata": {},
          "execution_count": 119
        }
      ]
    },
    {
      "cell_type": "code",
      "source": [
        "# Find the standard deviation of the column “f” for the rows where the value in the\n",
        "# column “g” is “LT8” and “GT8” respectively.\n",
        "lessthan8=dataframe.apply(lambda row:row.f if row.f <8 else None,axis=1)\n",
        "greaterthan8=dataframe.apply(lambda row:row.f if row.f >=8 else None,axis=1)\n",
        "print(\"STD. Dev of less than 8: \",lessthan8.std())\n",
        "print(\"STD. Dev of greater than 8: \",greaterthan8.std())\n",
        "\n"
      ],
      "metadata": {
        "colab": {
          "base_uri": "https://localhost:8080/"
        },
        "id": "-7UE3wkibPNF",
        "outputId": "d645499c-efe6-4abb-8528-ac825963a2c4"
      },
      "execution_count": 120,
      "outputs": [
        {
          "output_type": "stream",
          "name": "stdout",
          "text": [
            "STD. Dev of less than 8:  0.58782818559864\n",
            "STD. Dev of greater than 8:  0.2104965536906476\n"
          ]
        }
      ]
    },
    {
      "cell_type": "markdown",
      "source": [
        "# Question 12\n",
        "\n",
        "Write a small piece of code to explain broadcasting in numpy."
      ],
      "metadata": {
        "id": "mthONFpdcwS6"
      }
    },
    {
      "cell_type": "markdown",
      "source": [
        " Broadcasting provides a means of vectorizing array operations so that looping occurs in C instead of Python. \n",
        "\n",
        "> NOTE: cases where broadcasting is a bad idea because it leads to inefficient use of memory that slows computation.\n",
        "\n"
      ],
      "metadata": {
        "id": "9eUuT8j8dzjn"
      }
    },
    {
      "cell_type": "code",
      "source": [
        "arr = np.random.rand(3)\n",
        "print(arr)\n",
        "arr*4"
      ],
      "metadata": {
        "colab": {
          "base_uri": "https://localhost:8080/"
        },
        "id": "rUzU022NeGj_",
        "outputId": "4ce4f183-436b-44db-a1b6-f6b485f839e1"
      },
      "execution_count": 128,
      "outputs": [
        {
          "output_type": "stream",
          "name": "stdout",
          "text": [
            "[0.03514906 0.6848145  0.04224925]\n"
          ]
        },
        {
          "output_type": "execute_result",
          "data": {
            "text/plain": [
              "array([0.14059626, 2.739258  , 0.16899699])"
            ]
          },
          "metadata": {},
          "execution_count": 128
        }
      ]
    },
    {
      "cell_type": "markdown",
      "source": [
        "In above example the dimenstion of array are 1-D.\\\n",
        "And this array is then multiplied with 0-D element \n",
        "\n",
        "thus the multiplication is broadcasted over the array"
      ],
      "metadata": {
        "id": "NzxdyzyreZw4"
      }
    },
    {
      "cell_type": "markdown",
      "source": [
        "> Two dimensions are compatible when\n",
        "\n",
        "- they are equal, or\n",
        "\n",
        "- one of them is 1."
      ],
      "metadata": {
        "id": "SCLIgODweGcK"
      }
    },
    {
      "cell_type": "code",
      "source": [
        "\n",
        "arr1 = np.random.rand(3,1)\n",
        "arr2 = np.random.rand(3)\n",
        "\n",
        "print(arr1)\n",
        "print(arr2)"
      ],
      "metadata": {
        "colab": {
          "base_uri": "https://localhost:8080/"
        },
        "id": "E6jXRxjNc2S0",
        "outputId": "01612023-725f-4fc0-9650-76c3ef0449ab"
      },
      "execution_count": 123,
      "outputs": [
        {
          "output_type": "stream",
          "name": "stdout",
          "text": [
            "[[0.80131353]\n",
            " [0.02907527]\n",
            " [0.07895003]]\n",
            "[0.63107578 0.34394815 0.31891167]\n"
          ]
        }
      ]
    },
    {
      "cell_type": "code",
      "source": [
        "arr1 + arr2"
      ],
      "metadata": {
        "colab": {
          "base_uri": "https://localhost:8080/"
        },
        "id": "lksrD0Q2dIaA",
        "outputId": "11b41d06-7ba0-4cd7-f617-8ec32170d7c9"
      },
      "execution_count": 124,
      "outputs": [
        {
          "output_type": "execute_result",
          "data": {
            "text/plain": [
              "array([[1.43238931, 1.14526167, 1.1202252 ],\n",
              "       [0.66015105, 0.37302341, 0.34798694],\n",
              "       [0.71002581, 0.42289818, 0.3978617 ]])"
            ]
          },
          "metadata": {},
          "execution_count": 124
        }
      ]
    },
    {
      "cell_type": "code",
      "source": [
        "arr1 = np.random.rand(3,2)\n",
        "arr2 = np.random.rand(3,1)\n",
        "\n",
        "print(arr1)\n",
        "print(arr2)\n",
        "\n",
        "arr1 + arr2"
      ],
      "metadata": {
        "colab": {
          "base_uri": "https://localhost:8080/"
        },
        "id": "eY2rjqUafCl7",
        "outputId": "61126e3d-8d45-4477-f98c-d9bc60ccff75"
      },
      "execution_count": 129,
      "outputs": [
        {
          "output_type": "stream",
          "name": "stdout",
          "text": [
            "[[0.46478456 0.24328423]\n",
            " [0.48509661 0.18143762]\n",
            " [0.48084018 0.68410407]]\n",
            "[[0.61107227]\n",
            " [0.24201863]\n",
            " [0.99118702]]\n"
          ]
        },
        {
          "output_type": "execute_result",
          "data": {
            "text/plain": [
              "array([[1.07585684, 0.8543565 ],\n",
              "       [0.72711524, 0.42345625],\n",
              "       [1.47202721, 1.67529109]])"
            ]
          },
          "metadata": {},
          "execution_count": 129
        }
      ]
    },
    {
      "cell_type": "markdown",
      "source": [
        "# Question 13\n",
        "\n",
        "```\n",
        "numpy.argmin(a, axis=None, out=None, *, keepdims=<no value>)\n",
        "```\n",
        "> Returns the indices of the minimum values along an axis.\n",
        "\n",
        "> Parameters:\n",
        "* `a` : array_like - Input array.\n",
        "* `axisint`, optional, By default, the index is into the flattened array, otherwise along the specified axis.\n",
        "* `outarray`, optional\n",
        "If provided, the result will be inserted into this array. It should be of the appropriate shape and dtype.\n",
        "* `keepdimsbool`, optional\n",
        "If this is set to True, the axes which are reduced are left in the result as dimensions with size one. With this option, the result will broadcast correctly against the array.\n",
        "\n",
        "> Returns:\n",
        "`index_arrayndarray of ints` :   \n",
        "Array of indices into the array. It has the same shape as a.shape with the dimension along axis removed. If keepdims is set to True, then the size of axis will be 1 with the resulting array having same shape as a.shape."
      ],
      "metadata": {
        "id": "D0mJqocaNJ6Q"
      }
    },
    {
      "cell_type": "code",
      "source": [
        "import numpy as np\n"
      ],
      "metadata": {
        "id": "IWh3VtYZQF11"
      },
      "execution_count": null,
      "outputs": []
    },
    {
      "cell_type": "code",
      "source": [
        "array = np.random.rand(4,3,2)"
      ],
      "metadata": {
        "id": "KvkiF2ZAQIPy"
      },
      "execution_count": null,
      "outputs": []
    },
    {
      "cell_type": "code",
      "source": [
        "array"
      ],
      "metadata": {
        "colab": {
          "base_uri": "https://localhost:8080/"
        },
        "id": "zVKuztN6QRCI",
        "outputId": "6033d699-acc3-4a41-8a3b-cb6f55e88805"
      },
      "execution_count": null,
      "outputs": [
        {
          "output_type": "execute_result",
          "data": {
            "text/plain": [
              "array([[[0.55180611, 0.65894246],\n",
              "        [0.9999544 , 0.67756872],\n",
              "        [0.36085683, 0.57342065]],\n",
              "\n",
              "       [[0.88265305, 0.07596755],\n",
              "        [0.15677069, 0.94567099],\n",
              "        [0.16430712, 0.49648281]],\n",
              "\n",
              "       [[0.42058488, 0.75694255],\n",
              "        [0.75265524, 0.6237761 ],\n",
              "        [0.15845625, 0.94593389]],\n",
              "\n",
              "       [[0.33198398, 0.50578581],\n",
              "        [0.32888747, 0.84232992],\n",
              "        [0.5696524 , 0.07986408]]])"
            ]
          },
          "metadata": {},
          "execution_count": 53
        }
      ]
    },
    {
      "cell_type": "code",
      "source": [
        "np.argmin(array)"
      ],
      "metadata": {
        "colab": {
          "base_uri": "https://localhost:8080/"
        },
        "id": "9DrS126MQWNp",
        "outputId": "3f097655-9fbb-4442-f9a8-5c38f05f6ace"
      },
      "execution_count": null,
      "outputs": [
        {
          "output_type": "execute_result",
          "data": {
            "text/plain": [
              "7"
            ]
          },
          "metadata": {},
          "execution_count": 54
        }
      ]
    },
    {
      "cell_type": "code",
      "source": [
        "np.argmin(array, axis = 0)"
      ],
      "metadata": {
        "colab": {
          "base_uri": "https://localhost:8080/"
        },
        "id": "aw92Ah0eQlYk",
        "outputId": "c941548c-39b8-4d94-f29e-cdda018a1742"
      },
      "execution_count": null,
      "outputs": [
        {
          "output_type": "execute_result",
          "data": {
            "text/plain": [
              "array([[3, 1],\n",
              "       [1, 2],\n",
              "       [2, 3]])"
            ]
          },
          "metadata": {},
          "execution_count": 55
        }
      ]
    },
    {
      "cell_type": "code",
      "source": [
        "np.argmin(array, axis = 1)"
      ],
      "metadata": {
        "colab": {
          "base_uri": "https://localhost:8080/"
        },
        "id": "RFlDPN6hoJcm",
        "outputId": "d2149076-f8a3-4d36-bf64-0c83f778fd6b"
      },
      "execution_count": null,
      "outputs": [
        {
          "output_type": "execute_result",
          "data": {
            "text/plain": [
              "array([[2, 2],\n",
              "       [1, 0],\n",
              "       [2, 1],\n",
              "       [1, 2]])"
            ]
          },
          "metadata": {},
          "execution_count": 56
        }
      ]
    },
    {
      "cell_type": "code",
      "source": [
        "array2 = np.random.rand(3,2)\n",
        "print(array2)\n",
        "np.argmin(array2)"
      ],
      "metadata": {
        "colab": {
          "base_uri": "https://localhost:8080/"
        },
        "id": "0VM5vHNep3ok",
        "outputId": "ce3f3d81-3980-4a18-e21d-3351a593d6a1"
      },
      "execution_count": null,
      "outputs": [
        {
          "output_type": "stream",
          "name": "stdout",
          "text": [
            "[[0.05354443 0.27423982]\n",
            " [0.31123175 0.45767917]\n",
            " [0.32379077 0.89646065]]\n"
          ]
        },
        {
          "output_type": "execute_result",
          "data": {
            "text/plain": [
              "0"
            ]
          },
          "metadata": {},
          "execution_count": 51
        }
      ]
    },
    {
      "cell_type": "code",
      "source": [
        "np.argmin(array2, axis = 0)"
      ],
      "metadata": {
        "colab": {
          "base_uri": "https://localhost:8080/"
        },
        "id": "blgQiHmYqCQO",
        "outputId": "a3aea56c-694d-4b27-b875-de3809f7cba2"
      },
      "execution_count": null,
      "outputs": [
        {
          "output_type": "execute_result",
          "data": {
            "text/plain": [
              "array([1, 1])"
            ]
          },
          "metadata": {},
          "execution_count": 36
        }
      ]
    },
    {
      "cell_type": "code",
      "source": [
        "np.argmin(array2, axis = 1)"
      ],
      "metadata": {
        "colab": {
          "base_uri": "https://localhost:8080/"
        },
        "id": "9UQVvD8dqCGD",
        "outputId": "1c99905f-c74e-4be9-df5d-b16fea3277fc"
      },
      "execution_count": null,
      "outputs": [
        {
          "output_type": "execute_result",
          "data": {
            "text/plain": [
              "array([0, 0, 0])"
            ]
          },
          "metadata": {},
          "execution_count": 37
        }
      ]
    },
    {
      "cell_type": "code",
      "source": [
        "def argmin(array, axis = None, out  = None ):\n",
        "  if axis == None:\n",
        "    ans = 0\n",
        "    flat = np.ravel(array)\n",
        "    minn = flat[0]\n",
        "    for i in range(1,len(flat)):\n",
        "      if flat[i] < minn:\n",
        "        minn = flat[i]\n",
        "        ans = i\n",
        "      if out == None:\n",
        "        return ans\n",
        "      else:\n",
        "        out = ans\n",
        "    \n",
        "  elif axis == 1: # row wise\n",
        "    ans = []\n",
        "    for sub_array in array:\n",
        "      # flat = np.ravel(array)\n",
        "      # ans.append(0)\n",
        "      # minn = flat[0]\n",
        "\n",
        "      # for i in range(1,len(flat)):\n",
        "      #   if flat[i] < minn:\n",
        "      #     minn = flat[i]\n",
        "      #     ans[-1] = i\n",
        "      # if out == None:\n",
        "      #   return ans\n",
        "      # else:\n",
        "      #   out = ans\n",
        "      if sub_array.ndim\n",
        "\n",
        "  else:\n",
        "    return None\n",
        "\n",
        "\n",
        "\n",
        "# Ravel is faster than flatten() as it does not occupy any memory.\n",
        "#\tFlatten() is comparatively slower than ravel() as it occupies memory."
      ],
      "metadata": {
        "id": "9F64hm3bSCwA"
      },
      "execution_count": 11,
      "outputs": []
    },
    {
      "cell_type": "code",
      "source": [
        "argmin(array)"
      ],
      "metadata": {
        "colab": {
          "base_uri": "https://localhost:8080/"
        },
        "id": "cU8omn46SvkD",
        "outputId": "2e8c8c7d-7fde-4b73-9905-dfe9130027ad"
      },
      "execution_count": null,
      "outputs": [
        {
          "output_type": "execute_result",
          "data": {
            "text/plain": [
              "0.32823336796947544"
            ]
          },
          "metadata": {},
          "execution_count": 27
        }
      ]
    },
    {
      "cell_type": "code",
      "source": [],
      "metadata": {
        "colab": {
          "base_uri": "https://localhost:8080/",
          "height": 172
        },
        "id": "116AxUH3hdYR",
        "outputId": "f61a6199-5acb-47d6-9cb5-a1d4ad6c57b8"
      },
      "execution_count": null,
      "outputs": [
        {
          "output_type": "error",
          "ename": "AttributeError",
          "evalue": "ignored",
          "traceback": [
            "\u001b[0;31m---------------------------------------------------------------------------\u001b[0m",
            "\u001b[0;31mAttributeError\u001b[0m                            Traceback (most recent call last)",
            "\u001b[0;32m<ipython-input-20-80a14fa5c192>\u001b[0m in \u001b[0;36m<module>\u001b[0;34m\u001b[0m\n\u001b[0;32m----> 1\u001b[0;31m \u001b[0marray\u001b[0m\u001b[0;34m.\u001b[0m\u001b[0mindex\u001b[0m\u001b[0;34m(\u001b[0m\u001b[0;34m)\u001b[0m\u001b[0;34m\u001b[0m\u001b[0;34m\u001b[0m\u001b[0m\n\u001b[0m",
            "\u001b[0;31mAttributeError\u001b[0m: 'numpy.ndarray' object has no attribute 'index'"
          ]
        }
      ]
    },
    {
      "cell_type": "code",
      "source": [],
      "metadata": {
        "id": "MS6paj82hjJc"
      },
      "execution_count": null,
      "outputs": []
    },
    {
      "cell_type": "code",
      "source": [],
      "metadata": {
        "id": "Go15EF3_hvIA"
      },
      "execution_count": null,
      "outputs": []
    },
    {
      "cell_type": "code",
      "source": [
        "np.source(np.argmin)"
      ],
      "metadata": {
        "colab": {
          "base_uri": "https://localhost:8080/",
          "height": 209
        },
        "id": "NAzGlO_GiVdN",
        "outputId": "bc3c5ae0-3060-4cb8-9f3d-f33d852f0b7f"
      },
      "execution_count": null,
      "outputs": [
        {
          "output_type": "error",
          "ename": "TypeError",
          "evalue": "ignored",
          "traceback": [
            "\u001b[0;31m---------------------------------------------------------------------------\u001b[0m",
            "\u001b[0;31mTypeError\u001b[0m                                 Traceback (most recent call last)",
            "\u001b[0;32m<ipython-input-39-e6b42a59c341>\u001b[0m in \u001b[0;36m<module>\u001b[0;34m\u001b[0m\n\u001b[0;32m----> 1\u001b[0;31m \u001b[0mnp\u001b[0m\u001b[0;34m.\u001b[0m\u001b[0msource\u001b[0m\u001b[0;34m(\u001b[0m\u001b[0mnp\u001b[0m\u001b[0;34m.\u001b[0m\u001b[0margmin\u001b[0m\u001b[0;34m(\u001b[0m\u001b[0;34m)\u001b[0m\u001b[0;34m)\u001b[0m\u001b[0;34m\u001b[0m\u001b[0;34m\u001b[0m\u001b[0m\n\u001b[0m",
            "\u001b[0;32m<__array_function__ internals>\u001b[0m in \u001b[0;36margmin\u001b[0;34m(*args, **kwargs)\u001b[0m\n",
            "\u001b[0;31mTypeError\u001b[0m: _argmin_dispatcher() missing 1 required positional argument: 'a'"
          ]
        }
      ]
    },
    {
      "cell_type": "code",
      "source": [],
      "metadata": {
        "id": "2Z-Z3gp6uKlC"
      },
      "execution_count": null,
      "outputs": []
    },
    {
      "cell_type": "code",
      "source": [
        "lst = [\n",
        "    [[3,8,6,44],[4,50,70,5],[85,65,95,8]],\n",
        "    [[71,1,7,21],[2,8,12,22],[16,1,18,15]]\n",
        "]"
      ],
      "metadata": {
        "id": "k0EhD-kFutn6"
      },
      "execution_count": 1,
      "outputs": []
    },
    {
      "cell_type": "code",
      "source": [
        "import numpy as np\n",
        "\n"
      ],
      "metadata": {
        "id": "dXl2CFUJRG4A"
      },
      "execution_count": 2,
      "outputs": []
    },
    {
      "cell_type": "code",
      "source": [
        "arr = np.array(lst)\n",
        "arr"
      ],
      "metadata": {
        "colab": {
          "base_uri": "https://localhost:8080/"
        },
        "id": "J2Ez1sxcRJ5p",
        "outputId": "ff2e1036-932f-4f82-e049-5453f2d3c76d"
      },
      "execution_count": 10,
      "outputs": [
        {
          "output_type": "execute_result",
          "data": {
            "text/plain": [
              "array([[[ 3,  8,  6, 44],\n",
              "        [ 4, 50, 70,  5],\n",
              "        [85, 65, 95,  8]],\n",
              "\n",
              "       [[71,  1,  7, 21],\n",
              "        [ 2,  8, 12, 22],\n",
              "        [16,  1, 18, 15]]])"
            ]
          },
          "metadata": {},
          "execution_count": 10
        }
      ]
    },
    {
      "cell_type": "code",
      "source": [
        "np.argmin(arr, axis = 0)   # col"
      ],
      "metadata": {
        "colab": {
          "base_uri": "https://localhost:8080/"
        },
        "id": "J23m1IcGRM1K",
        "outputId": "83b3ab80-6d95-4fc8-aebd-240353c90b45"
      },
      "execution_count": 11,
      "outputs": [
        {
          "output_type": "execute_result",
          "data": {
            "text/plain": [
              "array([[0, 1, 0, 1],\n",
              "       [1, 1, 1, 0],\n",
              "       [1, 1, 1, 0]])"
            ]
          },
          "metadata": {},
          "execution_count": 11
        }
      ]
    },
    {
      "cell_type": "code",
      "source": [
        "np.argmin(arr, axis=1)"
      ],
      "metadata": {
        "colab": {
          "base_uri": "https://localhost:8080/"
        },
        "id": "EKvir2PQRP_8",
        "outputId": "96ca6829-2d94-41f9-b44f-9f20f7bc2718"
      },
      "execution_count": 12,
      "outputs": [
        {
          "output_type": "execute_result",
          "data": {
            "text/plain": [
              "array([[0, 0, 0, 1],\n",
              "       [1, 0, 0, 2]])"
            ]
          },
          "metadata": {},
          "execution_count": 12
        }
      ]
    },
    {
      "cell_type": "code",
      "source": [
        "arr2 = np.array([[22,21],[1,2]])\n",
        "np.argmin(arr2, axis = 1)"
      ],
      "metadata": {
        "colab": {
          "base_uri": "https://localhost:8080/"
        },
        "id": "RJyuu4bKRR9R",
        "outputId": "ded4f252-2efc-4c08-ad58-d34c40e51af4"
      },
      "execution_count": 13,
      "outputs": [
        {
          "output_type": "execute_result",
          "data": {
            "text/plain": [
              "array([1, 0])"
            ]
          },
          "metadata": {},
          "execution_count": 13
        }
      ]
    },
    {
      "cell_type": "code",
      "source": [
        "def argmin(arr, axis = None):\n",
        "    if axis == None:\n",
        "        pass\n",
        "    else:\n",
        "        if arr.ndim > 2:\n",
        "            ans = []\n",
        "            if axis == 1:\n",
        "                # for00000 col in range(len(arr[0][0])):   # range(arr.shape[2])\n",
        "                    #  ans.append(argmin(arr))\n",
        "                for row in range(len(arr)):\n",
        "                    ans.append(argmin(arr[row], axis^1))\n",
        "                return ans\n",
        "            else:\n",
        "                for col in range(len(arr[])):\n",
        "                    # ans.append(argmin(arr[]))"
      ],
      "metadata": {
        "id": "GoRjP2rfUcn-"
      },
      "execution_count": null,
      "outputs": []
    },
    {
      "cell_type": "code",
      "source": [
        "arr"
      ],
      "metadata": {
        "colab": {
          "base_uri": "https://localhost:8080/"
        },
        "id": "1G3Qo1wCBuOG",
        "outputId": "7b4ae678-b017-4fa7-ca60-1d44dd48bf8e"
      },
      "execution_count": 15,
      "outputs": [
        {
          "output_type": "execute_result",
          "data": {
            "text/plain": [
              "array([[[ 3,  8,  6, 44],\n",
              "        [ 4, 50, 70,  5],\n",
              "        [85, 65, 95,  8]],\n",
              "\n",
              "       [[71,  1,  7, 21],\n",
              "        [ 2,  8, 12, 22],\n",
              "        [16,  1, 18, 15]]])"
            ]
          },
          "metadata": {},
          "execution_count": 15
        }
      ]
    },
    {
      "cell_type": "code",
      "source": [
        "ansFinal = []\n",
        "for i in range(arr.shape[0]):\n",
        "  ans = []\n",
        "  for k in range(arr.shape[2]):\n",
        "    print(arr[i,:,k])\n",
        "    min_value = arr[i,0,k]\n",
        "    min_idx = 0\n",
        "    for j in range(arr.shape[1]):\n",
        "      if min_value > arr[i,j,k] :\n",
        "        min_value = arr[i,j,k]\n",
        "        min_idx = j\n",
        "      \n",
        "    ans.append(min_idx)\n",
        "  ansFinal.append(ans)\n",
        "print(ansFinal)"
      ],
      "metadata": {
        "colab": {
          "base_uri": "https://localhost:8080/"
        },
        "id": "ZTl7Hu6EBu74",
        "outputId": "2d05de4d-d6ec-4123-9279-a80fea0ad479"
      },
      "execution_count": 29,
      "outputs": [
        {
          "output_type": "stream",
          "name": "stdout",
          "text": [
            "[ 3  4 85]\n",
            "[ 8 50 65]\n",
            "[ 6 70 95]\n",
            "[44  5  8]\n",
            "[71  2 16]\n",
            "[1 8 1]\n",
            "[ 7 12 18]\n",
            "[21 22 15]\n",
            "[[0, 0, 0, 1], [1, 0, 0, 2]]\n"
          ]
        }
      ]
    },
    {
      "cell_type": "code",
      "source": [
        "np.argmin(arr,axis = 1)"
      ],
      "metadata": {
        "colab": {
          "base_uri": "https://localhost:8080/"
        },
        "id": "kPV1FMc3CBrD",
        "outputId": "f4657150-747f-4f96-8b16-1dd21da1b757"
      },
      "execution_count": 21,
      "outputs": [
        {
          "output_type": "execute_result",
          "data": {
            "text/plain": [
              "array([[0, 0, 0, 1],\n",
              "       [1, 0, 0, 2]])"
            ]
          },
          "metadata": {},
          "execution_count": 21
        }
      ]
    },
    {
      "cell_type": "code",
      "source": [
        "arr[:,0]"
      ],
      "metadata": {
        "colab": {
          "base_uri": "https://localhost:8080/"
        },
        "id": "-AN3pEFOCiCl",
        "outputId": "1104029a-556f-4e7b-e7d6-1727dba2c6d7"
      },
      "execution_count": 24,
      "outputs": [
        {
          "output_type": "execute_result",
          "data": {
            "text/plain": [
              "array([[ 3,  8,  6, 44],\n",
              "       [71,  1,  7, 21]])"
            ]
          },
          "metadata": {},
          "execution_count": 24
        }
      ]
    },
    {
      "cell_type": "code",
      "source": [
        "arr.shape"
      ],
      "metadata": {
        "colab": {
          "base_uri": "https://localhost:8080/"
        },
        "id": "4PFok0InDCBk",
        "outputId": "63039a7b-a9d9-4eef-c6fd-ea36e227d1c3"
      },
      "execution_count": 25,
      "outputs": [
        {
          "output_type": "execute_result",
          "data": {
            "text/plain": [
              "(2, 3, 4)"
            ]
          },
          "metadata": {},
          "execution_count": 25
        }
      ]
    },
    {
      "cell_type": "code",
      "source": [],
      "metadata": {
        "id": "Z6y6i5mjDM8p"
      },
      "execution_count": null,
      "outputs": []
    }
  ]
}